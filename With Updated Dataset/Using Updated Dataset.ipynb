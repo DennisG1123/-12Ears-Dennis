{
 "cells": [
  {
   "cell_type": "markdown",
   "id": "4b9aea68-cc86-4fbb-981e-06dcc5f94d31",
   "metadata": {},
   "source": [
    "# Loading data, packages, and data preprocessing"
   ]
  },
  {
   "cell_type": "code",
   "execution_count": 1,
   "id": "c0690019-69f9-4759-91e9-549d248dac8c",
   "metadata": {},
   "outputs": [],
   "source": [
    "import pandas as pd\n",
    "import matplotlib.pyplot as plt\n",
    "import numpy as np\n",
    "from sklearn.linear_model import LogisticRegression\n",
    "from sklearn.metrics import accuracy_score, classification_report\n",
    "from sklearn.model_selection import train_test_split\n",
    "from imblearn.over_sampling import SMOTE\n",
    "import sklearn.metrics as metrics\n",
    "import operator\n",
    "from sklearn.preprocessing import StandardScaler\n",
    "from sklearn.model_selection import GridSearchCV\n",
    "from sklearn.model_selection import cross_val_score\n",
    "from sklearn.metrics import plot_confusion_matrix\n",
    "import seaborn as sns\n",
    "from sklearn.feature_selection import VarianceThreshold\n",
    "from sklearn.preprocessing import MinMaxScaler"
   ]
  },
  {
   "cell_type": "markdown",
   "id": "e224aff6-c56b-4be6-af87-8a07d4762f0d",
   "metadata": {},
   "source": [
    "## Smote Dataset"
   ]
  },
  {
   "cell_type": "code",
   "execution_count": 2,
   "id": "2683418d",
   "metadata": {},
   "outputs": [
    {
     "name": "stderr",
     "output_type": "stream",
     "text": [
      "C:\\Users\\Dennis\\anaconda3\\lib\\site-packages\\seaborn\\_decorators.py:36: FutureWarning: Pass the following variable as a keyword arg: x. From version 0.12, the only valid positional argument will be `data`, and passing other arguments without an explicit keyword will result in an error or misinterpretation.\n",
      "  warnings.warn(\n"
     ]
    },
    {
     "data": {
      "image/png": "[encoded data removed]",
      "text/plain": [
       "<Figure size 432x288 with 1 Axes>"
      ]
     },
     "metadata": {
      "needs_background": "light"
     },
     "output_type": "display_data"
    }
   ],
   "source": [
    "X_test1=pd.read_csv('C:\\\\Users\\\\Dennis\\\\Documents\\\\GitHub\\\\P1_Dennis\\\\With Updated Dataset\\\\02 - SMOTE\\\\X_test.csv')\n",
    "X_train1=pd.read_csv('C:\\\\Users\\\\Dennis\\\\Documents\\\\GitHub\\\\P1_Dennis\\\\With Updated Dataset\\\\02 - SMOTE\\\\X_train.csv')\n",
    "y_test1=pd.read_csv('C:\\\\Users\\\\Dennis\\\\Documents\\\\GitHub\\\\P1_Dennis\\\\With Updated Dataset\\\\02 - SMOTE\\\\y_test.csv')\n",
    "y_train1=pd.read_csv('C:\\\\Users\\\\Dennis\\\\Documents\\\\GitHub\\\\P1_Dennis\\\\With Updated Dataset\\\\02 - SMOTE\\\\y_train.csv')\n",
    "x_val1=pd.read_csv('C:\\\\Users\\\\Dennis\\\\Documents\\\\GitHub\\\\P1_Dennis\\\\With Updated Dataset\\\\02 - SMOTE\\\\X_val.csv')\n",
    "y_val1=pd.read_csv('C:\\\\Users\\\\Dennis\\\\Documents\\\\GitHub\\\\P1_Dennis\\\\With Updated Dataset\\\\02 - SMOTE\\\\y_val.csv')\n",
    "\n",
    "sns.countplot(y_train1['OverallPoF'],fill='OverallPoF')\n",
    "\n",
    "x_test1 = X_test1.drop(['Gender','AgeM','ECV','TPP','SC','OAE1','OAE1.4','OAE2','OAE2.8','OAE4','Ear coded'], axis = 1)\n",
    "x_train1 = X_train1.drop(['Gender','AgeM','ECV','TPP','SC','OAE1','OAE1.4','OAE2','OAE2.8','OAE4','Ear coded'], axis = 1)\n",
    "x_val1= x_val1.drop(['Gender','AgeM','ECV','TPP','SC','OAE1','OAE1.4','OAE2','OAE2.8','OAE4','Ear coded'], axis = 1)\n",
    "\n",
    "index= x_test1.columns.get_loc('fa8000')\n",
    "x_train1=x_train1.iloc[:,:107]\n",
    "x_test1=x_test1.iloc[:,:107]\n",
    "x_val1=x_val1.iloc[:,:107]\n",
    "columns=x_train1.columns"
   ]
  },
  {
   "cell_type": "markdown",
   "id": "027cf236-e1c2-4b81-b788-b295feb3cd8a",
   "metadata": {},
   "source": [
    "## SMOTEENN"
   ]
  },
  {
   "cell_type": "code",
   "execution_count": 3,
   "id": "2ec16f6e-b118-4f51-8a10-f27fd3e266f1",
   "metadata": {},
   "outputs": [
    {
     "name": "stderr",
     "output_type": "stream",
     "text": [
      "C:\\Users\\Dennis\\anaconda3\\lib\\site-packages\\seaborn\\_decorators.py:36: FutureWarning: Pass the following variable as a keyword arg: x. From version 0.12, the only valid positional argument will be `data`, and passing other arguments without an explicit keyword will result in an error or misinterpretation.\n",
      "  warnings.warn(\n"
     ]
    },
    {
     "data": {
      "image/png": "[encoded data removed]",
      "text/plain": [
       "<Figure size 432x288 with 1 Axes>"
      ]
     },
     "metadata": {
      "needs_background": "light"
     },
     "output_type": "display_data"
    }
   ],
   "source": [
    "X_test2=pd.read_csv('C:\\\\Users\\\\Dennis\\\\Documents\\\\GitHub\\\\P1_Dennis\\\\With Updated Dataset\\\\03 - SMOTEENN\\\\X_test.csv')\n",
    "X_train2=pd.read_csv('C:\\\\Users\\\\Dennis\\\\Documents\\\\GitHub\\\\P1_Dennis\\\\With Updated Dataset\\\\03 - SMOTEENN\\\\X_train.csv')\n",
    "y_test2=pd.read_csv('C:\\\\Users\\\\Dennis\\\\Documents\\\\GitHub\\\\P1_Dennis\\\\With Updated Dataset\\\\03 - SMOTEENN\\\\y_test.csv')\n",
    "y_train2=pd.read_csv('C:\\\\Users\\\\Dennis\\\\Documents\\\\GitHub\\\\P1_Dennis\\\\With Updated Dataset\\\\03 - SMOTEENN\\\\y_train.csv')\n",
    "x_val2=pd.read_csv('C:\\\\Users\\\\Dennis\\\\Documents\\\\GitHub\\\\P1_Dennis\\\\With Updated Dataset\\\\03 - SMOTEENN\\\\X_val.csv')\n",
    "y_val2=pd.read_csv('C:\\\\Users\\\\Dennis\\\\Documents\\\\GitHub\\\\P1_Dennis\\\\With Updated Dataset\\\\03 - SMOTEENN\\\\y_val.csv')\n",
    "\n",
    "sns.countplot(y_train2['OverallPoF'],fill='OverallPoF')\n",
    "\n",
    "x_test2 = X_test2.drop(['Gender','AgeM','ECV','TPP','SC','OAE1','OAE1.4','OAE2','OAE2.8','OAE4','Ear coded'], axis = 1)\n",
    "x_train2 = X_train2.drop(['Gender','AgeM','ECV','TPP','SC','OAE1','OAE1.4','OAE2','OAE2.8','OAE4','Ear coded'], axis = 1)\n",
    "x_val2 = x_val2.drop(['Gender','AgeM','ECV','TPP','SC','OAE1','OAE1.4','OAE2','OAE2.8','OAE4','Ear coded'], axis = 1)\n",
    "\n",
    "index= x_test2.columns.get_loc('fa8000')\n",
    "x_train2=x_train2.iloc[:,:107]\n",
    "x_test2=x_test2.iloc[:,:107]\n",
    "x_val2=x_val2.iloc[:,:107]"
   ]
  },
  {
   "cell_type": "markdown",
   "id": "c7bde66f-1c68-48d8-9cd3-2919fc6d8c19",
   "metadata": {},
   "source": [
    "## SMOTE TOMEK"
   ]
  },
  {
   "cell_type": "code",
   "execution_count": 4,
   "id": "df7b3193-c7eb-460a-b88f-6afe5a53d960",
   "metadata": {},
   "outputs": [
    {
     "name": "stderr",
     "output_type": "stream",
     "text": [
      "C:\\Users\\Dennis\\anaconda3\\lib\\site-packages\\seaborn\\_decorators.py:36: FutureWarning: Pass the following variable as a keyword arg: x. From version 0.12, the only valid positional argument will be `data`, and passing other arguments without an explicit keyword will result in an error or misinterpretation.\n",
      "  warnings.warn(\n"
     ]
    },
    {
     "data": {
      "image/png": "[encoded data removed]",
      "text/plain": [
       "<Figure size 432x288 with 1 Axes>"
      ]
     },
     "metadata": {
      "needs_background": "light"
     },
     "output_type": "display_data"
    }
   ],
   "source": [
    "X_test3=pd.read_csv('C:\\\\Users\\\\Dennis\\\\Documents\\\\GitHub\\\\P1_Dennis\\\\With Updated Dataset\\\\04 - SMOTETomek\\\\X_test.csv')\n",
    "X_train3=pd.read_csv('C:\\\\Users\\\\Dennis\\\\Documents\\\\GitHub\\\\P1_Dennis\\\\With Updated Dataset\\\\04 - SMOTETomek\\\\X_train.csv')\n",
    "y_test3=pd.read_csv('C:\\\\Users\\\\Dennis\\\\Documents\\\\GitHub\\\\P1_Dennis\\\\With Updated Dataset\\\\04 - SMOTETomek\\\\y_test.csv')\n",
    "y_train3=pd.read_csv('C:\\\\Users\\\\Dennis\\\\Documents\\\\GitHub\\\\P1_Dennis\\\\With Updated Dataset\\\\04 - SMOTETomek\\\\y_train.csv')\n",
    "x_val3=pd.read_csv('C:\\\\Users\\\\Dennis\\\\Documents\\\\GitHub\\\\P1_Dennis\\\\With Updated Dataset\\\\04 - SMOTETomek\\\\X_val.csv')\n",
    "y_val3=pd.read_csv('C:\\\\Users\\\\Dennis\\\\Documents\\\\GitHub\\\\P1_Dennis\\\\With Updated Dataset\\\\04 - SMOTETomek\\\\y_val.csv')\n",
    "\n",
    "sns.countplot(y_train3['OverallPoF'],fill='OverallPoF')\n",
    "\n",
    "x_test3 = X_test3.drop(['Gender','AgeM','ECV','TPP','SC','OAE1','OAE1.4','OAE2','OAE2.8','OAE4','Ear coded'], axis = 1)\n",
    "x_train3 = X_train3.drop(['Gender','AgeM','ECV','TPP','SC','OAE1','OAE1.4','OAE2','OAE2.8','OAE4','Ear coded'], axis = 1)\n",
    "x_val3 = x_val3.drop(['Gender','AgeM','ECV','TPP','SC','OAE1','OAE1.4','OAE2','OAE2.8','OAE4','Ear coded'], axis = 1)\n",
    "\n",
    "index= x_test3.columns.get_loc('fa8000')\n",
    "x_train3=x_train3.iloc[:,:107]\n",
    "x_test3=x_test3.iloc[:,:107]\n",
    "x_val3=x_val3.iloc[:,:107]"
   ]
  },
  {
   "cell_type": "markdown",
   "id": "62127ecd",
   "metadata": {},
   "source": [
    "# Scaling and Gridsearch"
   ]
  },
  {
   "cell_type": "markdown",
   "id": "d8b35e5e-b945-478d-bcf7-a97bf37a1dd1",
   "metadata": {},
   "source": [
    "## Scaling Each Dataset with a Standard Scaler"
   ]
  },
  {
   "cell_type": "code",
   "execution_count": 304,
   "id": "f9a9180f",
   "metadata": {},
   "outputs": [],
   "source": [
    "# define standard scaler\n",
    "scaler = StandardScaler()\n",
    "\n",
    "# transforming the data for the test dataset\n",
    "x_test1 = scaler.fit_transform(x_test1)\n",
    "x_test2 = scaler.fit_transform(x_test2)\n",
    "x_test3 = scaler.fit_transform(x_test3)\n",
    "\n",
    "# transforming the data for the training dataset\n",
    "x_train1 = scaler.fit_transform(x_train1)\n",
    "x_train2 = scaler.fit_transform(x_train2)\n",
    "x_train3 = scaler.fit_transform(x_train3)\n",
    "\n",
    "# transforming the data for the validation dataset\n",
    "x_val1 = scaler.fit_transform(x_val1)\n",
    "x_val2 = scaler.fit_transform(x_val2)\n",
    "x_val3 = scaler.fit_transform(x_val3)"
   ]
  },
  {
   "cell_type": "markdown",
   "id": "27fd76ad-15ea-4539-9786-05a81be9d2c6",
   "metadata": {},
   "source": [
    "## Grid Search to determine best penalty (for elastic net)"
   ]
  },
  {
   "cell_type": "markdown",
   "id": "17cbda3e-0e5e-4430-a7c3-3aa9355baa44",
   "metadata": {},
   "source": [
    "### Using SMOTE"
   ]
  },
  {
   "cell_type": "code",
   "execution_count": 288,
   "id": "219ca3e0",
   "metadata": {},
   "outputs": [
    {
     "data": {
      "text/html": [
       "<style>#sk-container-id-8 {color: black;background-color: white;}#sk-container-id-8 pre{padding: 0;}#sk-container-id-8 div.sk-toggleable {background-color: white;}#sk-container-id-8 label.sk-toggleable__label {cursor: pointer;display: block;width: 100%;margin-bottom: 0;padding: 0.3em;box-sizing: border-box;text-align: center;}#sk-container-id-8 label.sk-toggleable__label-arrow:before {content: \"▸\";float: left;margin-right: 0.25em;color: #696969;}#sk-container-id-8 label.sk-toggleable__label-arrow:hover:before {color: black;}#sk-container-id-8 div.sk-estimator:hover label.sk-toggleable__label-arrow:before {color: black;}#sk-container-id-8 div.sk-toggleable__content {max-height: 0;max-width: 0;overflow: hidden;text-align: left;background-color: #f0f8ff;}#sk-container-id-8 div.sk-toggleable__content pre {margin: 0.2em;color: black;border-radius: 0.25em;background-color: #f0f8ff;}#sk-container-id-8 input.sk-toggleable__control:checked~div.sk-toggleable__content {max-height: 200px;max-width: 100%;overflow: auto;}#sk-container-id-8 input.sk-toggleable__control:checked~label.sk-toggleable__label-arrow:before {content: \"▾\";}#sk-container-id-8 div.sk-estimator input.sk-toggleable__control:checked~label.sk-toggleable__label {background-color: #d4ebff;}#sk-container-id-8 div.sk-label input.sk-toggleable__control:checked~label.sk-toggleable__label {background-color: #d4ebff;}#sk-container-id-8 input.sk-hidden--visually {border: 0;clip: rect(1px 1px 1px 1px);clip: rect(1px, 1px, 1px, 1px);height: 1px;margin: -1px;overflow: hidden;padding: 0;position: absolute;width: 1px;}#sk-container-id-8 div.sk-estimator {font-family: monospace;background-color: #f0f8ff;border: 1px dotted black;border-radius: 0.25em;box-sizing: border-box;margin-bottom: 0.5em;}#sk-container-id-8 div.sk-estimator:hover {background-color: #d4ebff;}#sk-container-id-8 div.sk-parallel-item::after {content: \"\";width: 100%;border-bottom: 1px solid gray;flex-grow: 1;}#sk-container-id-8 div.sk-label:hover label.sk-toggleable__label {background-color: #d4ebff;}#sk-container-id-8 div.sk-serial::before {content: \"\";position: absolute;border-left: 1px solid gray;box-sizing: border-box;top: 0;bottom: 0;left: 50%;z-index: 0;}#sk-container-id-8 div.sk-serial {display: flex;flex-direction: column;align-items: center;background-color: white;padding-right: 0.2em;padding-left: 0.2em;position: relative;}#sk-container-id-8 div.sk-item {position: relative;z-index: 1;}#sk-container-id-8 div.sk-parallel {display: flex;align-items: stretch;justify-content: center;background-color: white;position: relative;}#sk-container-id-8 div.sk-item::before, #sk-container-id-8 div.sk-parallel-item::before {content: \"\";position: absolute;border-left: 1px solid gray;box-sizing: border-box;top: 0;bottom: 0;left: 50%;z-index: -1;}#sk-container-id-8 div.sk-parallel-item {display: flex;flex-direction: column;z-index: 1;position: relative;background-color: white;}#sk-container-id-8 div.sk-parallel-item:first-child::after {align-self: flex-end;width: 50%;}#sk-container-id-8 div.sk-parallel-item:last-child::after {align-self: flex-start;width: 50%;}#sk-container-id-8 div.sk-parallel-item:only-child::after {width: 0;}#sk-container-id-8 div.sk-dashed-wrapped {border: 1px dashed gray;margin: 0 0.4em 0.5em 0.4em;box-sizing: border-box;padding-bottom: 0.4em;background-color: white;}#sk-container-id-8 div.sk-label label {font-family: monospace;font-weight: bold;display: inline-block;line-height: 1.2em;}#sk-container-id-8 div.sk-label-container {text-align: center;}#sk-container-id-8 div.sk-container {/* jupyter's `normalize.less` sets `[hidden] { display: none; }` but bootstrap.min.css set `[hidden] { display: none !important; }` so we also need the `!important` here to be able to override the default hidden behavior on the sphinx rendered scikit-learn.org. See: https://github.com/scikit-learn/scikit-learn/issues/21755 */display: inline-block !important;position: relative;}#sk-container-id-8 div.sk-text-repr-fallback {display: none;}</style><div id=\"sk-container-id-8\" class=\"sk-top-container\"><div class=\"sk-text-repr-fallback\"><pre>GridSearchCV(estimator=LogisticRegression(),\n",
       "             param_grid={&#x27;l1_ratio&#x27;: [0, 0.1, 0.2, 0.3, 0.4, 0.5, 0.6, 0.7, 0.8,\n",
       "                                      0.9, 1],\n",
       "                         &#x27;max_iter&#x27;: [5000], &#x27;penalty&#x27;: [&#x27;elasticnet&#x27;],\n",
       "                         &#x27;solver&#x27;: [&#x27;saga&#x27;]})</pre><b>In a Jupyter environment, please rerun this cell to show the HTML representation or trust the notebook. <br />On GitHub, the HTML representation is unable to render, please try loading this page with nbviewer.org.</b></div><div class=\"sk-container\" hidden><div class=\"sk-item sk-dashed-wrapped\"><div class=\"sk-label-container\"><div class=\"sk-label sk-toggleable\"><input class=\"sk-toggleable__control sk-hidden--visually\" id=\"sk-estimator-id-22\" type=\"checkbox\" ><label for=\"sk-estimator-id-22\" class=\"sk-toggleable__label sk-toggleable__label-arrow\">GridSearchCV</label><div class=\"sk-toggleable__content\"><pre>GridSearchCV(estimator=LogisticRegression(),\n",
       "             param_grid={&#x27;l1_ratio&#x27;: [0, 0.1, 0.2, 0.3, 0.4, 0.5, 0.6, 0.7, 0.8,\n",
       "                                      0.9, 1],\n",
       "                         &#x27;max_iter&#x27;: [5000], &#x27;penalty&#x27;: [&#x27;elasticnet&#x27;],\n",
       "                         &#x27;solver&#x27;: [&#x27;saga&#x27;]})</pre></div></div></div><div class=\"sk-parallel\"><div class=\"sk-parallel-item\"><div class=\"sk-item\"><div class=\"sk-label-container\"><div class=\"sk-label sk-toggleable\"><input class=\"sk-toggleable__control sk-hidden--visually\" id=\"sk-estimator-id-23\" type=\"checkbox\" ><label for=\"sk-estimator-id-23\" class=\"sk-toggleable__label sk-toggleable__label-arrow\">estimator: LogisticRegression</label><div class=\"sk-toggleable__content\"><pre>LogisticRegression()</pre></div></div></div><div class=\"sk-serial\"><div class=\"sk-item\"><div class=\"sk-estimator sk-toggleable\"><input class=\"sk-toggleable__control sk-hidden--visually\" id=\"sk-estimator-id-24\" type=\"checkbox\" ><label for=\"sk-estimator-id-24\" class=\"sk-toggleable__label sk-toggleable__label-arrow\">LogisticRegression</label><div class=\"sk-toggleable__content\"><pre>LogisticRegression()</pre></div></div></div></div></div></div></div></div></div></div>"
      ],
      "text/plain": [
       "GridSearchCV(estimator=LogisticRegression(),\n",
       "             param_grid={'l1_ratio': [0, 0.1, 0.2, 0.3, 0.4, 0.5, 0.6, 0.7, 0.8,\n",
       "                                      0.9, 1],\n",
       "                         'max_iter': [5000], 'penalty': ['elasticnet'],\n",
       "                         'solver': ['saga']})"
      ]
     },
     "execution_count": 288,
     "metadata": {},
     "output_type": "execute_result"
    }
   ],
   "source": [
    "#initializing grid search and fitting with parameters\n",
    "parameters = { 'penalty':['elasticnet'],'solver':['saga']\n",
    "              ,'l1_ratio':[0,0.1,0.2,0.3,0.4,0.5,0.6,0.7,0.8,0.9,1],'max_iter':[5000]}\n",
    "logModel = LogisticRegression()\n",
    "\n",
    "#conducting grid search to find the best l1 ratio\n",
    "gridTrain = GridSearchCV (logModel , parameters)\n",
    "gridTrain.fit (x_train1,y_train1.values.ravel())"
   ]
  },
  {
   "cell_type": "code",
   "execution_count": 289,
   "id": "d6be05e1",
   "metadata": {},
   "outputs": [
    {
     "name": "stdout",
     "output_type": "stream",
     "text": [
      "{'l1_ratio': 0, 'max_iter': 5000, 'penalty': 'elasticnet', 'solver': 'saga'}\n"
     ]
    }
   ],
   "source": [
    "print(gridTrain.best_params_)"
   ]
  },
  {
   "cell_type": "markdown",
   "id": "73106fbc-42b0-423c-aa27-d20aab39b5d0",
   "metadata": {},
   "source": [
    "### Using SMOTEENN"
   ]
  },
  {
   "cell_type": "code",
   "execution_count": 290,
   "id": "e8703e2e-652a-4862-a372-7babf4b442b8",
   "metadata": {},
   "outputs": [
    {
     "data": {
      "text/html": [
       "<style>#sk-container-id-9 {color: black;background-color: white;}#sk-container-id-9 pre{padding: 0;}#sk-container-id-9 div.sk-toggleable {background-color: white;}#sk-container-id-9 label.sk-toggleable__label {cursor: pointer;display: block;width: 100%;margin-bottom: 0;padding: 0.3em;box-sizing: border-box;text-align: center;}#sk-container-id-9 label.sk-toggleable__label-arrow:before {content: \"▸\";float: left;margin-right: 0.25em;color: #696969;}#sk-container-id-9 label.sk-toggleable__label-arrow:hover:before {color: black;}#sk-container-id-9 div.sk-estimator:hover label.sk-toggleable__label-arrow:before {color: black;}#sk-container-id-9 div.sk-toggleable__content {max-height: 0;max-width: 0;overflow: hidden;text-align: left;background-color: #f0f8ff;}#sk-container-id-9 div.sk-toggleable__content pre {margin: 0.2em;color: black;border-radius: 0.25em;background-color: #f0f8ff;}#sk-container-id-9 input.sk-toggleable__control:checked~div.sk-toggleable__content {max-height: 200px;max-width: 100%;overflow: auto;}#sk-container-id-9 input.sk-toggleable__control:checked~label.sk-toggleable__label-arrow:before {content: \"▾\";}#sk-container-id-9 div.sk-estimator input.sk-toggleable__control:checked~label.sk-toggleable__label {background-color: #d4ebff;}#sk-container-id-9 div.sk-label input.sk-toggleable__control:checked~label.sk-toggleable__label {background-color: #d4ebff;}#sk-container-id-9 input.sk-hidden--visually {border: 0;clip: rect(1px 1px 1px 1px);clip: rect(1px, 1px, 1px, 1px);height: 1px;margin: -1px;overflow: hidden;padding: 0;position: absolute;width: 1px;}#sk-container-id-9 div.sk-estimator {font-family: monospace;background-color: #f0f8ff;border: 1px dotted black;border-radius: 0.25em;box-sizing: border-box;margin-bottom: 0.5em;}#sk-container-id-9 div.sk-estimator:hover {background-color: #d4ebff;}#sk-container-id-9 div.sk-parallel-item::after {content: \"\";width: 100%;border-bottom: 1px solid gray;flex-grow: 1;}#sk-container-id-9 div.sk-label:hover label.sk-toggleable__label {background-color: #d4ebff;}#sk-container-id-9 div.sk-serial::before {content: \"\";position: absolute;border-left: 1px solid gray;box-sizing: border-box;top: 0;bottom: 0;left: 50%;z-index: 0;}#sk-container-id-9 div.sk-serial {display: flex;flex-direction: column;align-items: center;background-color: white;padding-right: 0.2em;padding-left: 0.2em;position: relative;}#sk-container-id-9 div.sk-item {position: relative;z-index: 1;}#sk-container-id-9 div.sk-parallel {display: flex;align-items: stretch;justify-content: center;background-color: white;position: relative;}#sk-container-id-9 div.sk-item::before, #sk-container-id-9 div.sk-parallel-item::before {content: \"\";position: absolute;border-left: 1px solid gray;box-sizing: border-box;top: 0;bottom: 0;left: 50%;z-index: -1;}#sk-container-id-9 div.sk-parallel-item {display: flex;flex-direction: column;z-index: 1;position: relative;background-color: white;}#sk-container-id-9 div.sk-parallel-item:first-child::after {align-self: flex-end;width: 50%;}#sk-container-id-9 div.sk-parallel-item:last-child::after {align-self: flex-start;width: 50%;}#sk-container-id-9 div.sk-parallel-item:only-child::after {width: 0;}#sk-container-id-9 div.sk-dashed-wrapped {border: 1px dashed gray;margin: 0 0.4em 0.5em 0.4em;box-sizing: border-box;padding-bottom: 0.4em;background-color: white;}#sk-container-id-9 div.sk-label label {font-family: monospace;font-weight: bold;display: inline-block;line-height: 1.2em;}#sk-container-id-9 div.sk-label-container {text-align: center;}#sk-container-id-9 div.sk-container {/* jupyter's `normalize.less` sets `[hidden] { display: none; }` but bootstrap.min.css set `[hidden] { display: none !important; }` so we also need the `!important` here to be able to override the default hidden behavior on the sphinx rendered scikit-learn.org. See: https://github.com/scikit-learn/scikit-learn/issues/21755 */display: inline-block !important;position: relative;}#sk-container-id-9 div.sk-text-repr-fallback {display: none;}</style><div id=\"sk-container-id-9\" class=\"sk-top-container\"><div class=\"sk-text-repr-fallback\"><pre>GridSearchCV(estimator=LogisticRegression(),\n",
       "             param_grid={&#x27;l1_ratio&#x27;: [0, 0.1, 0.2, 0.3, 0.4, 0.5, 0.6, 0.7, 0.8,\n",
       "                                      0.9, 1],\n",
       "                         &#x27;max_iter&#x27;: [6000], &#x27;penalty&#x27;: [&#x27;elasticnet&#x27;],\n",
       "                         &#x27;solver&#x27;: [&#x27;saga&#x27;]})</pre><b>In a Jupyter environment, please rerun this cell to show the HTML representation or trust the notebook. <br />On GitHub, the HTML representation is unable to render, please try loading this page with nbviewer.org.</b></div><div class=\"sk-container\" hidden><div class=\"sk-item sk-dashed-wrapped\"><div class=\"sk-label-container\"><div class=\"sk-label sk-toggleable\"><input class=\"sk-toggleable__control sk-hidden--visually\" id=\"sk-estimator-id-25\" type=\"checkbox\" ><label for=\"sk-estimator-id-25\" class=\"sk-toggleable__label sk-toggleable__label-arrow\">GridSearchCV</label><div class=\"sk-toggleable__content\"><pre>GridSearchCV(estimator=LogisticRegression(),\n",
       "             param_grid={&#x27;l1_ratio&#x27;: [0, 0.1, 0.2, 0.3, 0.4, 0.5, 0.6, 0.7, 0.8,\n",
       "                                      0.9, 1],\n",
       "                         &#x27;max_iter&#x27;: [6000], &#x27;penalty&#x27;: [&#x27;elasticnet&#x27;],\n",
       "                         &#x27;solver&#x27;: [&#x27;saga&#x27;]})</pre></div></div></div><div class=\"sk-parallel\"><div class=\"sk-parallel-item\"><div class=\"sk-item\"><div class=\"sk-label-container\"><div class=\"sk-label sk-toggleable\"><input class=\"sk-toggleable__control sk-hidden--visually\" id=\"sk-estimator-id-26\" type=\"checkbox\" ><label for=\"sk-estimator-id-26\" class=\"sk-toggleable__label sk-toggleable__label-arrow\">estimator: LogisticRegression</label><div class=\"sk-toggleable__content\"><pre>LogisticRegression()</pre></div></div></div><div class=\"sk-serial\"><div class=\"sk-item\"><div class=\"sk-estimator sk-toggleable\"><input class=\"sk-toggleable__control sk-hidden--visually\" id=\"sk-estimator-id-27\" type=\"checkbox\" ><label for=\"sk-estimator-id-27\" class=\"sk-toggleable__label sk-toggleable__label-arrow\">LogisticRegression</label><div class=\"sk-toggleable__content\"><pre>LogisticRegression()</pre></div></div></div></div></div></div></div></div></div></div>"
      ],
      "text/plain": [
       "GridSearchCV(estimator=LogisticRegression(),\n",
       "             param_grid={'l1_ratio': [0, 0.1, 0.2, 0.3, 0.4, 0.5, 0.6, 0.7, 0.8,\n",
       "                                      0.9, 1],\n",
       "                         'max_iter': [6000], 'penalty': ['elasticnet'],\n",
       "                         'solver': ['saga']})"
      ]
     },
     "execution_count": 290,
     "metadata": {},
     "output_type": "execute_result"
    }
   ],
   "source": [
    "#initializing grid search and fitting with parameters\n",
    "parameters = { 'penalty':['elasticnet'],'solver':['saga']\n",
    "              ,'l1_ratio':[0,0.1,0.2,0.3,0.4,0.5,0.6,0.7,0.8,0.9,1],'max_iter':[6000]}\n",
    "logModel = LogisticRegression()\n",
    "\n",
    "#conducting grid search to find the best l1 ratio\n",
    "gridTrain = GridSearchCV (logModel , parameters)\n",
    "gridTrain.fit (x_train2,y_train2.values.ravel())"
   ]
  },
  {
   "cell_type": "code",
   "execution_count": 291,
   "id": "f5eb714a-01ef-4b76-a594-b5d989e26e63",
   "metadata": {},
   "outputs": [
    {
     "name": "stdout",
     "output_type": "stream",
     "text": [
      "{'l1_ratio': 0, 'max_iter': 6000, 'penalty': 'elasticnet', 'solver': 'saga'}\n"
     ]
    }
   ],
   "source": [
    "print(gridTrain.best_params_)"
   ]
  },
  {
   "cell_type": "markdown",
   "id": "cc75fd29-1c39-43b2-a8bb-dcee7b3c7312",
   "metadata": {},
   "source": [
    "### Using SMOTETomek"
   ]
  },
  {
   "cell_type": "code",
   "execution_count": 292,
   "id": "1df23daa-c135-4c13-a73c-900681e624c5",
   "metadata": {},
   "outputs": [
    {
     "data": {
      "text/html": [
       "<style>#sk-container-id-10 {color: black;background-color: white;}#sk-container-id-10 pre{padding: 0;}#sk-container-id-10 div.sk-toggleable {background-color: white;}#sk-container-id-10 label.sk-toggleable__label {cursor: pointer;display: block;width: 100%;margin-bottom: 0;padding: 0.3em;box-sizing: border-box;text-align: center;}#sk-container-id-10 label.sk-toggleable__label-arrow:before {content: \"▸\";float: left;margin-right: 0.25em;color: #696969;}#sk-container-id-10 label.sk-toggleable__label-arrow:hover:before {color: black;}#sk-container-id-10 div.sk-estimator:hover label.sk-toggleable__label-arrow:before {color: black;}#sk-container-id-10 div.sk-toggleable__content {max-height: 0;max-width: 0;overflow: hidden;text-align: left;background-color: #f0f8ff;}#sk-container-id-10 div.sk-toggleable__content pre {margin: 0.2em;color: black;border-radius: 0.25em;background-color: #f0f8ff;}#sk-container-id-10 input.sk-toggleable__control:checked~div.sk-toggleable__content {max-height: 200px;max-width: 100%;overflow: auto;}#sk-container-id-10 input.sk-toggleable__control:checked~label.sk-toggleable__label-arrow:before {content: \"▾\";}#sk-container-id-10 div.sk-estimator input.sk-toggleable__control:checked~label.sk-toggleable__label {background-color: #d4ebff;}#sk-container-id-10 div.sk-label input.sk-toggleable__control:checked~label.sk-toggleable__label {background-color: #d4ebff;}#sk-container-id-10 input.sk-hidden--visually {border: 0;clip: rect(1px 1px 1px 1px);clip: rect(1px, 1px, 1px, 1px);height: 1px;margin: -1px;overflow: hidden;padding: 0;position: absolute;width: 1px;}#sk-container-id-10 div.sk-estimator {font-family: monospace;background-color: #f0f8ff;border: 1px dotted black;border-radius: 0.25em;box-sizing: border-box;margin-bottom: 0.5em;}#sk-container-id-10 div.sk-estimator:hover {background-color: #d4ebff;}#sk-container-id-10 div.sk-parallel-item::after {content: \"\";width: 100%;border-bottom: 1px solid gray;flex-grow: 1;}#sk-container-id-10 div.sk-label:hover label.sk-toggleable__label {background-color: #d4ebff;}#sk-container-id-10 div.sk-serial::before {content: \"\";position: absolute;border-left: 1px solid gray;box-sizing: border-box;top: 0;bottom: 0;left: 50%;z-index: 0;}#sk-container-id-10 div.sk-serial {display: flex;flex-direction: column;align-items: center;background-color: white;padding-right: 0.2em;padding-left: 0.2em;position: relative;}#sk-container-id-10 div.sk-item {position: relative;z-index: 1;}#sk-container-id-10 div.sk-parallel {display: flex;align-items: stretch;justify-content: center;background-color: white;position: relative;}#sk-container-id-10 div.sk-item::before, #sk-container-id-10 div.sk-parallel-item::before {content: \"\";position: absolute;border-left: 1px solid gray;box-sizing: border-box;top: 0;bottom: 0;left: 50%;z-index: -1;}#sk-container-id-10 div.sk-parallel-item {display: flex;flex-direction: column;z-index: 1;position: relative;background-color: white;}#sk-container-id-10 div.sk-parallel-item:first-child::after {align-self: flex-end;width: 50%;}#sk-container-id-10 div.sk-parallel-item:last-child::after {align-self: flex-start;width: 50%;}#sk-container-id-10 div.sk-parallel-item:only-child::after {width: 0;}#sk-container-id-10 div.sk-dashed-wrapped {border: 1px dashed gray;margin: 0 0.4em 0.5em 0.4em;box-sizing: border-box;padding-bottom: 0.4em;background-color: white;}#sk-container-id-10 div.sk-label label {font-family: monospace;font-weight: bold;display: inline-block;line-height: 1.2em;}#sk-container-id-10 div.sk-label-container {text-align: center;}#sk-container-id-10 div.sk-container {/* jupyter's `normalize.less` sets `[hidden] { display: none; }` but bootstrap.min.css set `[hidden] { display: none !important; }` so we also need the `!important` here to be able to override the default hidden behavior on the sphinx rendered scikit-learn.org. See: https://github.com/scikit-learn/scikit-learn/issues/21755 */display: inline-block !important;position: relative;}#sk-container-id-10 div.sk-text-repr-fallback {display: none;}</style><div id=\"sk-container-id-10\" class=\"sk-top-container\"><div class=\"sk-text-repr-fallback\"><pre>GridSearchCV(estimator=LogisticRegression(),\n",
       "             param_grid={&#x27;l1_ratio&#x27;: [0, 0.1, 0.2, 0.3, 0.4, 0.5, 0.6, 0.7, 0.8,\n",
       "                                      0.9, 1],\n",
       "                         &#x27;max_iter&#x27;: [5000], &#x27;penalty&#x27;: [&#x27;elasticnet&#x27;],\n",
       "                         &#x27;solver&#x27;: [&#x27;saga&#x27;]})</pre><b>In a Jupyter environment, please rerun this cell to show the HTML representation or trust the notebook. <br />On GitHub, the HTML representation is unable to render, please try loading this page with nbviewer.org.</b></div><div class=\"sk-container\" hidden><div class=\"sk-item sk-dashed-wrapped\"><div class=\"sk-label-container\"><div class=\"sk-label sk-toggleable\"><input class=\"sk-toggleable__control sk-hidden--visually\" id=\"sk-estimator-id-28\" type=\"checkbox\" ><label for=\"sk-estimator-id-28\" class=\"sk-toggleable__label sk-toggleable__label-arrow\">GridSearchCV</label><div class=\"sk-toggleable__content\"><pre>GridSearchCV(estimator=LogisticRegression(),\n",
       "             param_grid={&#x27;l1_ratio&#x27;: [0, 0.1, 0.2, 0.3, 0.4, 0.5, 0.6, 0.7, 0.8,\n",
       "                                      0.9, 1],\n",
       "                         &#x27;max_iter&#x27;: [5000], &#x27;penalty&#x27;: [&#x27;elasticnet&#x27;],\n",
       "                         &#x27;solver&#x27;: [&#x27;saga&#x27;]})</pre></div></div></div><div class=\"sk-parallel\"><div class=\"sk-parallel-item\"><div class=\"sk-item\"><div class=\"sk-label-container\"><div class=\"sk-label sk-toggleable\"><input class=\"sk-toggleable__control sk-hidden--visually\" id=\"sk-estimator-id-29\" type=\"checkbox\" ><label for=\"sk-estimator-id-29\" class=\"sk-toggleable__label sk-toggleable__label-arrow\">estimator: LogisticRegression</label><div class=\"sk-toggleable__content\"><pre>LogisticRegression()</pre></div></div></div><div class=\"sk-serial\"><div class=\"sk-item\"><div class=\"sk-estimator sk-toggleable\"><input class=\"sk-toggleable__control sk-hidden--visually\" id=\"sk-estimator-id-30\" type=\"checkbox\" ><label for=\"sk-estimator-id-30\" class=\"sk-toggleable__label sk-toggleable__label-arrow\">LogisticRegression</label><div class=\"sk-toggleable__content\"><pre>LogisticRegression()</pre></div></div></div></div></div></div></div></div></div></div>"
      ],
      "text/plain": [
       "GridSearchCV(estimator=LogisticRegression(),\n",
       "             param_grid={'l1_ratio': [0, 0.1, 0.2, 0.3, 0.4, 0.5, 0.6, 0.7, 0.8,\n",
       "                                      0.9, 1],\n",
       "                         'max_iter': [5000], 'penalty': ['elasticnet'],\n",
       "                         'solver': ['saga']})"
      ]
     },
     "execution_count": 292,
     "metadata": {},
     "output_type": "execute_result"
    }
   ],
   "source": [
    "#initializing grid search and fitting with parameters\n",
    "parameters = { 'penalty':['elasticnet'],'solver':['saga']\n",
    "              ,'l1_ratio':[0,0.1,0.2,0.3,0.4,0.5,0.6,0.7,0.8,0.9,1],'max_iter':[5000]}\n",
    "logModel = LogisticRegression()\n",
    "\n",
    "#conducting grid search to find the best l1 ratio\n",
    "gridTrain = GridSearchCV (logModel , parameters)\n",
    "gridTrain.fit (x_train3,y_train3.values.ravel())"
   ]
  },
  {
   "cell_type": "code",
   "execution_count": 293,
   "id": "a7c0a8df-00ef-4c72-ba69-7f42ee132dba",
   "metadata": {},
   "outputs": [
    {
     "name": "stdout",
     "output_type": "stream",
     "text": [
      "{'l1_ratio': 0.4, 'max_iter': 5000, 'penalty': 'elasticnet', 'solver': 'saga'}\n"
     ]
    }
   ],
   "source": [
    "print(gridTrain.best_params_)"
   ]
  },
  {
   "cell_type": "markdown",
   "id": "beabad05-d44d-4c1f-b842-68af4c136e5b",
   "metadata": {},
   "source": [
    "# Fitting Model"
   ]
  },
  {
   "cell_type": "markdown",
   "id": "cdde0228-2998-429e-8e6b-7208ae519259",
   "metadata": {},
   "source": [
    "## According to Gridsearch"
   ]
  },
  {
   "cell_type": "markdown",
   "id": "c1920cba-5959-41e3-ab04-19216c48a21d",
   "metadata": {},
   "source": [
    "### Using SMOTE"
   ]
  },
  {
   "cell_type": "code",
   "execution_count": 305,
   "id": "c2fe514c",
   "metadata": {},
   "outputs": [],
   "source": [
    "bestModel = LogisticRegression(penalty=\"elasticnet\",solver=\"saga\",l1_ratio=0,class_weight='balanced',max_iter=5000)\n",
    "bestModel.fit(x_train1, y_train1.values.ravel())\n",
    "\n",
    "importance = bestModel.coef_[0]\n",
    "importance = abs(importance)"
   ]
  },
  {
   "cell_type": "code",
   "execution_count": 306,
   "id": "f659ec9f-0f1d-4791-8f83-a1357530298a",
   "metadata": {},
   "outputs": [
    {
     "data": {
      "image/png": "[encoded data removed]",
      "text/plain": [
       "<Figure size 1440x360 with 1 Axes>"
      ]
     },
     "metadata": {
      "needs_background": "light"
     },
     "output_type": "display_data"
    }
   ],
   "source": [
    "plt.figure(figsize=(20,5))\n",
    "plt.bar(columns,importance)\n",
    "plt.xticks(rotation=90)\n",
    "plt.show() "
   ]
  },
  {
   "cell_type": "code",
   "execution_count": 307,
   "id": "5c7d39c0-e8f2-41af-9b35-28e801a051b1",
   "metadata": {},
   "outputs": [
    {
     "name": "stdout",
     "output_type": "stream",
     "text": [
      "[('fa5495', 1.2840640979817861), ('fa5656', 1.217005836675156), ('fa5993', 1.1757222938623426), ('fa4000', 1.1414395296397513), ('fa4117', 1.0075055196084315), ('fa4756', 1.0025277881861796), ('fa4237', 0.8905483064778231), ('fa4896', 0.7861024298016539), ('fa4621', 0.7273159465407011), ('fa385', 0.7152495931302071)]\n"
     ]
    },
    {
     "data": {
      "image/png": "[encoded data removed]",
      "text/plain": [
       "<Figure size 432x288 with 1 Axes>"
      ]
     },
     "metadata": {
      "needs_background": "light"
     },
     "output_type": "display_data"
    }
   ],
   "source": [
    "freqKeys=list(columns)\n",
    "\n",
    "d = {freqKeys[i]: importance[i] for i in range(len(freqKeys))}\n",
    "sorted_d = dict( sorted(d.items(), key=operator.itemgetter(1),reverse=True))\n",
    "\n",
    "dict_items = sorted_d.items()\n",
    "top10_1 = list(dict_items)[:10]\n",
    "print(top10_1)\n",
    "\n",
    "top10_1=dict(top10_1)\n",
    "plt.bar(*zip(*top10_1.items()))\n",
    "plt.xticks(rotation=90)\n",
    "plt.show()"
   ]
  },
  {
   "cell_type": "code",
   "execution_count": 308,
   "id": "28b31f98-250a-4ec6-b76c-f255eba89e66",
   "metadata": {},
   "outputs": [
    {
     "data": {
      "text/plain": [
       "dict_keys(['fa5495', 'fa5656', 'fa5993', 'fa4000', 'fa4117', 'fa4756', 'fa4237', 'fa4896', 'fa4621', 'fa385'])"
      ]
     },
     "execution_count": 308,
     "metadata": {},
     "output_type": "execute_result"
    }
   ],
   "source": [
    "top10_1.keys()"
   ]
  },
  {
   "cell_type": "code",
   "execution_count": 309,
   "id": "64c3bb13-ad4c-4174-917a-91d9d20c7a76",
   "metadata": {},
   "outputs": [
    {
     "name": "stdout",
     "output_type": "stream",
     "text": [
      "              precision    recall  f1-score   support\n",
      "\n",
      "           0       0.95      0.94      0.95       132\n",
      "           1       0.94      0.95      0.95       128\n",
      "\n",
      "    accuracy                           0.95       260\n",
      "   macro avg       0.95      0.95      0.95       260\n",
      "weighted avg       0.95      0.95      0.95       260\n",
      "\n"
     ]
    }
   ],
   "source": [
    "y_prtr1=bestModel.predict(x_train1)\n",
    "print(classification_report(y_prtr1, y_train1))"
   ]
  },
  {
   "cell_type": "code",
   "execution_count": 310,
   "id": "0c28f44f-5828-4941-a954-4e62e5544d1b",
   "metadata": {},
   "outputs": [
    {
     "name": "stdout",
     "output_type": "stream",
     "text": [
      "              precision    recall  f1-score   support\n",
      "\n",
      "           0       0.77      0.96      0.85        24\n",
      "           1       0.89      0.53      0.67        15\n",
      "\n",
      "    accuracy                           0.79        39\n",
      "   macro avg       0.83      0.75      0.76        39\n",
      "weighted avg       0.81      0.79      0.78        39\n",
      "\n"
     ]
    }
   ],
   "source": [
    "y_pred1=bestModel.predict(x_val1)\n",
    "print(classification_report(y_pred1, y_val1))"
   ]
  },
  {
   "cell_type": "code",
   "execution_count": 209,
   "id": "4b63f989",
   "metadata": {},
   "outputs": [
    {
     "name": "stderr",
     "output_type": "stream",
     "text": [
      "C:\\Users\\Dennis\\anaconda3\\lib\\site-packages\\sklearn\\utils\\deprecation.py:87: FutureWarning: Function plot_roc_curve is deprecated; Function :func:`plot_roc_curve` is deprecated in 1.0 and will be removed in 1.2. Use one of the class methods: :meth:`sklearn.metrics.RocCurveDisplay.from_predictions` or :meth:`sklearn.metrics.RocCurveDisplay.from_estimator`.\n",
      "  warnings.warn(msg, category=FutureWarning)\n"
     ]
    },
    {
     "data": {
      "text/plain": [
       "<sklearn.metrics._plot.roc_curve.RocCurveDisplay at 0x1ec9ce58a30>"
      ]
     },
     "execution_count": 209,
     "metadata": {},
     "output_type": "execute_result"
    },
    {
     "data": {
      "image/png": "[encoded data removed]",
      "text/plain": [
       "<Figure size 432x288 with 1 Axes>"
      ]
     },
     "metadata": {
      "needs_background": "light"
     },
     "output_type": "display_data"
    }
   ],
   "source": [
    "metrics.plot_roc_curve(bestModel, x_val1, y_val1) "
   ]
  },
  {
   "cell_type": "code",
   "execution_count": 210,
   "id": "63de4eb1",
   "metadata": {},
   "outputs": [
    {
     "name": "stderr",
     "output_type": "stream",
     "text": [
      "C:\\Users\\Dennis\\anaconda3\\lib\\site-packages\\sklearn\\utils\\deprecation.py:87: FutureWarning: Function plot_confusion_matrix is deprecated; Function `plot_confusion_matrix` is deprecated in 1.0 and will be removed in 1.2. Use one of the class methods: ConfusionMatrixDisplay.from_predictions or ConfusionMatrixDisplay.from_estimator.\n",
      "  warnings.warn(msg, category=FutureWarning)\n"
     ]
    },
    {
     "data": {
      "text/plain": [
       "<sklearn.metrics._plot.confusion_matrix.ConfusionMatrixDisplay at 0x1ec9e41cd90>"
      ]
     },
     "execution_count": 210,
     "metadata": {},
     "output_type": "execute_result"
    },
    {
     "data": {
      "image/png": "[encoded data removed]",
      "text/plain": [
       "<Figure size 432x288 with 2 Axes>"
      ]
     },
     "metadata": {
      "needs_background": "light"
     },
     "output_type": "display_data"
    }
   ],
   "source": [
    "plot_confusion_matrix(bestModel, x_val1, y_val1) "
   ]
  },
  {
   "cell_type": "markdown",
   "id": "1f995db5-c401-4e36-b91a-bac02558708b",
   "metadata": {},
   "source": [
    "### Using SMOTEENN"
   ]
  },
  {
   "cell_type": "code",
   "execution_count": 211,
   "id": "3a305186-f523-4587-8c04-629586baab42",
   "metadata": {},
   "outputs": [],
   "source": [
    "bestModel = LogisticRegression(penalty=\"elasticnet\",solver=\"saga\",l1_ratio=0,class_weight='balanced',max_iter=6000)\n",
    "bestModel.fit(x_train2, y_train2.values.ravel())\n",
    "\n",
    "importance = bestModel.coef_[0]\n",
    "importance = abs(importance)"
   ]
  },
  {
   "cell_type": "code",
   "execution_count": 212,
   "id": "721b5434-d8ca-4a9c-9ee3-6be1002a979f",
   "metadata": {},
   "outputs": [
    {
     "data": {
      "image/png": "[encoded data removed]",
      "text/plain": [
       "<Figure size 1440x360 with 1 Axes>"
      ]
     },
     "metadata": {
      "needs_background": "light"
     },
     "output_type": "display_data"
    }
   ],
   "source": [
    "plt.figure(figsize=(20,5))\n",
    "plt.bar(columns,importance)\n",
    "plt.xticks(rotation=90)\n",
    "plt.show() "
   ]
  },
  {
   "cell_type": "code",
   "execution_count": 213,
   "id": "819a4680-833e-4978-b580-b5b174ce597e",
   "metadata": {},
   "outputs": [
    {
     "name": "stdout",
     "output_type": "stream",
     "text": [
      "[('fa4000', 1.264993310116249), ('fa4756', 1.167234111034479), ('fa5495', 1.1245309994725223), ('fa5656', 1.062447941968748), ('fa4117', 0.9963762790181779), ('fa4621', 0.8994828653743204), ('fa4896', 0.8263159057080532), ('fa5993', 0.8249482060290236), ('fa4237', 0.8144463333937871), ('fa3363', 0.7160308618684814)]\n"
     ]
    },
    {
     "data": {
      "image/png": "[encoded data removed]",
      "text/plain": [
       "<Figure size 432x288 with 1 Axes>"
      ]
     },
     "metadata": {
      "needs_background": "light"
     },
     "output_type": "display_data"
    }
   ],
   "source": [
    "freqKeys=list(columns)\n",
    "\n",
    "d = {freqKeys[i]: importance[i] for i in range(len(freqKeys))}\n",
    "sorted_d = dict( sorted(d.items(), key=operator.itemgetter(1),reverse=True))\n",
    "\n",
    "dict_items = sorted_d.items()\n",
    "top10_2 = list(dict_items)[:10]\n",
    "print(top10_2)\n",
    "\n",
    "top10_2=dict(top10_2)\n",
    "plt.bar(*zip(*top10_2.items()))\n",
    "plt.xticks(rotation=90)\n",
    "plt.show()"
   ]
  },
  {
   "cell_type": "code",
   "execution_count": 214,
   "id": "a8954889-3b5c-4ad8-8c4a-83f6f73dbf7a",
   "metadata": {},
   "outputs": [
    {
     "data": {
      "text/plain": [
       "dict_keys(['fa4000', 'fa4756', 'fa5495', 'fa5656', 'fa4117', 'fa4621', 'fa4896', 'fa5993', 'fa4237', 'fa3363'])"
      ]
     },
     "execution_count": 214,
     "metadata": {},
     "output_type": "execute_result"
    }
   ],
   "source": [
    "top10_2.keys()"
   ]
  },
  {
   "cell_type": "code",
   "execution_count": 215,
   "id": "a8728040-dd2f-4586-87af-0dd7483d18df",
   "metadata": {},
   "outputs": [
    {
     "name": "stdout",
     "output_type": "stream",
     "text": [
      "              precision    recall  f1-score   support\n",
      "\n",
      "           0       0.93      0.93      0.93        97\n",
      "           1       0.94      0.94      0.94       121\n",
      "\n",
      "    accuracy                           0.94       218\n",
      "   macro avg       0.93      0.93      0.93       218\n",
      "weighted avg       0.94      0.94      0.94       218\n",
      "\n"
     ]
    }
   ],
   "source": [
    "y_prtr2=bestModel.predict(x_train2)\n",
    "print(classification_report(y_prtr2, y_train2))"
   ]
  },
  {
   "cell_type": "code",
   "execution_count": 216,
   "id": "39d23564-7820-4175-bb81-89b1212df10f",
   "metadata": {},
   "outputs": [
    {
     "name": "stdout",
     "output_type": "stream",
     "text": [
      "              precision    recall  f1-score   support\n",
      "\n",
      "           0       0.77      1.00      0.87        23\n",
      "           1       1.00      0.56      0.72        16\n",
      "\n",
      "    accuracy                           0.82        39\n",
      "   macro avg       0.88      0.78      0.79        39\n",
      "weighted avg       0.86      0.82      0.81        39\n",
      "\n"
     ]
    }
   ],
   "source": [
    "y_pred2=bestModel.predict(x_val2)\n",
    "print(classification_report(y_pred2, y_val2))"
   ]
  },
  {
   "cell_type": "code",
   "execution_count": 217,
   "id": "5ed168af-961c-40cb-98c8-b9dd22a7421d",
   "metadata": {},
   "outputs": [
    {
     "name": "stderr",
     "output_type": "stream",
     "text": [
      "C:\\Users\\Dennis\\anaconda3\\lib\\site-packages\\sklearn\\utils\\deprecation.py:87: FutureWarning: Function plot_roc_curve is deprecated; Function :func:`plot_roc_curve` is deprecated in 1.0 and will be removed in 1.2. Use one of the class methods: :meth:`sklearn.metrics.RocCurveDisplay.from_predictions` or :meth:`sklearn.metrics.RocCurveDisplay.from_estimator`.\n",
      "  warnings.warn(msg, category=FutureWarning)\n"
     ]
    },
    {
     "data": {
      "text/plain": [
       "<sklearn.metrics._plot.roc_curve.RocCurveDisplay at 0x1ec9e410250>"
      ]
     },
     "execution_count": 217,
     "metadata": {},
     "output_type": "execute_result"
    },
    {
     "data": {
      "image/png": "[encoded data removed]",
      "text/plain": [
       "<Figure size 432x288 with 1 Axes>"
      ]
     },
     "metadata": {
      "needs_background": "light"
     },
     "output_type": "display_data"
    }
   ],
   "source": [
    "metrics.plot_roc_curve(bestModel, x_val2, y_val2) "
   ]
  },
  {
   "cell_type": "code",
   "execution_count": 218,
   "id": "2e170198-d1d2-4029-9d0a-7287994e2cb7",
   "metadata": {},
   "outputs": [
    {
     "name": "stderr",
     "output_type": "stream",
     "text": [
      "C:\\Users\\Dennis\\anaconda3\\lib\\site-packages\\sklearn\\utils\\deprecation.py:87: FutureWarning: Function plot_confusion_matrix is deprecated; Function `plot_confusion_matrix` is deprecated in 1.0 and will be removed in 1.2. Use one of the class methods: ConfusionMatrixDisplay.from_predictions or ConfusionMatrixDisplay.from_estimator.\n",
      "  warnings.warn(msg, category=FutureWarning)\n"
     ]
    },
    {
     "data": {
      "text/plain": [
       "<sklearn.metrics._plot.confusion_matrix.ConfusionMatrixDisplay at 0x1ec9b0d9ca0>"
      ]
     },
     "execution_count": 218,
     "metadata": {},
     "output_type": "execute_result"
    },
    {
     "data": {
      "image/png": "[encoded data removed]",
      "text/plain": [
       "<Figure size 432x288 with 2 Axes>"
      ]
     },
     "metadata": {
      "needs_background": "light"
     },
     "output_type": "display_data"
    }
   ],
   "source": [
    "plot_confusion_matrix(bestModel, x_val2, y_val2) "
   ]
  },
  {
   "cell_type": "markdown",
   "id": "224ff60d-52f4-47a3-945c-17b48b3e2213",
   "metadata": {},
   "source": [
    "### Using SMOTETomek"
   ]
  },
  {
   "cell_type": "code",
   "execution_count": 221,
   "id": "2eca84ff-88b9-4a10-8e30-177aa64d49c7",
   "metadata": {},
   "outputs": [],
   "source": [
    "bestModel = LogisticRegression(penalty=\"elasticnet\",solver=\"saga\",l1_ratio=0.4,class_weight='balanced',max_iter=5000)\n",
    "bestModel.fit(x_train3, y_train3.values.ravel())\n",
    "\n",
    "importance = bestModel.coef_[0]\n",
    "importance = abs(importance)"
   ]
  },
  {
   "cell_type": "code",
   "execution_count": 222,
   "id": "fa43b09e-e59d-4c86-a43c-5864858352b6",
   "metadata": {},
   "outputs": [
    {
     "data": {
      "image/png": "[encoded data removed]",
      "text/plain": [
       "<Figure size 1440x360 with 1 Axes>"
      ]
     },
     "metadata": {
      "needs_background": "light"
     },
     "output_type": "display_data"
    }
   ],
   "source": [
    "plt.figure(figsize=(20,5))\n",
    "plt.bar(columns,importance)\n",
    "plt.xticks(rotation=90)\n",
    "plt.show() "
   ]
  },
  {
   "cell_type": "code",
   "execution_count": 223,
   "id": "5fc5bbf1-78c9-40ba-9a86-d91042fed493",
   "metadata": {},
   "outputs": [
    {
     "name": "stdout",
     "output_type": "stream",
     "text": [
      "[('fa5993', 1.530249397733647), ('fa5495', 1.4221576144487624), ('fa5656', 1.3541899443437155), ('fa4000', 1.238209079905512), ('fa4756', 1.18483323652469), ('fa4117', 0.9873665053704531), ('fa4896', 0.7918417560242421), ('fa4237', 0.7904775020933061), ('fa4621', 0.7433469212311632), ('fa385', 0.7430424335686124)]\n"
     ]
    },
    {
     "data": {
      "image/png": "[encoded data removed]",
      "text/plain": [
       "<Figure size 432x288 with 1 Axes>"
      ]
     },
     "metadata": {
      "needs_background": "light"
     },
     "output_type": "display_data"
    }
   ],
   "source": [
    "freqKeys=list(columns)\n",
    "\n",
    "d = {freqKeys[i]: importance[i] for i in range(len(freqKeys))}\n",
    "sorted_d = dict( sorted(d.items(), key=operator.itemgetter(1),reverse=True))\n",
    "\n",
    "dict_items = sorted_d.items()\n",
    "top10_3 = list(dict_items)[:10]\n",
    "print(top10_3)\n",
    "\n",
    "top10_3=dict(top10_3)\n",
    "plt.bar(*zip(*top10_3.items()))\n",
    "plt.xticks(rotation=90)\n",
    "plt.show()"
   ]
  },
  {
   "cell_type": "code",
   "execution_count": 224,
   "id": "c4e35037-078a-43ab-a709-a3e66a02f64b",
   "metadata": {},
   "outputs": [
    {
     "data": {
      "text/plain": [
       "dict_keys(['fa5993', 'fa5495', 'fa5656', 'fa4000', 'fa4756', 'fa4117', 'fa4896', 'fa4237', 'fa4621', 'fa385'])"
      ]
     },
     "execution_count": 224,
     "metadata": {},
     "output_type": "execute_result"
    }
   ],
   "source": [
    "top10_3.keys()"
   ]
  },
  {
   "cell_type": "code",
   "execution_count": 225,
   "id": "ce31a78e-17ce-429a-987c-8a91aefe458c",
   "metadata": {},
   "outputs": [
    {
     "name": "stdout",
     "output_type": "stream",
     "text": [
      "              precision    recall  f1-score   support\n",
      "\n",
      "           0       0.94      0.93      0.93       128\n",
      "           1       0.93      0.94      0.93       126\n",
      "\n",
      "    accuracy                           0.93       254\n",
      "   macro avg       0.93      0.93      0.93       254\n",
      "weighted avg       0.93      0.93      0.93       254\n",
      "\n"
     ]
    }
   ],
   "source": [
    "y_prtr3=bestModel.predict(x_train3)\n",
    "print(classification_report(y_prtr3, y_train3))"
   ]
  },
  {
   "cell_type": "code",
   "execution_count": 226,
   "id": "b7e9a281-b9ba-4910-94ab-b6d4edf4d772",
   "metadata": {},
   "outputs": [
    {
     "name": "stdout",
     "output_type": "stream",
     "text": [
      "              precision    recall  f1-score   support\n",
      "\n",
      "           0       0.80      0.96      0.87        25\n",
      "           1       0.89      0.57      0.70        14\n",
      "\n",
      "    accuracy                           0.82        39\n",
      "   macro avg       0.84      0.77      0.78        39\n",
      "weighted avg       0.83      0.82      0.81        39\n",
      "\n"
     ]
    }
   ],
   "source": [
    "y_pred3=bestModel.predict(x_val3)\n",
    "print(classification_report(y_pred3, y_val3))"
   ]
  },
  {
   "cell_type": "code",
   "execution_count": 227,
   "id": "dbefa6df-0283-4a55-bc55-5a5653436712",
   "metadata": {},
   "outputs": [
    {
     "name": "stderr",
     "output_type": "stream",
     "text": [
      "C:\\Users\\Dennis\\anaconda3\\lib\\site-packages\\sklearn\\utils\\deprecation.py:87: FutureWarning: Function plot_roc_curve is deprecated; Function :func:`plot_roc_curve` is deprecated in 1.0 and will be removed in 1.2. Use one of the class methods: :meth:`sklearn.metrics.RocCurveDisplay.from_predictions` or :meth:`sklearn.metrics.RocCurveDisplay.from_estimator`.\n",
      "  warnings.warn(msg, category=FutureWarning)\n"
     ]
    },
    {
     "data": {
      "text/plain": [
       "<sklearn.metrics._plot.roc_curve.RocCurveDisplay at 0x1ec9cedd5e0>"
      ]
     },
     "execution_count": 227,
     "metadata": {},
     "output_type": "execute_result"
    },
    {
     "data": {
      "image/png": "[encoded data removed]",
      "text/plain": [
       "<Figure size 432x288 with 1 Axes>"
      ]
     },
     "metadata": {
      "needs_background": "light"
     },
     "output_type": "display_data"
    }
   ],
   "source": [
    "metrics.plot_roc_curve(bestModel, x_val3, y_val3) "
   ]
  },
  {
   "cell_type": "code",
   "execution_count": 228,
   "id": "03f2426f-da78-4ea0-afd1-e3279722e376",
   "metadata": {},
   "outputs": [
    {
     "name": "stderr",
     "output_type": "stream",
     "text": [
      "C:\\Users\\Dennis\\anaconda3\\lib\\site-packages\\sklearn\\utils\\deprecation.py:87: FutureWarning: Function plot_confusion_matrix is deprecated; Function `plot_confusion_matrix` is deprecated in 1.0 and will be removed in 1.2. Use one of the class methods: ConfusionMatrixDisplay.from_predictions or ConfusionMatrixDisplay.from_estimator.\n",
      "  warnings.warn(msg, category=FutureWarning)\n"
     ]
    },
    {
     "data": {
      "text/plain": [
       "<sklearn.metrics._plot.confusion_matrix.ConfusionMatrixDisplay at 0x1ec99a96e80>"
      ]
     },
     "execution_count": 228,
     "metadata": {},
     "output_type": "execute_result"
    },
    {
     "data": {
      "image/png": "[encoded data removed]",
      "text/plain": [
       "<Figure size 432x288 with 2 Axes>"
      ]
     },
     "metadata": {
      "needs_background": "light"
     },
     "output_type": "display_data"
    }
   ],
   "source": [
    "plot_confusion_matrix(bestModel, x_val3, y_val3) "
   ]
  },
  {
   "cell_type": "markdown",
   "id": "a16c2808-de64-4a4e-84b3-867b14629f56",
   "metadata": {},
   "source": [
    "### Comparison of all oversampling methods"
   ]
  },
  {
   "cell_type": "code",
   "execution_count": 229,
   "id": "7c7deecf-47c0-4e75-98f4-a12070373e27",
   "metadata": {},
   "outputs": [
    {
     "name": "stdout",
     "output_type": "stream",
     "text": [
      "{'fa5495': 1.2839935447614952, 'fa5656': 1.2169037445405555, 'fa5993': 1.175816797531888, 'fa4000': 1.1416994135169498, 'fa4117': 1.0074725136512335, 'fa4756': 1.002437699656238, 'fa4237': 0.8903491891428854, 'fa4896': 0.7861069024375115, 'fa4621': 0.7272067666668304, 'fa385': 0.7151855512498079}\n",
      "{'fa4000': 1.264993310116249, 'fa4756': 1.167234111034479, 'fa5495': 1.1245309994725223, 'fa5656': 1.062447941968748, 'fa4117': 0.9963762790181779, 'fa4621': 0.8994828653743204, 'fa4896': 0.8263159057080532, 'fa5993': 0.8249482060290236, 'fa4237': 0.8144463333937871, 'fa3363': 0.7160308618684814}\n",
      "{'fa5993': 1.530249397733647, 'fa5495': 1.4221576144487624, 'fa5656': 1.3541899443437155, 'fa4000': 1.238209079905512, 'fa4756': 1.18483323652469, 'fa4117': 0.9873665053704531, 'fa4896': 0.7918417560242421, 'fa4237': 0.7904775020933061, 'fa4621': 0.7433469212311632, 'fa385': 0.7430424335686124}\n"
     ]
    }
   ],
   "source": [
    "print(top10_1)\n",
    "print(top10_2)\n",
    "print(top10_3)"
   ]
  },
  {
   "cell_type": "markdown",
   "id": "d4f250a3-4792-415e-ae0d-4dae82c9291d",
   "metadata": {},
   "source": [
    "## Feature Selection Using Lasso Regression"
   ]
  },
  {
   "cell_type": "markdown",
   "id": "9463c7cf-a798-427e-b2ce-b0002031cbb7",
   "metadata": {},
   "source": [
    "### Using SMOTE"
   ]
  },
  {
   "cell_type": "code",
   "execution_count": 230,
   "id": "ccee5513-bdc0-4848-b188-e9fad70c8b75",
   "metadata": {},
   "outputs": [],
   "source": [
    "l1Model = LogisticRegression(penalty=\"l1\",solver=\"saga\",class_weight='balanced', max_iter=5000)\n",
    "l1Model.fit(x_train1, y_train1.values.ravel())\n",
    "\n",
    "importance = l1Model.coef_[0]\n",
    "importance = abs(importance)"
   ]
  },
  {
   "cell_type": "code",
   "execution_count": 231,
   "id": "d715617c-e96b-478e-bfe1-143243c570be",
   "metadata": {},
   "outputs": [
    {
     "data": {
      "image/png": "[encoded data removed]",
      "text/plain": [
       "<Figure size 1440x360 with 1 Axes>"
      ]
     },
     "metadata": {
      "needs_background": "light"
     },
     "output_type": "display_data"
    }
   ],
   "source": [
    "plt.figure(figsize=(20,5))\n",
    "plt.bar(columns,importance)\n",
    "plt.xticks(rotation=90)\n",
    "plt.show()"
   ]
  },
  {
   "cell_type": "code",
   "execution_count": 232,
   "id": "93bf94f3-1aef-49bd-a3ea-d309d93851c7",
   "metadata": {},
   "outputs": [
    {
     "name": "stdout",
     "output_type": "stream",
     "text": [
      "[('fa5993', 3.0021497707437512), ('fa5495', 1.9829403023527257), ('fa4756', 1.721631228822912), ('fa5656', 1.5907724255150255), ('fa4000', 1.4663007281319713), ('fa3363', 1.437016445035322), ('fa385', 1.077804141992178), ('fa4117', 0.7716393266479646), ('fa727', 0.742960895017773), ('fa7550', 0.6416026869321056)]\n"
     ]
    },
    {
     "data": {
      "image/png": "[encoded data removed]",
      "text/plain": [
       "<Figure size 432x288 with 1 Axes>"
      ]
     },
     "metadata": {
      "needs_background": "light"
     },
     "output_type": "display_data"
    }
   ],
   "source": [
    "freqKeys=list(columns)\n",
    "\n",
    "d = {freqKeys[i]: importance[i] for i in range(len(freqKeys))}\n",
    "sorted_d = dict( sorted(d.items(), key=operator.itemgetter(1),reverse=True))\n",
    "\n",
    "dict_items = sorted_d.items()\n",
    "top10_1 = list(dict_items)[:10]\n",
    "print(top10_1)\n",
    "\n",
    "top10_1=dict(top10_1)\n",
    "plt.bar(*zip(*top10_1.items()))\n",
    "plt.xticks(rotation=90)\n",
    "plt.show()"
   ]
  },
  {
   "cell_type": "code",
   "execution_count": 233,
   "id": "c6ee2426-53d3-4b20-8f5e-cabfcd175ca7",
   "metadata": {},
   "outputs": [
    {
     "data": {
      "text/plain": [
       "dict_keys(['fa5993', 'fa5495', 'fa4756', 'fa5656', 'fa4000', 'fa3363', 'fa385', 'fa4117', 'fa727', 'fa7550'])"
      ]
     },
     "execution_count": 233,
     "metadata": {},
     "output_type": "execute_result"
    }
   ],
   "source": [
    "top10_1.keys()"
   ]
  },
  {
   "cell_type": "code",
   "execution_count": 234,
   "id": "6466c12d-a931-498b-935a-12908f975a7e",
   "metadata": {},
   "outputs": [
    {
     "name": "stdout",
     "output_type": "stream",
     "text": [
      "              precision    recall  f1-score   support\n",
      "\n",
      "           0       0.93      0.92      0.92       132\n",
      "           1       0.92      0.93      0.92       128\n",
      "\n",
      "    accuracy                           0.92       260\n",
      "   macro avg       0.92      0.92      0.92       260\n",
      "weighted avg       0.92      0.92      0.92       260\n",
      "\n"
     ]
    }
   ],
   "source": [
    "y_prtr1=l1Model.predict(x_train1)\n",
    "print(classification_report(y_prtr1, y_train1))"
   ]
  },
  {
   "cell_type": "code",
   "execution_count": 235,
   "id": "3bd67f54-bc24-47aa-8f7b-771aac7f0c46",
   "metadata": {},
   "outputs": [
    {
     "name": "stdout",
     "output_type": "stream",
     "text": [
      "              precision    recall  f1-score   support\n",
      "\n",
      "           0       0.80      0.96      0.87        25\n",
      "           1       0.89      0.57      0.70        14\n",
      "\n",
      "    accuracy                           0.82        39\n",
      "   macro avg       0.84      0.77      0.78        39\n",
      "weighted avg       0.83      0.82      0.81        39\n",
      "\n"
     ]
    }
   ],
   "source": [
    "y_pred1=l1Model.predict(x_val1)\n",
    "print(classification_report(y_pred1, y_val1))"
   ]
  },
  {
   "cell_type": "code",
   "execution_count": 236,
   "id": "23e4844d-e9dc-4e4a-8fb3-40371fa858e8",
   "metadata": {},
   "outputs": [
    {
     "name": "stderr",
     "output_type": "stream",
     "text": [
      "C:\\Users\\Dennis\\anaconda3\\lib\\site-packages\\sklearn\\utils\\deprecation.py:87: FutureWarning: Function plot_roc_curve is deprecated; Function :func:`plot_roc_curve` is deprecated in 1.0 and will be removed in 1.2. Use one of the class methods: :meth:`sklearn.metrics.RocCurveDisplay.from_predictions` or :meth:`sklearn.metrics.RocCurveDisplay.from_estimator`.\n",
      "  warnings.warn(msg, category=FutureWarning)\n"
     ]
    },
    {
     "data": {
      "text/plain": [
       "<sklearn.metrics._plot.roc_curve.RocCurveDisplay at 0x1ec9e5bf4c0>"
      ]
     },
     "execution_count": 236,
     "metadata": {},
     "output_type": "execute_result"
    },
    {
     "data": {
      "image/png": "[encoded data removed]",
      "text/plain": [
       "<Figure size 432x288 with 1 Axes>"
      ]
     },
     "metadata": {
      "needs_background": "light"
     },
     "output_type": "display_data"
    }
   ],
   "source": [
    "metrics.plot_roc_curve(l1Model, x_val1, y_val1) "
   ]
  },
  {
   "cell_type": "code",
   "execution_count": 237,
   "id": "4e925dbb-2860-4247-bce4-0093f56cdf06",
   "metadata": {},
   "outputs": [
    {
     "name": "stderr",
     "output_type": "stream",
     "text": [
      "C:\\Users\\Dennis\\anaconda3\\lib\\site-packages\\sklearn\\utils\\deprecation.py:87: FutureWarning: Function plot_confusion_matrix is deprecated; Function `plot_confusion_matrix` is deprecated in 1.0 and will be removed in 1.2. Use one of the class methods: ConfusionMatrixDisplay.from_predictions or ConfusionMatrixDisplay.from_estimator.\n",
      "  warnings.warn(msg, category=FutureWarning)\n"
     ]
    },
    {
     "data": {
      "text/plain": [
       "<sklearn.metrics._plot.confusion_matrix.ConfusionMatrixDisplay at 0x1ec9e5bf430>"
      ]
     },
     "execution_count": 237,
     "metadata": {},
     "output_type": "execute_result"
    },
    {
     "data": {
      "image/png": "[encoded data removed]",
      "text/plain": [
       "<Figure size 432x288 with 2 Axes>"
      ]
     },
     "metadata": {
      "needs_background": "light"
     },
     "output_type": "display_data"
    }
   ],
   "source": [
    "plot_confusion_matrix(l1Model, x_val1, y_val1) "
   ]
  },
  {
   "cell_type": "markdown",
   "id": "8e6803a7-f3b9-42aa-a186-79ed94001879",
   "metadata": {},
   "source": [
    "### Using SMOTEENN"
   ]
  },
  {
   "cell_type": "code",
   "execution_count": 384,
   "id": "6cb6707e-ef99-4b0e-acb0-e2c15b5c2339",
   "metadata": {},
   "outputs": [],
   "source": [
    "l1Model = LogisticRegression(penalty=\"l1\",solver=\"saga\",class_weight='balanced', max_iter=5000)\n",
    "l1Model.fit(x_train2, y_train2.values.ravel())\n",
    "\n",
    "importance = l1Model.coef_[0]\n",
    "importance = abs(importance)"
   ]
  },
  {
   "cell_type": "code",
   "execution_count": 385,
   "id": "f407d0e5-6ccd-42ef-9bee-6c5a74707b4c",
   "metadata": {},
   "outputs": [
    {
     "data": {
      "image/png": "[encoded data removed]",
      "text/plain": [
       "<Figure size 1440x360 with 1 Axes>"
      ]
     },
     "metadata": {
      "needs_background": "light"
     },
     "output_type": "display_data"
    }
   ],
   "source": [
    "plt.figure(figsize=(20,5))\n",
    "plt.bar(columns,importance)\n",
    "plt.xticks(rotation=90)\n",
    "plt.show()"
   ]
  },
  {
   "cell_type": "code",
   "execution_count": 386,
   "id": "46abae11-78f6-41b4-ac21-ae15810d7d42",
   "metadata": {},
   "outputs": [
    {
     "name": "stdout",
     "output_type": "stream",
     "text": [
      "[('fa1090', 2.998916935795466), ('fa1334', 2.5860658504006886), ('fa1296', 2.4124961128227964), ('fa4000', 1.996195381643631), ('fa1781', 1.7542204463436946), ('fa5993', 1.644834782732549), ('fa2058', 1.6273368528422205), ('fa3174', 0.6060078159212217), ('fa1834', 0.5961139301009714), ('fa4896', 0.4639507764755828)]\n"
     ]
    },
    {
     "data": {
      "image/png": "[encoded data removed]",
      "text/plain": [
       "<Figure size 432x288 with 1 Axes>"
      ]
     },
     "metadata": {
      "needs_background": "light"
     },
     "output_type": "display_data"
    }
   ],
   "source": [
    "freqKeys=list(columns)\n",
    "\n",
    "d = {freqKeys[i]: importance[i] for i in range(len(freqKeys))}\n",
    "sorted_d = dict( sorted(d.items(), key=operator.itemgetter(1),reverse=True))\n",
    "\n",
    "dict_items = sorted_d.items()\n",
    "top10_2 = list(dict_items)[:10]\n",
    "print(top10_2)\n",
    "\n",
    "top10_2=dict(top10_2)\n",
    "plt.bar(*zip(*top10_2.items()))\n",
    "plt.xticks(rotation=90)\n",
    "plt.show()"
   ]
  },
  {
   "cell_type": "code",
   "execution_count": 387,
   "id": "80d1f10f-5bd6-4706-87be-9724f72cd54d",
   "metadata": {},
   "outputs": [
    {
     "data": {
      "text/plain": [
       "dict_keys(['fa1090', 'fa1334', 'fa1296', 'fa4000', 'fa1781', 'fa5993', 'fa2058', 'fa3174', 'fa1834', 'fa4896'])"
      ]
     },
     "execution_count": 387,
     "metadata": {},
     "output_type": "execute_result"
    }
   ],
   "source": [
    "top10_2.keys()"
   ]
  },
  {
   "cell_type": "code",
   "execution_count": 388,
   "id": "4dbb5fd2-c7b9-412f-b958-f021ad08fb44",
   "metadata": {},
   "outputs": [
    {
     "name": "stdout",
     "output_type": "stream",
     "text": [
      "              precision    recall  f1-score   support\n",
      "\n",
      "           0       0.90      0.85      0.87       102\n",
      "           1       0.88      0.91      0.89       116\n",
      "\n",
      "    accuracy                           0.89       218\n",
      "   macro avg       0.89      0.88      0.88       218\n",
      "weighted avg       0.89      0.89      0.89       218\n",
      "\n"
     ]
    }
   ],
   "source": [
    "y_prtr2=l1Model.predict(x_train2)\n",
    "print(classification_report(y_prtr2, y_train2))"
   ]
  },
  {
   "cell_type": "code",
   "execution_count": 389,
   "id": "e4fba37f-e35d-4a0c-a52a-3a9fb2a5fdea",
   "metadata": {},
   "outputs": [
    {
     "name": "stdout",
     "output_type": "stream",
     "text": [
      "              precision    recall  f1-score   support\n",
      "\n",
      "           0       0.93      0.97      0.95        29\n",
      "           1       0.89      0.80      0.84        10\n",
      "\n",
      "    accuracy                           0.92        39\n",
      "   macro avg       0.91      0.88      0.90        39\n",
      "weighted avg       0.92      0.92      0.92        39\n",
      "\n"
     ]
    }
   ],
   "source": [
    "y_pred2=l1Model.predict(x_val2)\n",
    "print(classification_report(y_pred2, y_val2))"
   ]
  },
  {
   "cell_type": "code",
   "execution_count": 390,
   "id": "61356801-84dc-4f7b-bb76-212943828761",
   "metadata": {},
   "outputs": [
    {
     "name": "stderr",
     "output_type": "stream",
     "text": [
      "C:\\Users\\Dennis\\anaconda3\\lib\\site-packages\\sklearn\\utils\\deprecation.py:87: FutureWarning: Function plot_roc_curve is deprecated; Function :func:`plot_roc_curve` is deprecated in 1.0 and will be removed in 1.2. Use one of the class methods: :meth:`sklearn.metrics.RocCurveDisplay.from_predictions` or :meth:`sklearn.metrics.RocCurveDisplay.from_estimator`.\n",
      "  warnings.warn(msg, category=FutureWarning)\n"
     ]
    },
    {
     "data": {
      "text/plain": [
       "<sklearn.metrics._plot.roc_curve.RocCurveDisplay at 0x1ec9fa2b9d0>"
      ]
     },
     "execution_count": 390,
     "metadata": {},
     "output_type": "execute_result"
    },
    {
     "data": {
      "image/png": "[encoded data removed]",
      "text/plain": [
       "<Figure size 432x288 with 1 Axes>"
      ]
     },
     "metadata": {
      "needs_background": "light"
     },
     "output_type": "display_data"
    }
   ],
   "source": [
    "metrics.plot_roc_curve(l1Model, x_val2, y_val2) "
   ]
  },
  {
   "cell_type": "markdown",
   "id": "4a2d62f2-5181-4360-9d7a-b780c89db1cb",
   "metadata": {},
   "source": [
    "### Using SMOTETomek"
   ]
  },
  {
   "cell_type": "code",
   "execution_count": 245,
   "id": "2ed5a3e1-7a32-414e-bf96-7af82937122d",
   "metadata": {},
   "outputs": [],
   "source": [
    "l1Model = LogisticRegression(penalty=\"l1\",solver=\"saga\",class_weight='balanced', max_iter=5000)\n",
    "l1Model.fit(x_train3, y_train3.values.ravel())\n",
    "\n",
    "importance = l1Model.coef_[0]\n",
    "importance = abs(importance)"
   ]
  },
  {
   "cell_type": "code",
   "execution_count": 246,
   "id": "3d48ba4f-aa0d-4182-8e20-bd8ea20ef7c4",
   "metadata": {},
   "outputs": [
    {
     "data": {
      "image/png": "[encoded data removed]",
      "text/plain": [
       "<Figure size 1440x360 with 1 Axes>"
      ]
     },
     "metadata": {
      "needs_background": "light"
     },
     "output_type": "display_data"
    }
   ],
   "source": [
    "plt.figure(figsize=(20,5))\n",
    "plt.bar(columns,importance)\n",
    "plt.xticks(rotation=90)\n",
    "plt.show()"
   ]
  },
  {
   "cell_type": "code",
   "execution_count": 247,
   "id": "66eaaeb4-6ae4-49e7-8add-150d000a3268",
   "metadata": {},
   "outputs": [
    {
     "name": "stdout",
     "output_type": "stream",
     "text": [
      "[('fa5993', 2.816931206177958), ('fa4756', 1.9567295643661395), ('fa5495', 1.8285963841071835), ('fa5656', 1.8110134390734307), ('fa4000', 1.7748664732408945), ('fa3363', 1.3232344753018523), ('fa385', 0.9306823909196721), ('fa4117', 0.8349267360821249), ('fa1834', 0.783994888287071), ('fa727', 0.7640769648781967)]\n"
     ]
    },
    {
     "data": {
      "image/png": "[encoded data removed]",
      "text/plain": [
       "<Figure size 432x288 with 1 Axes>"
      ]
     },
     "metadata": {
      "needs_background": "light"
     },
     "output_type": "display_data"
    }
   ],
   "source": [
    "freqKeys=list(columns)\n",
    "\n",
    "d = {freqKeys[i]: importance[i] for i in range(len(freqKeys))}\n",
    "sorted_d = dict( sorted(d.items(), key=operator.itemgetter(1),reverse=True))\n",
    "\n",
    "dict_items = sorted_d.items()\n",
    "top10_3 = list(dict_items)[:10]\n",
    "print(top10_3)\n",
    "\n",
    "top10_3=dict(top10_3)\n",
    "plt.bar(*zip(*top10_3.items()))\n",
    "plt.xticks(rotation=90)\n",
    "plt.show()"
   ]
  },
  {
   "cell_type": "code",
   "execution_count": 248,
   "id": "3c602c18-0009-4c57-8709-df4cf098cb4e",
   "metadata": {},
   "outputs": [
    {
     "data": {
      "text/plain": [
       "dict_keys(['fa5993', 'fa4756', 'fa5495', 'fa5656', 'fa4000', 'fa3363', 'fa385', 'fa4117', 'fa1834', 'fa727'])"
      ]
     },
     "execution_count": 248,
     "metadata": {},
     "output_type": "execute_result"
    }
   ],
   "source": [
    "top10_3.keys()"
   ]
  },
  {
   "cell_type": "code",
   "execution_count": 249,
   "id": "efb35331-0723-4f3a-9c66-e06a7e70d053",
   "metadata": {},
   "outputs": [
    {
     "name": "stdout",
     "output_type": "stream",
     "text": [
      "              precision    recall  f1-score   support\n",
      "\n",
      "           0       0.94      0.93      0.93       128\n",
      "           1       0.93      0.94      0.93       126\n",
      "\n",
      "    accuracy                           0.93       254\n",
      "   macro avg       0.93      0.93      0.93       254\n",
      "weighted avg       0.93      0.93      0.93       254\n",
      "\n"
     ]
    }
   ],
   "source": [
    "y_prtr3=l1Model.predict(x_train3)\n",
    "print(classification_report(y_prtr3, y_train3))"
   ]
  },
  {
   "cell_type": "code",
   "execution_count": 250,
   "id": "d5d45dfb-7a39-4d18-99db-4ca82f21f352",
   "metadata": {},
   "outputs": [
    {
     "name": "stdout",
     "output_type": "stream",
     "text": [
      "              precision    recall  f1-score   support\n",
      "\n",
      "           0       0.77      0.96      0.85        24\n",
      "           1       0.89      0.53      0.67        15\n",
      "\n",
      "    accuracy                           0.79        39\n",
      "   macro avg       0.83      0.75      0.76        39\n",
      "weighted avg       0.81      0.79      0.78        39\n",
      "\n"
     ]
    }
   ],
   "source": [
    "y_pred3=l1Model.predict(x_val3)\n",
    "print(classification_report(y_pred3, y_val3))"
   ]
  },
  {
   "cell_type": "code",
   "execution_count": 251,
   "id": "a18b0bf4-b986-44ba-9a9d-2ff90615440b",
   "metadata": {},
   "outputs": [
    {
     "name": "stderr",
     "output_type": "stream",
     "text": [
      "C:\\Users\\Dennis\\anaconda3\\lib\\site-packages\\sklearn\\utils\\deprecation.py:87: FutureWarning: Function plot_roc_curve is deprecated; Function :func:`plot_roc_curve` is deprecated in 1.0 and will be removed in 1.2. Use one of the class methods: :meth:`sklearn.metrics.RocCurveDisplay.from_predictions` or :meth:`sklearn.metrics.RocCurveDisplay.from_estimator`.\n",
      "  warnings.warn(msg, category=FutureWarning)\n"
     ]
    },
    {
     "data": {
      "text/plain": [
       "<sklearn.metrics._plot.roc_curve.RocCurveDisplay at 0x1ec9e617f10>"
      ]
     },
     "execution_count": 251,
     "metadata": {},
     "output_type": "execute_result"
    },
    {
     "data": {
      "image/png": "[encoded data removed]",
      "text/plain": [
       "<Figure size 432x288 with 1 Axes>"
      ]
     },
     "metadata": {
      "needs_background": "light"
     },
     "output_type": "display_data"
    }
   ],
   "source": [
    "metrics.plot_roc_curve(l1Model, x_val3, y_val3) "
   ]
  },
  {
   "cell_type": "code",
   "execution_count": 252,
   "id": "86cae153-e29a-4968-bdfc-01185bb247c0",
   "metadata": {},
   "outputs": [
    {
     "name": "stderr",
     "output_type": "stream",
     "text": [
      "C:\\Users\\Dennis\\anaconda3\\lib\\site-packages\\sklearn\\utils\\deprecation.py:87: FutureWarning: Function plot_confusion_matrix is deprecated; Function `plot_confusion_matrix` is deprecated in 1.0 and will be removed in 1.2. Use one of the class methods: ConfusionMatrixDisplay.from_predictions or ConfusionMatrixDisplay.from_estimator.\n",
      "  warnings.warn(msg, category=FutureWarning)\n"
     ]
    },
    {
     "data": {
      "text/plain": [
       "<sklearn.metrics._plot.confusion_matrix.ConfusionMatrixDisplay at 0x1ec9b67d280>"
      ]
     },
     "execution_count": 252,
     "metadata": {},
     "output_type": "execute_result"
    },
    {
     "data": {
      "image/png": "[encoded data removed]",
      "text/plain": [
       "<Figure size 432x288 with 2 Axes>"
      ]
     },
     "metadata": {
      "needs_background": "light"
     },
     "output_type": "display_data"
    }
   ],
   "source": [
    "plot_confusion_matrix(l1Model, x_val3, y_val3) "
   ]
  },
  {
   "cell_type": "markdown",
   "id": "0847fc89-37e0-4b72-bd2d-bd904f46d768",
   "metadata": {},
   "source": [
    "## Variance Threshold"
   ]
  },
  {
   "cell_type": "markdown",
   "id": "038fe3aa-7458-460e-aa75-111e4ea9263f",
   "metadata": {},
   "source": [
    "### Using SMOTE"
   ]
  },
  {
   "cell_type": "code",
   "execution_count": 253,
   "id": "beb8f029-1324-41b7-9a36-51b658850552",
   "metadata": {},
   "outputs": [],
   "source": [
    "#Need to load up Fresh Dataset because we cant use the scaled one for variance thresholding8\n",
    "X_test01=pd.read_csv('C:\\\\Users\\\\Dennis\\\\Documents\\\\GitHub\\\\P1_Dennis\\\\With Updated Dataset\\\\02 - SMOTE\\\\X_test.csv')\n",
    "X_train01=pd.read_csv('C:\\\\Users\\\\Dennis\\\\Documents\\\\GitHub\\\\P1_Dennis\\\\With Updated Dataset\\\\02 - SMOTE\\\\X_train.csv')\n",
    "y_test01=pd.read_csv('C:\\\\Users\\\\Dennis\\\\Documents\\\\GitHub\\\\P1_Dennis\\\\With Updated Dataset\\\\02 - SMOTE\\\\y_test.csv')\n",
    "y_train01=pd.read_csv('C:\\\\Users\\\\Dennis\\\\Documents\\\\GitHub\\\\P1_Dennis\\\\With Updated Dataset\\\\02 - SMOTE\\\\y_train.csv')\n",
    "x_val01=pd.read_csv('C:\\\\Users\\\\Dennis\\\\Documents\\\\GitHub\\\\P1_Dennis\\\\With Updated Dataset\\\\02 - SMOTE\\\\X_val.csv')\n",
    "y_val01=pd.read_csv('C:\\\\Users\\\\Dennis\\\\Documents\\\\GitHub\\\\P1_Dennis\\\\With Updated Dataset\\\\02 - SMOTE\\\\y_val.csv')\n",
    "\n",
    "x_test01 = X_test01.drop(['Gender','AgeM','ECV','TPP','SC','OAE1','OAE1.4','OAE2','OAE2.8','OAE4','Ear coded'], axis = 1)\n",
    "x_train01 = X_train01.drop(['Gender','AgeM','ECV','TPP','SC','OAE1','OAE1.4','OAE2','OAE2.8','OAE4','Ear coded'], axis = 1)\n",
    "x_val01= x_val01.drop(['Gender','AgeM','ECV','TPP','SC','OAE1','OAE1.4','OAE2','OAE2.8','OAE4','Ear coded'], axis = 1)\n",
    "\n",
    "\n",
    "x_train01=x_train01.iloc[:,:107]\n",
    "x_test01=x_test01.iloc[:,:107]\n",
    "x_val01=x_val01.iloc[:,:107]"
   ]
  },
  {
   "cell_type": "code",
   "execution_count": 254,
   "id": "d3090b5a-f291-413c-a7d0-144a47976068",
   "metadata": {},
   "outputs": [
    {
     "data": {
      "text/plain": [
       "array([False, False, False, False, False, False, False, False, False,\n",
       "       False, False, False, False, False, False, False, False, False,\n",
       "       False, False, False, False, False, False, False, False, False,\n",
       "       False, False, False, False, False, False, False, False,  True,\n",
       "        True,  True,  True,  True,  True,  True,  True,  True,  True,\n",
       "        True,  True,  True,  True,  True,  True,  True,  True,  True,\n",
       "        True,  True,  True,  True,  True,  True,  True,  True,  True,\n",
       "        True,  True, False, False, False,  True, False, False, False,\n",
       "       False, False, False, False, False, False,  True,  True,  True,\n",
       "        True,  True,  True,  True,  True,  True,  True,  True,  True,\n",
       "        True,  True,  True,  True,  True,  True,  True,  True,  True,\n",
       "        True,  True,  True, False, False, False, False, False])"
      ]
     },
     "execution_count": 254,
     "metadata": {},
     "output_type": "execute_result"
    }
   ],
   "source": [
    "var_thr = VarianceThreshold(threshold = 0.025 ) \n",
    "var_thr.fit(x_train01)\n",
    "\n",
    "var_thr.get_support()"
   ]
  },
  {
   "cell_type": "code",
   "execution_count": 255,
   "id": "11717c5e-9081-4517-ab50-71215fa25176",
   "metadata": {},
   "outputs": [],
   "source": [
    "dropVal = [column for column in x_train01.columns \n",
    "          if column not in x_train01.columns[var_thr.get_support()]]"
   ]
  },
  {
   "cell_type": "code",
   "execution_count": 256,
   "id": "b4765f46-3d12-4f17-94a1-87a1f51ddc53",
   "metadata": {},
   "outputs": [],
   "source": [
    "x_train01=x_train01.drop(dropVal,axis=1)\n",
    "x_test01=x_test01.drop(dropVal,axis=1)\n",
    "x_val01=x_val01.drop(dropVal,axis=1)"
   ]
  },
  {
   "cell_type": "code",
   "execution_count": 257,
   "id": "8a1afd43-973d-4eb7-b345-b0d0094c0aa8",
   "metadata": {},
   "outputs": [],
   "source": [
    "reducedCols=x_train01.columns"
   ]
  },
  {
   "cell_type": "code",
   "execution_count": 258,
   "id": "37c19ccd-4410-4756-ac79-94a03e3a129b",
   "metadata": {},
   "outputs": [
    {
     "data": {
      "text/plain": [
       "55"
      ]
     },
     "execution_count": 258,
     "metadata": {},
     "output_type": "execute_result"
    }
   ],
   "source": [
    "len(reducedCols)"
   ]
  },
  {
   "cell_type": "markdown",
   "id": "63493e4b-082a-4646-90d3-b8a31f43d5da",
   "metadata": {},
   "source": [
    "Scaling and GridsearchCV"
   ]
  },
  {
   "cell_type": "code",
   "execution_count": 259,
   "id": "04a7589d-4c50-42d2-90a8-97c748dd2e97",
   "metadata": {},
   "outputs": [],
   "source": [
    "x_train01 = scaler.fit_transform(x_train01)\n",
    "x_val01 = scaler.fit_transform(x_val01)"
   ]
  },
  {
   "cell_type": "code",
   "execution_count": 260,
   "id": "0522391f-d7c3-49bb-98f1-eb44c2ae8fcf",
   "metadata": {},
   "outputs": [
    {
     "data": {
      "text/html": [
       "<style>#sk-container-id-6 {color: black;background-color: white;}#sk-container-id-6 pre{padding: 0;}#sk-container-id-6 div.sk-toggleable {background-color: white;}#sk-container-id-6 label.sk-toggleable__label {cursor: pointer;display: block;width: 100%;margin-bottom: 0;padding: 0.3em;box-sizing: border-box;text-align: center;}#sk-container-id-6 label.sk-toggleable__label-arrow:before {content: \"▸\";float: left;margin-right: 0.25em;color: #696969;}#sk-container-id-6 label.sk-toggleable__label-arrow:hover:before {color: black;}#sk-container-id-6 div.sk-estimator:hover label.sk-toggleable__label-arrow:before {color: black;}#sk-container-id-6 div.sk-toggleable__content {max-height: 0;max-width: 0;overflow: hidden;text-align: left;background-color: #f0f8ff;}#sk-container-id-6 div.sk-toggleable__content pre {margin: 0.2em;color: black;border-radius: 0.25em;background-color: #f0f8ff;}#sk-container-id-6 input.sk-toggleable__control:checked~div.sk-toggleable__content {max-height: 200px;max-width: 100%;overflow: auto;}#sk-container-id-6 input.sk-toggleable__control:checked~label.sk-toggleable__label-arrow:before {content: \"▾\";}#sk-container-id-6 div.sk-estimator input.sk-toggleable__control:checked~label.sk-toggleable__label {background-color: #d4ebff;}#sk-container-id-6 div.sk-label input.sk-toggleable__control:checked~label.sk-toggleable__label {background-color: #d4ebff;}#sk-container-id-6 input.sk-hidden--visually {border: 0;clip: rect(1px 1px 1px 1px);clip: rect(1px, 1px, 1px, 1px);height: 1px;margin: -1px;overflow: hidden;padding: 0;position: absolute;width: 1px;}#sk-container-id-6 div.sk-estimator {font-family: monospace;background-color: #f0f8ff;border: 1px dotted black;border-radius: 0.25em;box-sizing: border-box;margin-bottom: 0.5em;}#sk-container-id-6 div.sk-estimator:hover {background-color: #d4ebff;}#sk-container-id-6 div.sk-parallel-item::after {content: \"\";width: 100%;border-bottom: 1px solid gray;flex-grow: 1;}#sk-container-id-6 div.sk-label:hover label.sk-toggleable__label {background-color: #d4ebff;}#sk-container-id-6 div.sk-serial::before {content: \"\";position: absolute;border-left: 1px solid gray;box-sizing: border-box;top: 0;bottom: 0;left: 50%;z-index: 0;}#sk-container-id-6 div.sk-serial {display: flex;flex-direction: column;align-items: center;background-color: white;padding-right: 0.2em;padding-left: 0.2em;position: relative;}#sk-container-id-6 div.sk-item {position: relative;z-index: 1;}#sk-container-id-6 div.sk-parallel {display: flex;align-items: stretch;justify-content: center;background-color: white;position: relative;}#sk-container-id-6 div.sk-item::before, #sk-container-id-6 div.sk-parallel-item::before {content: \"\";position: absolute;border-left: 1px solid gray;box-sizing: border-box;top: 0;bottom: 0;left: 50%;z-index: -1;}#sk-container-id-6 div.sk-parallel-item {display: flex;flex-direction: column;z-index: 1;position: relative;background-color: white;}#sk-container-id-6 div.sk-parallel-item:first-child::after {align-self: flex-end;width: 50%;}#sk-container-id-6 div.sk-parallel-item:last-child::after {align-self: flex-start;width: 50%;}#sk-container-id-6 div.sk-parallel-item:only-child::after {width: 0;}#sk-container-id-6 div.sk-dashed-wrapped {border: 1px dashed gray;margin: 0 0.4em 0.5em 0.4em;box-sizing: border-box;padding-bottom: 0.4em;background-color: white;}#sk-container-id-6 div.sk-label label {font-family: monospace;font-weight: bold;display: inline-block;line-height: 1.2em;}#sk-container-id-6 div.sk-label-container {text-align: center;}#sk-container-id-6 div.sk-container {/* jupyter's `normalize.less` sets `[hidden] { display: none; }` but bootstrap.min.css set `[hidden] { display: none !important; }` so we also need the `!important` here to be able to override the default hidden behavior on the sphinx rendered scikit-learn.org. See: https://github.com/scikit-learn/scikit-learn/issues/21755 */display: inline-block !important;position: relative;}#sk-container-id-6 div.sk-text-repr-fallback {display: none;}</style><div id=\"sk-container-id-6\" class=\"sk-top-container\"><div class=\"sk-text-repr-fallback\"><pre>GridSearchCV(estimator=LogisticRegression(),\n",
       "             param_grid={&#x27;l1_ratio&#x27;: [0, 0.1, 0.2, 0.3, 0.4, 0.5, 0.6, 0.7, 0.8,\n",
       "                                      0.9, 1],\n",
       "                         &#x27;max_iter&#x27;: [5000], &#x27;penalty&#x27;: [&#x27;elasticnet&#x27;],\n",
       "                         &#x27;solver&#x27;: [&#x27;saga&#x27;]})</pre><b>In a Jupyter environment, please rerun this cell to show the HTML representation or trust the notebook. <br />On GitHub, the HTML representation is unable to render, please try loading this page with nbviewer.org.</b></div><div class=\"sk-container\" hidden><div class=\"sk-item sk-dashed-wrapped\"><div class=\"sk-label-container\"><div class=\"sk-label sk-toggleable\"><input class=\"sk-toggleable__control sk-hidden--visually\" id=\"sk-estimator-id-16\" type=\"checkbox\" ><label for=\"sk-estimator-id-16\" class=\"sk-toggleable__label sk-toggleable__label-arrow\">GridSearchCV</label><div class=\"sk-toggleable__content\"><pre>GridSearchCV(estimator=LogisticRegression(),\n",
       "             param_grid={&#x27;l1_ratio&#x27;: [0, 0.1, 0.2, 0.3, 0.4, 0.5, 0.6, 0.7, 0.8,\n",
       "                                      0.9, 1],\n",
       "                         &#x27;max_iter&#x27;: [5000], &#x27;penalty&#x27;: [&#x27;elasticnet&#x27;],\n",
       "                         &#x27;solver&#x27;: [&#x27;saga&#x27;]})</pre></div></div></div><div class=\"sk-parallel\"><div class=\"sk-parallel-item\"><div class=\"sk-item\"><div class=\"sk-label-container\"><div class=\"sk-label sk-toggleable\"><input class=\"sk-toggleable__control sk-hidden--visually\" id=\"sk-estimator-id-17\" type=\"checkbox\" ><label for=\"sk-estimator-id-17\" class=\"sk-toggleable__label sk-toggleable__label-arrow\">estimator: LogisticRegression</label><div class=\"sk-toggleable__content\"><pre>LogisticRegression()</pre></div></div></div><div class=\"sk-serial\"><div class=\"sk-item\"><div class=\"sk-estimator sk-toggleable\"><input class=\"sk-toggleable__control sk-hidden--visually\" id=\"sk-estimator-id-18\" type=\"checkbox\" ><label for=\"sk-estimator-id-18\" class=\"sk-toggleable__label sk-toggleable__label-arrow\">LogisticRegression</label><div class=\"sk-toggleable__content\"><pre>LogisticRegression()</pre></div></div></div></div></div></div></div></div></div></div>"
      ],
      "text/plain": [
       "GridSearchCV(estimator=LogisticRegression(),\n",
       "             param_grid={'l1_ratio': [0, 0.1, 0.2, 0.3, 0.4, 0.5, 0.6, 0.7, 0.8,\n",
       "                                      0.9, 1],\n",
       "                         'max_iter': [5000], 'penalty': ['elasticnet'],\n",
       "                         'solver': ['saga']})"
      ]
     },
     "execution_count": 260,
     "metadata": {},
     "output_type": "execute_result"
    }
   ],
   "source": [
    "#initializing grid search and fitting with parameters\n",
    "parameters = { 'penalty':['elasticnet'],'solver':['saga']\n",
    "              ,'l1_ratio':[0,0.1,0.2,0.3,0.4,0.5,0.6,0.7,0.8,0.9,1],'max_iter':[5000]}\n",
    "logModel = LogisticRegression()\n",
    "\n",
    "#conducting grid search to find the best l1 ratio\n",
    "gridTrain = GridSearchCV (logModel , parameters)\n",
    "gridTrain.fit (x_train01,y_train01.values.ravel())"
   ]
  },
  {
   "cell_type": "code",
   "execution_count": 262,
   "id": "07664197-bfea-4d34-8766-86e37774a90e",
   "metadata": {},
   "outputs": [
    {
     "name": "stdout",
     "output_type": "stream",
     "text": [
      "{'l1_ratio': 0.6, 'max_iter': 5000, 'penalty': 'elasticnet', 'solver': 'saga'}\n"
     ]
    }
   ],
   "source": [
    "print(gridTrain.best_params_)"
   ]
  },
  {
   "cell_type": "markdown",
   "id": "17f68aeb-886f-49ee-84f3-30aa1154179d",
   "metadata": {},
   "source": [
    "Fitting the Model"
   ]
  },
  {
   "cell_type": "code",
   "execution_count": 263,
   "id": "d4aa57be-e358-4e6e-9bba-a268de8e2652",
   "metadata": {},
   "outputs": [],
   "source": [
    "varModel = LogisticRegression(penalty=\"elasticnet\",solver=\"saga\",l1_ratio=0.6,class_weight='balanced',max_iter=5000)\n",
    "varModel.fit(x_train01, y_train01.values.ravel())\n",
    "\n",
    "importance = varModel.coef_[0]\n",
    "importance = abs(importance)"
   ]
  },
  {
   "cell_type": "code",
   "execution_count": 264,
   "id": "af79cf11-873f-4a39-ac27-09a60e4653f8",
   "metadata": {},
   "outputs": [
    {
     "data": {
      "image/png": "[encoded data removed]",
      "text/plain": [
       "<Figure size 1440x360 with 1 Axes>"
      ]
     },
     "metadata": {
      "needs_background": "light"
     },
     "output_type": "display_data"
    }
   ],
   "source": [
    "plt.figure(figsize=(20,5))\n",
    "plt.bar(reducedCols,importance)\n",
    "plt.xticks(rotation=90)\n",
    "plt.show() "
   ]
  },
  {
   "cell_type": "code",
   "execution_count": 265,
   "id": "09b28811-fa6a-49bd-aae8-0f40af3e3618",
   "metadata": {},
   "outputs": [
    {
     "name": "stdout",
     "output_type": "stream",
     "text": [
      "[('fa5993', 2.2710230464135273), ('fa5495', 1.6052866810376214), ('fa5656', 1.4618496665836294), ('fa4000', 1.4602472480176556), ('fa4756', 1.2717277133518492), ('fa3563', 1.2361659536143135), ('fa4117', 0.9065514902403993), ('fa4237', 0.8230443697147812), ('fa4896', 0.7682104368092253), ('fa6924', 0.6462332287827268)]\n"
     ]
    },
    {
     "data": {
      "image/png": "[encoded data removed]",
      "text/plain": [
       "<Figure size 432x288 with 1 Axes>"
      ]
     },
     "metadata": {
      "needs_background": "light"
     },
     "output_type": "display_data"
    }
   ],
   "source": [
    "freqKeys=list(reducedCols)\n",
    "\n",
    "d = {freqKeys[i]: importance[i] for i in range(len(freqKeys))}\n",
    "sorted_d = dict( sorted(d.items(), key=operator.itemgetter(1),reverse=True))\n",
    "\n",
    "dict_items = sorted_d.items()\n",
    "topvar_1 = list(dict_items)[:10]\n",
    "print(topvar_1)\n",
    "\n",
    "topvar_1=dict(topvar_1)\n",
    "plt.bar(*zip(*topvar_1.items()))\n",
    "plt.xticks(rotation=90)\n",
    "plt.show()"
   ]
  },
  {
   "cell_type": "code",
   "execution_count": 266,
   "id": "b0d4367f-7212-47df-ac9a-e9d7462e6e14",
   "metadata": {},
   "outputs": [
    {
     "data": {
      "text/plain": [
       "dict_keys(['fa5993', 'fa5495', 'fa5656', 'fa4000', 'fa4756', 'fa3563', 'fa4117', 'fa4237', 'fa4896', 'fa6924'])"
      ]
     },
     "execution_count": 266,
     "metadata": {},
     "output_type": "execute_result"
    }
   ],
   "source": [
    "topvar_1.keys()"
   ]
  },
  {
   "cell_type": "code",
   "execution_count": 267,
   "id": "14ecce28-594e-4e97-b8f1-06f1b325b800",
   "metadata": {},
   "outputs": [
    {
     "name": "stdout",
     "output_type": "stream",
     "text": [
      "              precision    recall  f1-score   support\n",
      "\n",
      "           0       0.95      0.92      0.94       135\n",
      "           1       0.92      0.95      0.93       125\n",
      "\n",
      "    accuracy                           0.93       260\n",
      "   macro avg       0.93      0.94      0.93       260\n",
      "weighted avg       0.94      0.93      0.93       260\n",
      "\n"
     ]
    }
   ],
   "source": [
    "y_prtr01=varModel.predict(x_train01)\n",
    "print(classification_report(y_prtr01, y_train01))"
   ]
  },
  {
   "cell_type": "code",
   "execution_count": 268,
   "id": "e562bcdb-0d54-4137-a83d-0bc2a4cc0369",
   "metadata": {},
   "outputs": [
    {
     "name": "stdout",
     "output_type": "stream",
     "text": [
      "              precision    recall  f1-score   support\n",
      "\n",
      "           0       0.67      0.95      0.78        21\n",
      "           1       0.89      0.44      0.59        18\n",
      "\n",
      "    accuracy                           0.72        39\n",
      "   macro avg       0.78      0.70      0.69        39\n",
      "weighted avg       0.77      0.72      0.70        39\n",
      "\n"
     ]
    }
   ],
   "source": [
    "y_pred01=varModel.predict(x_val01)\n",
    "print(classification_report(y_pred01, y_val01))"
   ]
  },
  {
   "cell_type": "code",
   "execution_count": 269,
   "id": "42ea08ce-e2e1-435b-b9a9-c7b55c452290",
   "metadata": {},
   "outputs": [
    {
     "name": "stderr",
     "output_type": "stream",
     "text": [
      "C:\\Users\\Dennis\\anaconda3\\lib\\site-packages\\sklearn\\utils\\deprecation.py:87: FutureWarning: Function plot_roc_curve is deprecated; Function :func:`plot_roc_curve` is deprecated in 1.0 and will be removed in 1.2. Use one of the class methods: :meth:`sklearn.metrics.RocCurveDisplay.from_predictions` or :meth:`sklearn.metrics.RocCurveDisplay.from_estimator`.\n",
      "  warnings.warn(msg, category=FutureWarning)\n"
     ]
    },
    {
     "data": {
      "text/plain": [
       "<sklearn.metrics._plot.roc_curve.RocCurveDisplay at 0x1ec9b5f89d0>"
      ]
     },
     "execution_count": 269,
     "metadata": {},
     "output_type": "execute_result"
    },
    {
     "data": {
      "image/png": "[encoded data removed]",
      "text/plain": [
       "<Figure size 432x288 with 1 Axes>"
      ]
     },
     "metadata": {
      "needs_background": "light"
     },
     "output_type": "display_data"
    }
   ],
   "source": [
    "metrics.plot_roc_curve(varModel, x_val01, y_val01) "
   ]
  },
  {
   "cell_type": "code",
   "execution_count": 270,
   "id": "f4c26c9a-d4f4-48ae-a072-92027724f73d",
   "metadata": {},
   "outputs": [
    {
     "name": "stderr",
     "output_type": "stream",
     "text": [
      "C:\\Users\\Dennis\\anaconda3\\lib\\site-packages\\sklearn\\utils\\deprecation.py:87: FutureWarning: Function plot_confusion_matrix is deprecated; Function `plot_confusion_matrix` is deprecated in 1.0 and will be removed in 1.2. Use one of the class methods: ConfusionMatrixDisplay.from_predictions or ConfusionMatrixDisplay.from_estimator.\n",
      "  warnings.warn(msg, category=FutureWarning)\n"
     ]
    },
    {
     "data": {
      "text/plain": [
       "<sklearn.metrics._plot.confusion_matrix.ConfusionMatrixDisplay at 0x1ec9ce6c9d0>"
      ]
     },
     "execution_count": 270,
     "metadata": {},
     "output_type": "execute_result"
    },
    {
     "data": {
      "image/png": "[encoded data removed]",
      "text/plain": [
       "<Figure size 432x288 with 2 Axes>"
      ]
     },
     "metadata": {
      "needs_background": "light"
     },
     "output_type": "display_data"
    }
   ],
   "source": [
    "plot_confusion_matrix(varModel, x_val01, y_val01) "
   ]
  },
  {
   "cell_type": "markdown",
   "id": "1c77eec2-a8fd-422f-aabc-fb3323c04249",
   "metadata": {},
   "source": [
    "### Using SMOTEENN"
   ]
  },
  {
   "cell_type": "code",
   "execution_count": 274,
   "id": "a7fa20ca-2c4e-47b0-a930-73b18081dd05",
   "metadata": {},
   "outputs": [],
   "source": [
    "X_test02=pd.read_csv('C:\\\\Users\\\\Dennis\\\\Documents\\\\GitHub\\\\P1_Dennis\\\\With Updated Dataset\\\\03 - SMOTEENN\\\\X_test.csv')\n",
    "X_train02=pd.read_csv('C:\\\\Users\\\\Dennis\\\\Documents\\\\GitHub\\\\P1_Dennis\\\\With Updated Dataset\\\\03 - SMOTEENN\\\\X_train.csv')\n",
    "y_test02=pd.read_csv('C:\\\\Users\\\\Dennis\\\\Documents\\\\GitHub\\\\P1_Dennis\\\\With Updated Dataset\\\\03 - SMOTEENN\\\\y_test.csv')\n",
    "y_train02=pd.read_csv('C:\\\\Users\\\\Dennis\\\\Documents\\\\GitHub\\\\P1_Dennis\\\\With Updated Dataset\\\\03 - SMOTEENN\\\\y_train.csv')\n",
    "x_val02=pd.read_csv('C:\\\\Users\\\\Dennis\\\\Documents\\\\GitHub\\\\P1_Dennis\\\\With Updated Dataset\\\\03 - SMOTEENN\\\\X_val.csv')\n",
    "y_val02=pd.read_csv('C:\\\\Users\\\\Dennis\\\\Documents\\\\GitHub\\\\P1_Dennis\\\\With Updated Dataset\\\\03 - SMOTEENN\\\\y_val.csv')\n",
    "\n",
    "x_test02 = X_test02.drop(['Gender','AgeM','ECV','TPP','SC','OAE1','OAE1.4','OAE2','OAE2.8','OAE4','Ear coded'], axis = 1)\n",
    "x_train02 = X_train02.drop(['Gender','AgeM','ECV','TPP','SC','OAE1','OAE1.4','OAE2','OAE2.8','OAE4','Ear coded'], axis = 1)\n",
    "x_val02 = x_val02.drop(['Gender','AgeM','ECV','TPP','SC','OAE1','OAE1.4','OAE2','OAE2.8','OAE4','Ear coded'], axis = 1)\n",
    "\n",
    "x_train02=x_train02.iloc[:,:107]\n",
    "x_test02=x_test02.iloc[:,:107]\n",
    "x_val02=x_val02.iloc[:,:107]"
   ]
  },
  {
   "cell_type": "code",
   "execution_count": 275,
   "id": "c8d3394f-c7e9-461c-b3e9-3e3dcc367b2b",
   "metadata": {},
   "outputs": [
    {
     "data": {
      "text/plain": [
       "array([False, False, False, False, False, False, False, False, False,\n",
       "       False, False, False, False, False, False, False, False, False,\n",
       "       False, False, False, False, False, False, False, False, False,\n",
       "       False, False, False, False, False, False, False,  True,  True,\n",
       "        True,  True,  True,  True,  True,  True,  True,  True,  True,\n",
       "        True,  True,  True,  True,  True,  True,  True,  True,  True,\n",
       "        True,  True,  True,  True,  True,  True,  True,  True,  True,\n",
       "        True,  True, False, False, False,  True,  True, False,  True,\n",
       "       False, False, False, False, False,  True,  True,  True,  True,\n",
       "        True,  True,  True,  True,  True,  True,  True,  True,  True,\n",
       "        True,  True,  True,  True,  True,  True,  True,  True,  True,\n",
       "        True, False, False, False, False, False, False, False])"
      ]
     },
     "execution_count": 275,
     "metadata": {},
     "output_type": "execute_result"
    }
   ],
   "source": [
    "var_thr = VarianceThreshold(threshold = 0.025 ) \n",
    "var_thr.fit(x_train02)\n",
    "\n",
    "var_thr.get_support()"
   ]
  },
  {
   "cell_type": "code",
   "execution_count": 276,
   "id": "8b6a93af-3bce-4637-94a2-4b94a1e19f78",
   "metadata": {},
   "outputs": [],
   "source": [
    "dropVal = [column for column in x_train02.columns \n",
    "          if column not in x_train02.columns[var_thr.get_support()]]"
   ]
  },
  {
   "cell_type": "code",
   "execution_count": 277,
   "id": "15a62ea5-190b-448e-835e-96ba7142a16f",
   "metadata": {},
   "outputs": [],
   "source": [
    "x_train02=x_train02.drop(dropVal,axis=1)\n",
    "x_test02=x_test02.drop(dropVal,axis=1)\n",
    "x_val02=x_val02.drop(dropVal,axis=1)"
   ]
  },
  {
   "cell_type": "code",
   "execution_count": 278,
   "id": "99161e7b-51a1-4434-9347-6f81a98ba2f5",
   "metadata": {},
   "outputs": [],
   "source": [
    "reducedCols=x_train02.columns"
   ]
  },
  {
   "cell_type": "code",
   "execution_count": 279,
   "id": "3cd8638d-bf39-48b7-aa36-8d419020788f",
   "metadata": {},
   "outputs": [
    {
     "data": {
      "text/plain": [
       "57"
      ]
     },
     "execution_count": 279,
     "metadata": {},
     "output_type": "execute_result"
    }
   ],
   "source": [
    "len(reducedCols)"
   ]
  },
  {
   "cell_type": "markdown",
   "id": "cf1275ed-5fd0-48e6-9641-5119fb6de32f",
   "metadata": {},
   "source": [
    "Scaling and GridSearchCV"
   ]
  },
  {
   "cell_type": "code",
   "execution_count": 280,
   "id": "a51b2a8e-8d33-4736-a712-f0bb9c8f04f6",
   "metadata": {},
   "outputs": [],
   "source": [
    "x_train02 = scaler.fit_transform(x_train02)\n",
    "x_val02 = scaler.fit_transform(x_val02)"
   ]
  },
  {
   "cell_type": "code",
   "execution_count": 281,
   "id": "61b9951b-5d6b-474e-8180-54b19950cca4",
   "metadata": {},
   "outputs": [
    {
     "data": {
      "text/html": [
       "<style>#sk-container-id-7 {color: black;background-color: white;}#sk-container-id-7 pre{padding: 0;}#sk-container-id-7 div.sk-toggleable {background-color: white;}#sk-container-id-7 label.sk-toggleable__label {cursor: pointer;display: block;width: 100%;margin-bottom: 0;padding: 0.3em;box-sizing: border-box;text-align: center;}#sk-container-id-7 label.sk-toggleable__label-arrow:before {content: \"▸\";float: left;margin-right: 0.25em;color: #696969;}#sk-container-id-7 label.sk-toggleable__label-arrow:hover:before {color: black;}#sk-container-id-7 div.sk-estimator:hover label.sk-toggleable__label-arrow:before {color: black;}#sk-container-id-7 div.sk-toggleable__content {max-height: 0;max-width: 0;overflow: hidden;text-align: left;background-color: #f0f8ff;}#sk-container-id-7 div.sk-toggleable__content pre {margin: 0.2em;color: black;border-radius: 0.25em;background-color: #f0f8ff;}#sk-container-id-7 input.sk-toggleable__control:checked~div.sk-toggleable__content {max-height: 200px;max-width: 100%;overflow: auto;}#sk-container-id-7 input.sk-toggleable__control:checked~label.sk-toggleable__label-arrow:before {content: \"▾\";}#sk-container-id-7 div.sk-estimator input.sk-toggleable__control:checked~label.sk-toggleable__label {background-color: #d4ebff;}#sk-container-id-7 div.sk-label input.sk-toggleable__control:checked~label.sk-toggleable__label {background-color: #d4ebff;}#sk-container-id-7 input.sk-hidden--visually {border: 0;clip: rect(1px 1px 1px 1px);clip: rect(1px, 1px, 1px, 1px);height: 1px;margin: -1px;overflow: hidden;padding: 0;position: absolute;width: 1px;}#sk-container-id-7 div.sk-estimator {font-family: monospace;background-color: #f0f8ff;border: 1px dotted black;border-radius: 0.25em;box-sizing: border-box;margin-bottom: 0.5em;}#sk-container-id-7 div.sk-estimator:hover {background-color: #d4ebff;}#sk-container-id-7 div.sk-parallel-item::after {content: \"\";width: 100%;border-bottom: 1px solid gray;flex-grow: 1;}#sk-container-id-7 div.sk-label:hover label.sk-toggleable__label {background-color: #d4ebff;}#sk-container-id-7 div.sk-serial::before {content: \"\";position: absolute;border-left: 1px solid gray;box-sizing: border-box;top: 0;bottom: 0;left: 50%;z-index: 0;}#sk-container-id-7 div.sk-serial {display: flex;flex-direction: column;align-items: center;background-color: white;padding-right: 0.2em;padding-left: 0.2em;position: relative;}#sk-container-id-7 div.sk-item {position: relative;z-index: 1;}#sk-container-id-7 div.sk-parallel {display: flex;align-items: stretch;justify-content: center;background-color: white;position: relative;}#sk-container-id-7 div.sk-item::before, #sk-container-id-7 div.sk-parallel-item::before {content: \"\";position: absolute;border-left: 1px solid gray;box-sizing: border-box;top: 0;bottom: 0;left: 50%;z-index: -1;}#sk-container-id-7 div.sk-parallel-item {display: flex;flex-direction: column;z-index: 1;position: relative;background-color: white;}#sk-container-id-7 div.sk-parallel-item:first-child::after {align-self: flex-end;width: 50%;}#sk-container-id-7 div.sk-parallel-item:last-child::after {align-self: flex-start;width: 50%;}#sk-container-id-7 div.sk-parallel-item:only-child::after {width: 0;}#sk-container-id-7 div.sk-dashed-wrapped {border: 1px dashed gray;margin: 0 0.4em 0.5em 0.4em;box-sizing: border-box;padding-bottom: 0.4em;background-color: white;}#sk-container-id-7 div.sk-label label {font-family: monospace;font-weight: bold;display: inline-block;line-height: 1.2em;}#sk-container-id-7 div.sk-label-container {text-align: center;}#sk-container-id-7 div.sk-container {/* jupyter's `normalize.less` sets `[hidden] { display: none; }` but bootstrap.min.css set `[hidden] { display: none !important; }` so we also need the `!important` here to be able to override the default hidden behavior on the sphinx rendered scikit-learn.org. See: https://github.com/scikit-learn/scikit-learn/issues/21755 */display: inline-block !important;position: relative;}#sk-container-id-7 div.sk-text-repr-fallback {display: none;}</style><div id=\"sk-container-id-7\" class=\"sk-top-container\"><div class=\"sk-text-repr-fallback\"><pre>GridSearchCV(estimator=LogisticRegression(),\n",
       "             param_grid={&#x27;l1_ratio&#x27;: [0, 0.1, 0.2, 0.3, 0.4, 0.5, 0.6, 0.7, 0.8,\n",
       "                                      0.9, 1],\n",
       "                         &#x27;max_iter&#x27;: [6000], &#x27;penalty&#x27;: [&#x27;elasticnet&#x27;],\n",
       "                         &#x27;solver&#x27;: [&#x27;saga&#x27;]})</pre><b>In a Jupyter environment, please rerun this cell to show the HTML representation or trust the notebook. <br />On GitHub, the HTML representation is unable to render, please try loading this page with nbviewer.org.</b></div><div class=\"sk-container\" hidden><div class=\"sk-item sk-dashed-wrapped\"><div class=\"sk-label-container\"><div class=\"sk-label sk-toggleable\"><input class=\"sk-toggleable__control sk-hidden--visually\" id=\"sk-estimator-id-19\" type=\"checkbox\" ><label for=\"sk-estimator-id-19\" class=\"sk-toggleable__label sk-toggleable__label-arrow\">GridSearchCV</label><div class=\"sk-toggleable__content\"><pre>GridSearchCV(estimator=LogisticRegression(),\n",
       "             param_grid={&#x27;l1_ratio&#x27;: [0, 0.1, 0.2, 0.3, 0.4, 0.5, 0.6, 0.7, 0.8,\n",
       "                                      0.9, 1],\n",
       "                         &#x27;max_iter&#x27;: [6000], &#x27;penalty&#x27;: [&#x27;elasticnet&#x27;],\n",
       "                         &#x27;solver&#x27;: [&#x27;saga&#x27;]})</pre></div></div></div><div class=\"sk-parallel\"><div class=\"sk-parallel-item\"><div class=\"sk-item\"><div class=\"sk-label-container\"><div class=\"sk-label sk-toggleable\"><input class=\"sk-toggleable__control sk-hidden--visually\" id=\"sk-estimator-id-20\" type=\"checkbox\" ><label for=\"sk-estimator-id-20\" class=\"sk-toggleable__label sk-toggleable__label-arrow\">estimator: LogisticRegression</label><div class=\"sk-toggleable__content\"><pre>LogisticRegression()</pre></div></div></div><div class=\"sk-serial\"><div class=\"sk-item\"><div class=\"sk-estimator sk-toggleable\"><input class=\"sk-toggleable__control sk-hidden--visually\" id=\"sk-estimator-id-21\" type=\"checkbox\" ><label for=\"sk-estimator-id-21\" class=\"sk-toggleable__label sk-toggleable__label-arrow\">LogisticRegression</label><div class=\"sk-toggleable__content\"><pre>LogisticRegression()</pre></div></div></div></div></div></div></div></div></div></div>"
      ],
      "text/plain": [
       "GridSearchCV(estimator=LogisticRegression(),\n",
       "             param_grid={'l1_ratio': [0, 0.1, 0.2, 0.3, 0.4, 0.5, 0.6, 0.7, 0.8,\n",
       "                                      0.9, 1],\n",
       "                         'max_iter': [6000], 'penalty': ['elasticnet'],\n",
       "                         'solver': ['saga']})"
      ]
     },
     "execution_count": 281,
     "metadata": {},
     "output_type": "execute_result"
    }
   ],
   "source": [
    "#initializing grid search and fitting with parameters\n",
    "parameters = { 'penalty':['elasticnet'],'solver':['saga']\n",
    "              ,'l1_ratio':[0,0.1,0.2,0.3,0.4,0.5,0.6,0.7,0.8,0.9,1],'max_iter':[6000]}\n",
    "logModel = LogisticRegression()\n",
    "\n",
    "#conducting grid search to find the best l1 ratio\n",
    "gridTrain = GridSearchCV (logModel , parameters)\n",
    "gridTrain.fit (x_train02,y_train02.values.ravel())"
   ]
  },
  {
   "cell_type": "code",
   "execution_count": 282,
   "id": "c050012c-fa9d-457f-b3e9-9658023a50ee",
   "metadata": {},
   "outputs": [
    {
     "name": "stdout",
     "output_type": "stream",
     "text": [
      "{'l1_ratio': 0.7, 'max_iter': 6000, 'penalty': 'elasticnet', 'solver': 'saga'}\n"
     ]
    }
   ],
   "source": [
    "print(gridTrain.best_params_)"
   ]
  },
  {
   "cell_type": "markdown",
   "id": "36136044-e1cf-4e2a-87b8-ddf2ff6e0d15",
   "metadata": {},
   "source": [
    "Fitting the Model"
   ]
  },
  {
   "cell_type": "code",
   "execution_count": 283,
   "id": "d80e446b-c55c-40dc-a712-60f10468b253",
   "metadata": {},
   "outputs": [],
   "source": [
    "varModel = LogisticRegression(penalty=\"elasticnet\",solver=\"saga\",l1_ratio=0.7,class_weight='balanced',max_iter=6000)\n",
    "varModel.fit(x_train02, y_train02.values.ravel())\n",
    "\n",
    "importance = varModel.coef_[0]\n",
    "importance = abs(importance)"
   ]
  },
  {
   "cell_type": "code",
   "execution_count": 393,
   "id": "2d3449cc-e91c-4779-bcd9-aa08c40a81c1",
   "metadata": {},
   "outputs": [
    {
     "data": {
      "image/png": "[encoded data removed]",
      "text/plain": [
       "<Figure size 1440x360 with 1 Axes>"
      ]
     },
     "metadata": {
      "needs_background": "light"
     },
     "output_type": "display_data"
    }
   ],
   "source": [
    "plt.figure(figsize=(20,5))\n",
    "plt.bar(reducedCols,importance)\n",
    "plt.xticks(rotation=90)\n",
    "plt.show() "
   ]
  },
  {
   "cell_type": "code",
   "execution_count": 394,
   "id": "03396f36-7b71-4b53-aad1-f0e349882adf",
   "metadata": {},
   "outputs": [
    {
     "name": "stdout",
     "output_type": "stream",
     "text": [
      "[('fa4000', 0.9719121531250131), ('fa4117', 0.798930177186218), ('fa2911', 0.7811080445425349), ('fa4237', 0.6942598825762203), ('fa1296', 0.6619550141189724), ('fa1334', 0.6549877970055928), ('fa2747', 0.6425794229896677), ('fa1090', 0.6354390918514539), ('fa4756', 0.6348684890774339), ('fa1373', 0.6203086990300922)]\n"
     ]
    },
    {
     "data": {
      "image/png": "[encoded data removed]",
      "text/plain": [
       "<Figure size 432x288 with 1 Axes>"
      ]
     },
     "metadata": {
      "needs_background": "light"
     },
     "output_type": "display_data"
    }
   ],
   "source": [
    "freqKeys=list(reducedCols)\n",
    "\n",
    "d = {freqKeys[i]: importance[i] for i in range(len(freqKeys))}\n",
    "sorted_d = dict( sorted(d.items(), key=operator.itemgetter(1),reverse=True))\n",
    "\n",
    "dict_items = sorted_d.items()\n",
    "topvar_2 = list(dict_items)[:10]\n",
    "print(topvar_2)\n",
    "\n",
    "topvar_2=dict(topvar_2)\n",
    "plt.bar(*zip(*topvar_2.items()))\n",
    "plt.xticks(rotation=90)\n",
    "plt.show()"
   ]
  },
  {
   "cell_type": "code",
   "execution_count": 395,
   "id": "a28e78fd-5beb-4d7b-bc5a-44097867b15f",
   "metadata": {},
   "outputs": [
    {
     "data": {
      "text/plain": [
       "dict_keys(['fa4000', 'fa4117', 'fa2911', 'fa4237', 'fa1296', 'fa1334', 'fa2747', 'fa1090', 'fa4756', 'fa1373'])"
      ]
     },
     "execution_count": 395,
     "metadata": {},
     "output_type": "execute_result"
    }
   ],
   "source": [
    "topvar_2.keys()"
   ]
  },
  {
   "cell_type": "code",
   "execution_count": 396,
   "id": "120b0217-5db2-4b13-816e-da61715ecbd4",
   "metadata": {},
   "outputs": [
    {
     "name": "stdout",
     "output_type": "stream",
     "text": [
      "              precision    recall  f1-score   support\n",
      "\n",
      "           0       0.90      0.89      0.89        98\n",
      "           1       0.91      0.92      0.91       120\n",
      "\n",
      "    accuracy                           0.90       218\n",
      "   macro avg       0.90      0.90      0.90       218\n",
      "weighted avg       0.90      0.90      0.90       218\n",
      "\n"
     ]
    }
   ],
   "source": [
    "y_prtr02=varModel.predict(x_train02)\n",
    "print(classification_report(y_prtr02, y_train02))"
   ]
  },
  {
   "cell_type": "code",
   "execution_count": 397,
   "id": "73633adc-3df2-4727-ac23-f76e28d01b8a",
   "metadata": {},
   "outputs": [
    {
     "name": "stdout",
     "output_type": "stream",
     "text": [
      "              precision    recall  f1-score   support\n",
      "\n",
      "           0       0.90      0.96      0.93        28\n",
      "           1       0.89      0.73      0.80        11\n",
      "\n",
      "    accuracy                           0.90        39\n",
      "   macro avg       0.89      0.85      0.87        39\n",
      "weighted avg       0.90      0.90      0.89        39\n",
      "\n"
     ]
    }
   ],
   "source": [
    "y_pred02=varModel.predict(x_val02)\n",
    "print(classification_report(y_pred02, y_val02))"
   ]
  },
  {
   "cell_type": "code",
   "execution_count": 398,
   "id": "0ade62f8-19c0-44a0-8fd6-a9a5f944d536",
   "metadata": {},
   "outputs": [
    {
     "name": "stderr",
     "output_type": "stream",
     "text": [
      "C:\\Users\\Dennis\\anaconda3\\lib\\site-packages\\sklearn\\utils\\deprecation.py:87: FutureWarning: Function plot_confusion_matrix is deprecated; Function `plot_confusion_matrix` is deprecated in 1.0 and will be removed in 1.2. Use one of the class methods: ConfusionMatrixDisplay.from_predictions or ConfusionMatrixDisplay.from_estimator.\n",
      "  warnings.warn(msg, category=FutureWarning)\n"
     ]
    },
    {
     "data": {
      "text/plain": [
       "<sklearn.metrics._plot.confusion_matrix.ConfusionMatrixDisplay at 0x159db5d1f40>"
      ]
     },
     "execution_count": 398,
     "metadata": {},
     "output_type": "execute_result"
    },
    {
     "data": {
      "image/png": "[encoded data removed]",
      "text/plain": [
       "<Figure size 432x288 with 2 Axes>"
      ]
     },
     "metadata": {
      "needs_background": "light"
     },
     "output_type": "display_data"
    }
   ],
   "source": [
    "plot_confusion_matrix(varModel, x_val02, y_val02) "
   ]
  },
  {
   "cell_type": "markdown",
   "id": "4c6eb384-83b1-4638-9982-7f60daabaa7b",
   "metadata": {},
   "source": [
    "### Using SMOTETomek"
   ]
  },
  {
   "cell_type": "code",
   "execution_count": 427,
   "id": "cd9d30e7-8ba9-4213-8898-b223fe20cc8a",
   "metadata": {},
   "outputs": [],
   "source": [
    "X_test03=pd.read_csv('C:\\\\Users\\\\Dennis\\\\Documents\\\\GitHub\\\\P1_Dennis\\\\With Updated Dataset\\\\04 - SMOTETomek\\\\X_test.csv')\n",
    "X_train03=pd.read_csv('C:\\\\Users\\\\Dennis\\\\Documents\\\\GitHub\\\\P1_Dennis\\\\With Updated Dataset\\\\04 - SMOTETomek\\\\X_train.csv')\n",
    "y_test03=pd.read_csv('C:\\\\Users\\\\Dennis\\\\Documents\\\\GitHub\\\\P1_Dennis\\\\With Updated Dataset\\\\04 - SMOTETomek\\\\y_test.csv')\n",
    "y_train03=pd.read_csv('C:\\\\Users\\\\Dennis\\\\Documents\\\\GitHub\\\\P1_Dennis\\\\With Updated Dataset\\\\04 - SMOTETomek\\\\y_train.csv')\n",
    "x_val03=pd.read_csv('C:\\\\Users\\\\Dennis\\\\Documents\\\\GitHub\\\\P1_Dennis\\\\With Updated Dataset\\\\04 - SMOTETomek\\\\X_val.csv')\n",
    "y_val03=pd.read_csv('C:\\\\Users\\\\Dennis\\\\Documents\\\\GitHub\\\\P1_Dennis\\\\With Updated Dataset\\\\04 - SMOTETomek\\\\y_val.csv')\n",
    "\n",
    "x_test03 = X_test03.drop(['Gender','AgeM','ECV','TPP','SC','OAE1','OAE1.4','OAE2','OAE2.8','OAE4','Ear coded'], axis = 1)\n",
    "x_train03 = X_train03.drop(['Gender','AgeM','ECV','TPP','SC','OAE1','OAE1.4','OAE2','OAE2.8','OAE4','Ear coded'], axis = 1)\n",
    "x_val03 = x_val03.drop(['Gender','AgeM','ECV','TPP','SC','OAE1','OAE1.4','OAE2','OAE2.8','OAE4','Ear coded'], axis = 1)\n",
    "\n",
    "x_train03=x_train03.iloc[:,:107]\n",
    "x_test03=x_test03.iloc[:,:107]\n",
    "x_val03=x_val03.iloc[:,:107]"
   ]
  },
  {
   "cell_type": "code",
   "execution_count": 428,
   "id": "5b117a38-e456-4236-a61b-c679cc85b2c5",
   "metadata": {},
   "outputs": [
    {
     "data": {
      "text/plain": [
       "array([False, False, False, False, False, False, False, False, False,\n",
       "       False, False, False, False, False, False, False, False, False,\n",
       "       False, False, False, False, False, False, False, False, False,\n",
       "       False, False, False, False, False, False, False,  True,  True,\n",
       "        True,  True,  True,  True,  True,  True,  True,  True,  True,\n",
       "        True,  True,  True,  True,  True,  True,  True,  True,  True,\n",
       "        True,  True,  True,  True,  True,  True,  True,  True,  True,\n",
       "        True,  True, False, False, False,  True, False, False, False,\n",
       "       False, False, False, False, False, False,  True,  True,  True,\n",
       "        True,  True,  True,  True,  True,  True,  True,  True,  True,\n",
       "        True,  True,  True,  True,  True,  True,  True,  True,  True,\n",
       "        True,  True, False, False, False, False, False, False])"
      ]
     },
     "execution_count": 428,
     "metadata": {},
     "output_type": "execute_result"
    }
   ],
   "source": [
    "var_thr = VarianceThreshold(threshold = 0.025 ) \n",
    "var_thr.fit(x_train03)\n",
    "\n",
    "var_thr.get_support()"
   ]
  },
  {
   "cell_type": "code",
   "execution_count": 429,
   "id": "a11359a7-2cb6-4268-9975-e56b64028a63",
   "metadata": {},
   "outputs": [],
   "source": [
    "dropVal = [column for column in x_train03.columns \n",
    "          if column not in x_train03.columns[var_thr.get_support()]]"
   ]
  },
  {
   "cell_type": "code",
   "execution_count": 430,
   "id": "9414d45e-ddf9-4fcb-aafa-77db1cea6dab",
   "metadata": {},
   "outputs": [],
   "source": [
    "x_train03=x_train03.drop(dropVal,axis=1)\n",
    "x_test03=x_test03.drop(dropVal,axis=1)\n",
    "x_val03=x_val03.drop(dropVal,axis=1)"
   ]
  },
  {
   "cell_type": "code",
   "execution_count": 431,
   "id": "6cd9f7f6-d4ff-4fa1-b347-9acf5cc9b014",
   "metadata": {},
   "outputs": [],
   "source": [
    "reducedCols=x_train03.columns"
   ]
  },
  {
   "cell_type": "code",
   "execution_count": 432,
   "id": "1e91558d-6601-4433-b97c-e276b7658c3f",
   "metadata": {},
   "outputs": [
    {
     "data": {
      "text/plain": [
       "55"
      ]
     },
     "execution_count": 432,
     "metadata": {},
     "output_type": "execute_result"
    }
   ],
   "source": [
    "len(reducedCols)"
   ]
  },
  {
   "cell_type": "markdown",
   "id": "dafab521-7b66-4710-a06c-036d56bd8608",
   "metadata": {},
   "source": [
    "Scaling and GridSearchCV"
   ]
  },
  {
   "cell_type": "code",
   "execution_count": 104,
   "id": "d8036165-5e94-486f-a79f-a140467ecd01",
   "metadata": {},
   "outputs": [],
   "source": [
    "x_test03 = scaler.fit_transform(x_test03)\n",
    "x_train03 = scaler.fit_transform(x_train03)\n",
    "x_val03 = scaler.fit_transform(x_val03)"
   ]
  },
  {
   "cell_type": "code",
   "execution_count": 405,
   "id": "6c653520-cbf1-4520-8a07-9af2f496f931",
   "metadata": {},
   "outputs": [
    {
     "data": {
      "text/html": [
       "<style>#sk-container-id-11 {color: black;background-color: white;}#sk-container-id-11 pre{padding: 0;}#sk-container-id-11 div.sk-toggleable {background-color: white;}#sk-container-id-11 label.sk-toggleable__label {cursor: pointer;display: block;width: 100%;margin-bottom: 0;padding: 0.3em;box-sizing: border-box;text-align: center;}#sk-container-id-11 label.sk-toggleable__label-arrow:before {content: \"▸\";float: left;margin-right: 0.25em;color: #696969;}#sk-container-id-11 label.sk-toggleable__label-arrow:hover:before {color: black;}#sk-container-id-11 div.sk-estimator:hover label.sk-toggleable__label-arrow:before {color: black;}#sk-container-id-11 div.sk-toggleable__content {max-height: 0;max-width: 0;overflow: hidden;text-align: left;background-color: #f0f8ff;}#sk-container-id-11 div.sk-toggleable__content pre {margin: 0.2em;color: black;border-radius: 0.25em;background-color: #f0f8ff;}#sk-container-id-11 input.sk-toggleable__control:checked~div.sk-toggleable__content {max-height: 200px;max-width: 100%;overflow: auto;}#sk-container-id-11 input.sk-toggleable__control:checked~label.sk-toggleable__label-arrow:before {content: \"▾\";}#sk-container-id-11 div.sk-estimator input.sk-toggleable__control:checked~label.sk-toggleable__label {background-color: #d4ebff;}#sk-container-id-11 div.sk-label input.sk-toggleable__control:checked~label.sk-toggleable__label {background-color: #d4ebff;}#sk-container-id-11 input.sk-hidden--visually {border: 0;clip: rect(1px 1px 1px 1px);clip: rect(1px, 1px, 1px, 1px);height: 1px;margin: -1px;overflow: hidden;padding: 0;position: absolute;width: 1px;}#sk-container-id-11 div.sk-estimator {font-family: monospace;background-color: #f0f8ff;border: 1px dotted black;border-radius: 0.25em;box-sizing: border-box;margin-bottom: 0.5em;}#sk-container-id-11 div.sk-estimator:hover {background-color: #d4ebff;}#sk-container-id-11 div.sk-parallel-item::after {content: \"\";width: 100%;border-bottom: 1px solid gray;flex-grow: 1;}#sk-container-id-11 div.sk-label:hover label.sk-toggleable__label {background-color: #d4ebff;}#sk-container-id-11 div.sk-serial::before {content: \"\";position: absolute;border-left: 1px solid gray;box-sizing: border-box;top: 0;bottom: 0;left: 50%;z-index: 0;}#sk-container-id-11 div.sk-serial {display: flex;flex-direction: column;align-items: center;background-color: white;padding-right: 0.2em;padding-left: 0.2em;position: relative;}#sk-container-id-11 div.sk-item {position: relative;z-index: 1;}#sk-container-id-11 div.sk-parallel {display: flex;align-items: stretch;justify-content: center;background-color: white;position: relative;}#sk-container-id-11 div.sk-item::before, #sk-container-id-11 div.sk-parallel-item::before {content: \"\";position: absolute;border-left: 1px solid gray;box-sizing: border-box;top: 0;bottom: 0;left: 50%;z-index: -1;}#sk-container-id-11 div.sk-parallel-item {display: flex;flex-direction: column;z-index: 1;position: relative;background-color: white;}#sk-container-id-11 div.sk-parallel-item:first-child::after {align-self: flex-end;width: 50%;}#sk-container-id-11 div.sk-parallel-item:last-child::after {align-self: flex-start;width: 50%;}#sk-container-id-11 div.sk-parallel-item:only-child::after {width: 0;}#sk-container-id-11 div.sk-dashed-wrapped {border: 1px dashed gray;margin: 0 0.4em 0.5em 0.4em;box-sizing: border-box;padding-bottom: 0.4em;background-color: white;}#sk-container-id-11 div.sk-label label {font-family: monospace;font-weight: bold;display: inline-block;line-height: 1.2em;}#sk-container-id-11 div.sk-label-container {text-align: center;}#sk-container-id-11 div.sk-container {/* jupyter's `normalize.less` sets `[hidden] { display: none; }` but bootstrap.min.css set `[hidden] { display: none !important; }` so we also need the `!important` here to be able to override the default hidden behavior on the sphinx rendered scikit-learn.org. See: https://github.com/scikit-learn/scikit-learn/issues/21755 */display: inline-block !important;position: relative;}#sk-container-id-11 div.sk-text-repr-fallback {display: none;}</style><div id=\"sk-container-id-11\" class=\"sk-top-container\"><div class=\"sk-text-repr-fallback\"><pre>GridSearchCV(estimator=LogisticRegression(),\n",
       "             param_grid={&#x27;l1_ratio&#x27;: [0, 0.1, 0.2, 0.3, 0.4, 0.5, 0.6, 0.7, 0.8,\n",
       "                                      0.9, 1],\n",
       "                         &#x27;max_iter&#x27;: [5000], &#x27;penalty&#x27;: [&#x27;elasticnet&#x27;],\n",
       "                         &#x27;solver&#x27;: [&#x27;saga&#x27;]})</pre><b>In a Jupyter environment, please rerun this cell to show the HTML representation or trust the notebook. <br />On GitHub, the HTML representation is unable to render, please try loading this page with nbviewer.org.</b></div><div class=\"sk-container\" hidden><div class=\"sk-item sk-dashed-wrapped\"><div class=\"sk-label-container\"><div class=\"sk-label sk-toggleable\"><input class=\"sk-toggleable__control sk-hidden--visually\" id=\"sk-estimator-id-31\" type=\"checkbox\" ><label for=\"sk-estimator-id-31\" class=\"sk-toggleable__label sk-toggleable__label-arrow\">GridSearchCV</label><div class=\"sk-toggleable__content\"><pre>GridSearchCV(estimator=LogisticRegression(),\n",
       "             param_grid={&#x27;l1_ratio&#x27;: [0, 0.1, 0.2, 0.3, 0.4, 0.5, 0.6, 0.7, 0.8,\n",
       "                                      0.9, 1],\n",
       "                         &#x27;max_iter&#x27;: [5000], &#x27;penalty&#x27;: [&#x27;elasticnet&#x27;],\n",
       "                         &#x27;solver&#x27;: [&#x27;saga&#x27;]})</pre></div></div></div><div class=\"sk-parallel\"><div class=\"sk-parallel-item\"><div class=\"sk-item\"><div class=\"sk-label-container\"><div class=\"sk-label sk-toggleable\"><input class=\"sk-toggleable__control sk-hidden--visually\" id=\"sk-estimator-id-32\" type=\"checkbox\" ><label for=\"sk-estimator-id-32\" class=\"sk-toggleable__label sk-toggleable__label-arrow\">estimator: LogisticRegression</label><div class=\"sk-toggleable__content\"><pre>LogisticRegression()</pre></div></div></div><div class=\"sk-serial\"><div class=\"sk-item\"><div class=\"sk-estimator sk-toggleable\"><input class=\"sk-toggleable__control sk-hidden--visually\" id=\"sk-estimator-id-33\" type=\"checkbox\" ><label for=\"sk-estimator-id-33\" class=\"sk-toggleable__label sk-toggleable__label-arrow\">LogisticRegression</label><div class=\"sk-toggleable__content\"><pre>LogisticRegression()</pre></div></div></div></div></div></div></div></div></div></div>"
      ],
      "text/plain": [
       "GridSearchCV(estimator=LogisticRegression(),\n",
       "             param_grid={'l1_ratio': [0, 0.1, 0.2, 0.3, 0.4, 0.5, 0.6, 0.7, 0.8,\n",
       "                                      0.9, 1],\n",
       "                         'max_iter': [5000], 'penalty': ['elasticnet'],\n",
       "                         'solver': ['saga']})"
      ]
     },
     "execution_count": 405,
     "metadata": {},
     "output_type": "execute_result"
    }
   ],
   "source": [
    "#initializing grid search and fitting with parameters\n",
    "parameters = { 'penalty':['elasticnet'],'solver':['saga']\n",
    "              ,'l1_ratio':[0,0.1,0.2,0.3,0.4,0.5,0.6,0.7,0.8,0.9,1],'max_iter':[5000]}\n",
    "logModel = LogisticRegression()\n",
    "\n",
    "#conducting grid search to find the best l1 ratio\n",
    "gridTrain = GridSearchCV (logModel , parameters)\n",
    "gridTrain.fit (x_train03,y_train03.values.ravel())"
   ]
  },
  {
   "cell_type": "code",
   "execution_count": 406,
   "id": "7c0da62b-674a-4253-a7a0-0cba9064a854",
   "metadata": {},
   "outputs": [
    {
     "name": "stdout",
     "output_type": "stream",
     "text": [
      "{'l1_ratio': 0, 'max_iter': 5000, 'penalty': 'elasticnet', 'solver': 'saga'}\n"
     ]
    }
   ],
   "source": [
    "print(gridTrain.best_params_)"
   ]
  },
  {
   "cell_type": "markdown",
   "id": "72d2c787-c37f-43e9-911d-42d8c95e6adf",
   "metadata": {},
   "source": [
    "Fitting the Model"
   ]
  },
  {
   "cell_type": "code",
   "execution_count": 407,
   "id": "3d82cfa2-dd02-4f0c-b34b-7b905b9c20c6",
   "metadata": {},
   "outputs": [],
   "source": [
    "varModel = LogisticRegression(penalty=\"elasticnet\",solver=\"saga\",l1_ratio=0.7,class_weight='balanced',max_iter=6000)\n",
    "varModel.fit(x_train03, y_train03.values.ravel())\n",
    "\n",
    "importance = varModel.coef_[0]\n",
    "importance = abs(importance)"
   ]
  },
  {
   "cell_type": "code",
   "execution_count": 408,
   "id": "4c86d65a-b3b2-4ae5-a8f6-8b43a834ca40",
   "metadata": {},
   "outputs": [
    {
     "data": {
      "image/png": "[encoded data removed]",
      "text/plain": [
       "<Figure size 1440x360 with 1 Axes>"
      ]
     },
     "metadata": {
      "needs_background": "light"
     },
     "output_type": "display_data"
    }
   ],
   "source": [
    "plt.figure(figsize=(20,5))\n",
    "plt.bar(reducedCols,importance)\n",
    "plt.xticks(rotation=90)\n",
    "plt.show() "
   ]
  },
  {
   "cell_type": "code",
   "execution_count": 409,
   "id": "f4612e11-ba30-487e-9fd0-9251fd456c56",
   "metadata": {},
   "outputs": [
    {
     "name": "stdout",
     "output_type": "stream",
     "text": [
      "[('fa4000', 1.6031677503199435), ('fa1090', 1.3246507391183568), ('fa1059', 1.0887236011742774), ('fa1122', 1.0025873883609246), ('fa4117', 0.9016702609862756), ('fa1029', 0.8983057889967584), ('fa1834', 0.881860135085575), ('fa1943', 0.7861692198017042), ('fa1887', 0.7297866396123489), ('fa1000', 0.713449073332625)]\n"
     ]
    },
    {
     "data": {
      "image/png": "[encoded data removed]",
      "text/plain": [
       "<Figure size 432x288 with 1 Axes>"
      ]
     },
     "metadata": {
      "needs_background": "light"
     },
     "output_type": "display_data"
    }
   ],
   "source": [
    "freqKeys=list(reducedCols)\n",
    "\n",
    "d = {freqKeys[i]: importance[i] for i in range(len(freqKeys))}\n",
    "sorted_d = dict( sorted(d.items(), key=operator.itemgetter(1),reverse=True))\n",
    "\n",
    "dict_items = sorted_d.items()\n",
    "topvar_3 = list(dict_items)[:10]\n",
    "print(topvar_3)\n",
    "\n",
    "topvar_3=dict(topvar_3)\n",
    "plt.bar(*zip(*topvar_3.items()))\n",
    "plt.xticks(rotation=90)\n",
    "plt.show()"
   ]
  },
  {
   "cell_type": "code",
   "execution_count": 410,
   "id": "e5fa7da5-129a-4d71-a44a-137e02083131",
   "metadata": {},
   "outputs": [
    {
     "data": {
      "text/plain": [
       "dict_keys(['fa4000', 'fa1090', 'fa1059', 'fa1122', 'fa4117', 'fa1029', 'fa1834', 'fa1943', 'fa1887', 'fa1000'])"
      ]
     },
     "execution_count": 410,
     "metadata": {},
     "output_type": "execute_result"
    }
   ],
   "source": [
    "topvar_3.keys()"
   ]
  },
  {
   "cell_type": "code",
   "execution_count": 411,
   "id": "94207f0b-b9ec-4cd2-a93d-42e3d3033ee5",
   "metadata": {},
   "outputs": [
    {
     "name": "stdout",
     "output_type": "stream",
     "text": [
      "              precision    recall  f1-score   support\n",
      "\n",
      "           0       0.88      0.84      0.86       134\n",
      "           1       0.83      0.88      0.85       120\n",
      "\n",
      "    accuracy                           0.85       254\n",
      "   macro avg       0.85      0.86      0.85       254\n",
      "weighted avg       0.86      0.85      0.85       254\n",
      "\n"
     ]
    }
   ],
   "source": [
    "y_prtr03=varModel.predict(x_train03)\n",
    "print(classification_report(y_prtr03, y_train03))"
   ]
  },
  {
   "cell_type": "code",
   "execution_count": 412,
   "id": "157a1a9e-2941-4ad7-bffd-c1b7da1eb64e",
   "metadata": {},
   "outputs": [
    {
     "name": "stdout",
     "output_type": "stream",
     "text": [
      "              precision    recall  f1-score   support\n",
      "\n",
      "           0       0.90      0.96      0.93        28\n",
      "           1       0.89      0.73      0.80        11\n",
      "\n",
      "    accuracy                           0.90        39\n",
      "   macro avg       0.89      0.85      0.87        39\n",
      "weighted avg       0.90      0.90      0.89        39\n",
      "\n"
     ]
    }
   ],
   "source": [
    "y_pred03=varModel.predict(x_val03)\n",
    "print(classification_report(y_pred03, y_val03))"
   ]
  },
  {
   "cell_type": "code",
   "execution_count": 413,
   "id": "7dc1db99-44c8-4335-be8c-7962d714553c",
   "metadata": {},
   "outputs": [
    {
     "name": "stderr",
     "output_type": "stream",
     "text": [
      "C:\\Users\\Dennis\\anaconda3\\lib\\site-packages\\sklearn\\utils\\deprecation.py:87: FutureWarning: Function plot_roc_curve is deprecated; Function :func:`plot_roc_curve` is deprecated in 1.0 and will be removed in 1.2. Use one of the class methods: :meth:`sklearn.metrics.RocCurveDisplay.from_predictions` or :meth:`sklearn.metrics.RocCurveDisplay.from_estimator`.\n",
      "  warnings.warn(msg, category=FutureWarning)\n"
     ]
    },
    {
     "data": {
      "text/plain": [
       "<sklearn.metrics._plot.roc_curve.RocCurveDisplay at 0x159deecdd30>"
      ]
     },
     "execution_count": 413,
     "metadata": {},
     "output_type": "execute_result"
    },
    {
     "data": {
      "image/png": "[encoded data removed]",
      "text/plain": [
       "<Figure size 432x288 with 1 Axes>"
      ]
     },
     "metadata": {
      "needs_background": "light"
     },
     "output_type": "display_data"
    }
   ],
   "source": [
    "metrics.plot_roc_curve(varModel, x_val03, y_val03) "
   ]
  },
  {
   "cell_type": "code",
   "execution_count": 414,
   "id": "bf7256a1-2f27-49d4-849c-dd9bcd3d8954",
   "metadata": {},
   "outputs": [
    {
     "name": "stderr",
     "output_type": "stream",
     "text": [
      "C:\\Users\\Dennis\\anaconda3\\lib\\site-packages\\sklearn\\utils\\deprecation.py:87: FutureWarning: Function plot_confusion_matrix is deprecated; Function `plot_confusion_matrix` is deprecated in 1.0 and will be removed in 1.2. Use one of the class methods: ConfusionMatrixDisplay.from_predictions or ConfusionMatrixDisplay.from_estimator.\n",
      "  warnings.warn(msg, category=FutureWarning)\n"
     ]
    },
    {
     "data": {
      "text/plain": [
       "<sklearn.metrics._plot.confusion_matrix.ConfusionMatrixDisplay at 0x159df0f2040>"
      ]
     },
     "execution_count": 414,
     "metadata": {},
     "output_type": "execute_result"
    },
    {
     "data": {
      "image/png": "[encoded data removed]",
      "text/plain": [
       "<Figure size 432x288 with 2 Axes>"
      ]
     },
     "metadata": {
      "needs_background": "light"
     },
     "output_type": "display_data"
    }
   ],
   "source": [
    "plot_confusion_matrix(varModel, x_val03, y_val03) "
   ]
  },
  {
   "cell_type": "markdown",
   "id": "da6c813c-68ed-45ec-8cd3-5eab77f40ce9",
   "metadata": {},
   "source": [
    "## Attempting Min-Max Scaling to make model more sensitive to outliers"
   ]
  },
  {
   "cell_type": "markdown",
   "id": "72c700c5-2323-4e31-80a7-7f1d87e06dff",
   "metadata": {},
   "source": [
    "Re-Run the entire part 1 codes before running this"
   ]
  },
  {
   "cell_type": "code",
   "execution_count": 317,
   "id": "38b139e1-8ec6-4708-9a57-1199430ef939",
   "metadata": {},
   "outputs": [],
   "source": [
    "#defining the new scaler\n",
    "mm_scaler = MinMaxScaler()"
   ]
  },
  {
   "cell_type": "code",
   "execution_count": 376,
   "id": "aef4ce9b-023e-4748-bb4c-cf8985dff1f4",
   "metadata": {},
   "outputs": [],
   "source": [
    "# transforming the data for the training dataset\n",
    "x_test1 = mm_scaler.fit_transform(x_test1)\n",
    "x_test2 = mm_scaler.fit_transform(x_test2)\n",
    "x_test3 = mm_scaler.fit_transform(x_test3)\n",
    "\n",
    "# transforming the data for the training dataset\n",
    "x_train1 = mm_scaler.fit_transform(x_train1)\n",
    "x_train2 = mm_scaler.fit_transform(x_train2)\n",
    "x_train3 = mm_scaler.fit_transform(x_train3)\n",
    "\n",
    "# transforming the data for the validation dataset\n",
    "x_val1 = mm_scaler.fit_transform(x_val1)\n",
    "x_val2 = mm_scaler.fit_transform(x_val2)\n",
    "x_val3 = mm_scaler.fit_transform(x_val3)"
   ]
  },
  {
   "cell_type": "markdown",
   "id": "50341b74-1e7a-4732-865b-d26a1b64cf59",
   "metadata": {},
   "source": [
    "### Using SMOTE"
   ]
  },
  {
   "cell_type": "code",
   "execution_count": 314,
   "id": "c7a411e9-0efb-4c20-b146-dfa096493fd9",
   "metadata": {},
   "outputs": [
    {
     "data": {
      "text/html": [
       "<style>#sk-container-id-11 {color: black;background-color: white;}#sk-container-id-11 pre{padding: 0;}#sk-container-id-11 div.sk-toggleable {background-color: white;}#sk-container-id-11 label.sk-toggleable__label {cursor: pointer;display: block;width: 100%;margin-bottom: 0;padding: 0.3em;box-sizing: border-box;text-align: center;}#sk-container-id-11 label.sk-toggleable__label-arrow:before {content: \"▸\";float: left;margin-right: 0.25em;color: #696969;}#sk-container-id-11 label.sk-toggleable__label-arrow:hover:before {color: black;}#sk-container-id-11 div.sk-estimator:hover label.sk-toggleable__label-arrow:before {color: black;}#sk-container-id-11 div.sk-toggleable__content {max-height: 0;max-width: 0;overflow: hidden;text-align: left;background-color: #f0f8ff;}#sk-container-id-11 div.sk-toggleable__content pre {margin: 0.2em;color: black;border-radius: 0.25em;background-color: #f0f8ff;}#sk-container-id-11 input.sk-toggleable__control:checked~div.sk-toggleable__content {max-height: 200px;max-width: 100%;overflow: auto;}#sk-container-id-11 input.sk-toggleable__control:checked~label.sk-toggleable__label-arrow:before {content: \"▾\";}#sk-container-id-11 div.sk-estimator input.sk-toggleable__control:checked~label.sk-toggleable__label {background-color: #d4ebff;}#sk-container-id-11 div.sk-label input.sk-toggleable__control:checked~label.sk-toggleable__label {background-color: #d4ebff;}#sk-container-id-11 input.sk-hidden--visually {border: 0;clip: rect(1px 1px 1px 1px);clip: rect(1px, 1px, 1px, 1px);height: 1px;margin: -1px;overflow: hidden;padding: 0;position: absolute;width: 1px;}#sk-container-id-11 div.sk-estimator {font-family: monospace;background-color: #f0f8ff;border: 1px dotted black;border-radius: 0.25em;box-sizing: border-box;margin-bottom: 0.5em;}#sk-container-id-11 div.sk-estimator:hover {background-color: #d4ebff;}#sk-container-id-11 div.sk-parallel-item::after {content: \"\";width: 100%;border-bottom: 1px solid gray;flex-grow: 1;}#sk-container-id-11 div.sk-label:hover label.sk-toggleable__label {background-color: #d4ebff;}#sk-container-id-11 div.sk-serial::before {content: \"\";position: absolute;border-left: 1px solid gray;box-sizing: border-box;top: 0;bottom: 0;left: 50%;z-index: 0;}#sk-container-id-11 div.sk-serial {display: flex;flex-direction: column;align-items: center;background-color: white;padding-right: 0.2em;padding-left: 0.2em;position: relative;}#sk-container-id-11 div.sk-item {position: relative;z-index: 1;}#sk-container-id-11 div.sk-parallel {display: flex;align-items: stretch;justify-content: center;background-color: white;position: relative;}#sk-container-id-11 div.sk-item::before, #sk-container-id-11 div.sk-parallel-item::before {content: \"\";position: absolute;border-left: 1px solid gray;box-sizing: border-box;top: 0;bottom: 0;left: 50%;z-index: -1;}#sk-container-id-11 div.sk-parallel-item {display: flex;flex-direction: column;z-index: 1;position: relative;background-color: white;}#sk-container-id-11 div.sk-parallel-item:first-child::after {align-self: flex-end;width: 50%;}#sk-container-id-11 div.sk-parallel-item:last-child::after {align-self: flex-start;width: 50%;}#sk-container-id-11 div.sk-parallel-item:only-child::after {width: 0;}#sk-container-id-11 div.sk-dashed-wrapped {border: 1px dashed gray;margin: 0 0.4em 0.5em 0.4em;box-sizing: border-box;padding-bottom: 0.4em;background-color: white;}#sk-container-id-11 div.sk-label label {font-family: monospace;font-weight: bold;display: inline-block;line-height: 1.2em;}#sk-container-id-11 div.sk-label-container {text-align: center;}#sk-container-id-11 div.sk-container {/* jupyter's `normalize.less` sets `[hidden] { display: none; }` but bootstrap.min.css set `[hidden] { display: none !important; }` so we also need the `!important` here to be able to override the default hidden behavior on the sphinx rendered scikit-learn.org. See: https://github.com/scikit-learn/scikit-learn/issues/21755 */display: inline-block !important;position: relative;}#sk-container-id-11 div.sk-text-repr-fallback {display: none;}</style><div id=\"sk-container-id-11\" class=\"sk-top-container\"><div class=\"sk-text-repr-fallback\"><pre>GridSearchCV(estimator=LogisticRegression(),\n",
       "             param_grid={&#x27;l1_ratio&#x27;: [0, 0.1, 0.2, 0.3, 0.4, 0.5, 0.6, 0.7, 0.8,\n",
       "                                      0.9, 1],\n",
       "                         &#x27;max_iter&#x27;: [5000], &#x27;penalty&#x27;: [&#x27;elasticnet&#x27;],\n",
       "                         &#x27;solver&#x27;: [&#x27;saga&#x27;]})</pre><b>In a Jupyter environment, please rerun this cell to show the HTML representation or trust the notebook. <br />On GitHub, the HTML representation is unable to render, please try loading this page with nbviewer.org.</b></div><div class=\"sk-container\" hidden><div class=\"sk-item sk-dashed-wrapped\"><div class=\"sk-label-container\"><div class=\"sk-label sk-toggleable\"><input class=\"sk-toggleable__control sk-hidden--visually\" id=\"sk-estimator-id-31\" type=\"checkbox\" ><label for=\"sk-estimator-id-31\" class=\"sk-toggleable__label sk-toggleable__label-arrow\">GridSearchCV</label><div class=\"sk-toggleable__content\"><pre>GridSearchCV(estimator=LogisticRegression(),\n",
       "             param_grid={&#x27;l1_ratio&#x27;: [0, 0.1, 0.2, 0.3, 0.4, 0.5, 0.6, 0.7, 0.8,\n",
       "                                      0.9, 1],\n",
       "                         &#x27;max_iter&#x27;: [5000], &#x27;penalty&#x27;: [&#x27;elasticnet&#x27;],\n",
       "                         &#x27;solver&#x27;: [&#x27;saga&#x27;]})</pre></div></div></div><div class=\"sk-parallel\"><div class=\"sk-parallel-item\"><div class=\"sk-item\"><div class=\"sk-label-container\"><div class=\"sk-label sk-toggleable\"><input class=\"sk-toggleable__control sk-hidden--visually\" id=\"sk-estimator-id-32\" type=\"checkbox\" ><label for=\"sk-estimator-id-32\" class=\"sk-toggleable__label sk-toggleable__label-arrow\">estimator: LogisticRegression</label><div class=\"sk-toggleable__content\"><pre>LogisticRegression()</pre></div></div></div><div class=\"sk-serial\"><div class=\"sk-item\"><div class=\"sk-estimator sk-toggleable\"><input class=\"sk-toggleable__control sk-hidden--visually\" id=\"sk-estimator-id-33\" type=\"checkbox\" ><label for=\"sk-estimator-id-33\" class=\"sk-toggleable__label sk-toggleable__label-arrow\">LogisticRegression</label><div class=\"sk-toggleable__content\"><pre>LogisticRegression()</pre></div></div></div></div></div></div></div></div></div></div>"
      ],
      "text/plain": [
       "GridSearchCV(estimator=LogisticRegression(),\n",
       "             param_grid={'l1_ratio': [0, 0.1, 0.2, 0.3, 0.4, 0.5, 0.6, 0.7, 0.8,\n",
       "                                      0.9, 1],\n",
       "                         'max_iter': [5000], 'penalty': ['elasticnet'],\n",
       "                         'solver': ['saga']})"
      ]
     },
     "execution_count": 314,
     "metadata": {},
     "output_type": "execute_result"
    }
   ],
   "source": [
    "#initializing grid search and fitting with parameters\n",
    "parameters = { 'penalty':['elasticnet'],'solver':['saga']\n",
    "              ,'l1_ratio':[0,0.1,0.2,0.3,0.4,0.5,0.6,0.7,0.8,0.9,1],'max_iter':[5000]}\n",
    "logModel = LogisticRegression()\n",
    "\n",
    "#conducting grid search to find the best l1 ratio\n",
    "gridTrain = GridSearchCV (logModel , parameters)\n",
    "gridTrain.fit (x_train1,y_train1.values.ravel())"
   ]
  },
  {
   "cell_type": "code",
   "execution_count": 399,
   "id": "8e0fea00-24c7-4ff9-9d53-9aeda14a1eb4",
   "metadata": {},
   "outputs": [
    {
     "name": "stdout",
     "output_type": "stream",
     "text": [
      "{'l1_ratio': 0, 'max_iter': 5000, 'penalty': 'elasticnet', 'solver': 'saga'}\n"
     ]
    }
   ],
   "source": [
    "print(gridTrain.best_params_)"
   ]
  },
  {
   "cell_type": "code",
   "execution_count": 322,
   "id": "055bd7c0-2d12-4ed5-8708-1d6a8d734db1",
   "metadata": {},
   "outputs": [],
   "source": [
    "mmModel = LogisticRegression(penalty=\"elasticnet\",solver=\"saga\",l1_ratio=0,class_weight='balanced',max_iter=5000)\n",
    "mmModel.fit(x_train1, y_train1.values.ravel())\n",
    "\n",
    "importance = mmModel.coef_[0]\n",
    "importance = abs(importance)"
   ]
  },
  {
   "cell_type": "code",
   "execution_count": 323,
   "id": "23d03ab6-87c0-4a3f-82d2-df63266372f0",
   "metadata": {},
   "outputs": [
    {
     "data": {
      "image/png": "[encoded data removed]",
      "text/plain": [
       "<Figure size 1440x360 with 1 Axes>"
      ]
     },
     "metadata": {
      "needs_background": "light"
     },
     "output_type": "display_data"
    }
   ],
   "source": [
    "plt.figure(figsize=(20,5))\n",
    "plt.bar(columns,importance)\n",
    "plt.xticks(rotation=90)\n",
    "plt.show() "
   ]
  },
  {
   "cell_type": "code",
   "execution_count": 324,
   "id": "b807031e-49c3-43a5-841f-43c09ba0000a",
   "metadata": {},
   "outputs": [
    {
     "name": "stdout",
     "output_type": "stream",
     "text": [
      "[('fa4117', 1.1909868026970993), ('fa4000', 1.1615264020788), ('fa4237', 0.9232990048498517), ('fa1834', 0.7797032290835052), ('fa1887', 0.7775201872937255), ('fa3174', 0.7416614217536279), ('fa1943', 0.7134614055598344), ('fa4756', 0.6993194072866011), ('fa5993', 0.698420340132225), ('fa4896', 0.651302807597561)]\n"
     ]
    },
    {
     "data": {
      "image/png": "[encoded data removed]",
      "text/plain": [
       "<Figure size 432x288 with 1 Axes>"
      ]
     },
     "metadata": {
      "needs_background": "light"
     },
     "output_type": "display_data"
    }
   ],
   "source": [
    "freqKeys=list(columns)\n",
    "\n",
    "d = {freqKeys[i]: importance[i] for i in range(len(freqKeys))}\n",
    "sorted_d = dict( sorted(d.items(), key=operator.itemgetter(1),reverse=True))\n",
    "\n",
    "dict_items = sorted_d.items()\n",
    "topmm_1 = list(dict_items)[:10]\n",
    "print(topmm_1)\n",
    "\n",
    "topmm_1=dict(topmm_1)\n",
    "plt.bar(*zip(*topmm_1.items()))\n",
    "plt.xticks(rotation=90)\n",
    "plt.show()"
   ]
  },
  {
   "cell_type": "code",
   "execution_count": 325,
   "id": "ac9b3072-28d5-421b-9d43-fbd9d5c2b1c3",
   "metadata": {},
   "outputs": [
    {
     "data": {
      "text/plain": [
       "dict_keys(['fa4117', 'fa4000', 'fa4237', 'fa1834', 'fa1887', 'fa3174', 'fa1943', 'fa4756', 'fa5993', 'fa4896'])"
      ]
     },
     "execution_count": 325,
     "metadata": {},
     "output_type": "execute_result"
    }
   ],
   "source": [
    "topmm_1.keys()"
   ]
  },
  {
   "cell_type": "code",
   "execution_count": 326,
   "id": "b1851611-d365-4662-a3cc-486f9c031ba0",
   "metadata": {},
   "outputs": [
    {
     "name": "stdout",
     "output_type": "stream",
     "text": [
      "              precision    recall  f1-score   support\n",
      "\n",
      "           0       0.88      0.88      0.88       131\n",
      "           1       0.88      0.88      0.88       129\n",
      "\n",
      "    accuracy                           0.88       260\n",
      "   macro avg       0.88      0.88      0.88       260\n",
      "weighted avg       0.88      0.88      0.88       260\n",
      "\n"
     ]
    }
   ],
   "source": [
    "y_prtr1=mmModel.predict(x_train1)\n",
    "print(classification_report(y_prtr1, y_train1))"
   ]
  },
  {
   "cell_type": "code",
   "execution_count": 327,
   "id": "ac62cda5-8f91-4ac0-8384-43a2ee5a11f7",
   "metadata": {},
   "outputs": [
    {
     "name": "stdout",
     "output_type": "stream",
     "text": [
      "              precision    recall  f1-score   support\n",
      "\n",
      "           0       0.90      0.96      0.93        28\n",
      "           1       0.89      0.73      0.80        11\n",
      "\n",
      "    accuracy                           0.90        39\n",
      "   macro avg       0.89      0.85      0.87        39\n",
      "weighted avg       0.90      0.90      0.89        39\n",
      "\n"
     ]
    }
   ],
   "source": [
    "y_pred1=mmModel.predict(x_val1)\n",
    "print(classification_report(y_pred1, y_val1))"
   ]
  },
  {
   "cell_type": "code",
   "execution_count": 328,
   "id": "7313d41b-f87b-4f2d-9551-cf500b0ce7ea",
   "metadata": {},
   "outputs": [
    {
     "name": "stderr",
     "output_type": "stream",
     "text": [
      "C:\\Users\\Dennis\\anaconda3\\lib\\site-packages\\sklearn\\utils\\deprecation.py:87: FutureWarning: Function plot_roc_curve is deprecated; Function :func:`plot_roc_curve` is deprecated in 1.0 and will be removed in 1.2. Use one of the class methods: :meth:`sklearn.metrics.RocCurveDisplay.from_predictions` or :meth:`sklearn.metrics.RocCurveDisplay.from_estimator`.\n",
      "  warnings.warn(msg, category=FutureWarning)\n"
     ]
    },
    {
     "data": {
      "text/plain": [
       "<sklearn.metrics._plot.roc_curve.RocCurveDisplay at 0x1ec9e661cd0>"
      ]
     },
     "execution_count": 328,
     "metadata": {},
     "output_type": "execute_result"
    },
    {
     "data": {
      "image/png": "[encoded data removed]",
      "text/plain": [
       "<Figure size 432x288 with 1 Axes>"
      ]
     },
     "metadata": {
      "needs_background": "light"
     },
     "output_type": "display_data"
    }
   ],
   "source": [
    "metrics.plot_roc_curve(mmModel, x_val1, y_val1) "
   ]
  },
  {
   "cell_type": "code",
   "execution_count": 329,
   "id": "ceb027b6-bfa4-4190-a7bc-55b256b647f6",
   "metadata": {},
   "outputs": [
    {
     "name": "stderr",
     "output_type": "stream",
     "text": [
      "C:\\Users\\Dennis\\anaconda3\\lib\\site-packages\\sklearn\\utils\\deprecation.py:87: FutureWarning: Function plot_confusion_matrix is deprecated; Function `plot_confusion_matrix` is deprecated in 1.0 and will be removed in 1.2. Use one of the class methods: ConfusionMatrixDisplay.from_predictions or ConfusionMatrixDisplay.from_estimator.\n",
      "  warnings.warn(msg, category=FutureWarning)\n"
     ]
    },
    {
     "data": {
      "text/plain": [
       "<sklearn.metrics._plot.confusion_matrix.ConfusionMatrixDisplay at 0x1ec9b6ce0a0>"
      ]
     },
     "execution_count": 329,
     "metadata": {},
     "output_type": "execute_result"
    },
    {
     "data": {
      "image/png": "[encoded data removed]",
      "text/plain": [
       "<Figure size 432x288 with 2 Axes>"
      ]
     },
     "metadata": {
      "needs_background": "light"
     },
     "output_type": "display_data"
    }
   ],
   "source": [
    "plot_confusion_matrix(mmModel, x_val1, y_val1) "
   ]
  },
  {
   "cell_type": "markdown",
   "id": "da5cb08a-a970-4521-9c95-e12e4b9d8975",
   "metadata": {},
   "source": [
    "### Using SMOTEENN"
   ]
  },
  {
   "cell_type": "code",
   "execution_count": 330,
   "id": "f0a2915e-d073-4358-99a2-5e67e8b3c48e",
   "metadata": {},
   "outputs": [
    {
     "data": {
      "text/html": [
       "<style>#sk-container-id-12 {color: black;background-color: white;}#sk-container-id-12 pre{padding: 0;}#sk-container-id-12 div.sk-toggleable {background-color: white;}#sk-container-id-12 label.sk-toggleable__label {cursor: pointer;display: block;width: 100%;margin-bottom: 0;padding: 0.3em;box-sizing: border-box;text-align: center;}#sk-container-id-12 label.sk-toggleable__label-arrow:before {content: \"▸\";float: left;margin-right: 0.25em;color: #696969;}#sk-container-id-12 label.sk-toggleable__label-arrow:hover:before {color: black;}#sk-container-id-12 div.sk-estimator:hover label.sk-toggleable__label-arrow:before {color: black;}#sk-container-id-12 div.sk-toggleable__content {max-height: 0;max-width: 0;overflow: hidden;text-align: left;background-color: #f0f8ff;}#sk-container-id-12 div.sk-toggleable__content pre {margin: 0.2em;color: black;border-radius: 0.25em;background-color: #f0f8ff;}#sk-container-id-12 input.sk-toggleable__control:checked~div.sk-toggleable__content {max-height: 200px;max-width: 100%;overflow: auto;}#sk-container-id-12 input.sk-toggleable__control:checked~label.sk-toggleable__label-arrow:before {content: \"▾\";}#sk-container-id-12 div.sk-estimator input.sk-toggleable__control:checked~label.sk-toggleable__label {background-color: #d4ebff;}#sk-container-id-12 div.sk-label input.sk-toggleable__control:checked~label.sk-toggleable__label {background-color: #d4ebff;}#sk-container-id-12 input.sk-hidden--visually {border: 0;clip: rect(1px 1px 1px 1px);clip: rect(1px, 1px, 1px, 1px);height: 1px;margin: -1px;overflow: hidden;padding: 0;position: absolute;width: 1px;}#sk-container-id-12 div.sk-estimator {font-family: monospace;background-color: #f0f8ff;border: 1px dotted black;border-radius: 0.25em;box-sizing: border-box;margin-bottom: 0.5em;}#sk-container-id-12 div.sk-estimator:hover {background-color: #d4ebff;}#sk-container-id-12 div.sk-parallel-item::after {content: \"\";width: 100%;border-bottom: 1px solid gray;flex-grow: 1;}#sk-container-id-12 div.sk-label:hover label.sk-toggleable__label {background-color: #d4ebff;}#sk-container-id-12 div.sk-serial::before {content: \"\";position: absolute;border-left: 1px solid gray;box-sizing: border-box;top: 0;bottom: 0;left: 50%;z-index: 0;}#sk-container-id-12 div.sk-serial {display: flex;flex-direction: column;align-items: center;background-color: white;padding-right: 0.2em;padding-left: 0.2em;position: relative;}#sk-container-id-12 div.sk-item {position: relative;z-index: 1;}#sk-container-id-12 div.sk-parallel {display: flex;align-items: stretch;justify-content: center;background-color: white;position: relative;}#sk-container-id-12 div.sk-item::before, #sk-container-id-12 div.sk-parallel-item::before {content: \"\";position: absolute;border-left: 1px solid gray;box-sizing: border-box;top: 0;bottom: 0;left: 50%;z-index: -1;}#sk-container-id-12 div.sk-parallel-item {display: flex;flex-direction: column;z-index: 1;position: relative;background-color: white;}#sk-container-id-12 div.sk-parallel-item:first-child::after {align-self: flex-end;width: 50%;}#sk-container-id-12 div.sk-parallel-item:last-child::after {align-self: flex-start;width: 50%;}#sk-container-id-12 div.sk-parallel-item:only-child::after {width: 0;}#sk-container-id-12 div.sk-dashed-wrapped {border: 1px dashed gray;margin: 0 0.4em 0.5em 0.4em;box-sizing: border-box;padding-bottom: 0.4em;background-color: white;}#sk-container-id-12 div.sk-label label {font-family: monospace;font-weight: bold;display: inline-block;line-height: 1.2em;}#sk-container-id-12 div.sk-label-container {text-align: center;}#sk-container-id-12 div.sk-container {/* jupyter's `normalize.less` sets `[hidden] { display: none; }` but bootstrap.min.css set `[hidden] { display: none !important; }` so we also need the `!important` here to be able to override the default hidden behavior on the sphinx rendered scikit-learn.org. See: https://github.com/scikit-learn/scikit-learn/issues/21755 */display: inline-block !important;position: relative;}#sk-container-id-12 div.sk-text-repr-fallback {display: none;}</style><div id=\"sk-container-id-12\" class=\"sk-top-container\"><div class=\"sk-text-repr-fallback\"><pre>GridSearchCV(estimator=LogisticRegression(),\n",
       "             param_grid={&#x27;l1_ratio&#x27;: [0, 0.1, 0.2, 0.3, 0.4, 0.5, 0.6, 0.7, 0.8,\n",
       "                                      0.9, 1],\n",
       "                         &#x27;max_iter&#x27;: [5000], &#x27;penalty&#x27;: [&#x27;elasticnet&#x27;],\n",
       "                         &#x27;solver&#x27;: [&#x27;saga&#x27;]})</pre><b>In a Jupyter environment, please rerun this cell to show the HTML representation or trust the notebook. <br />On GitHub, the HTML representation is unable to render, please try loading this page with nbviewer.org.</b></div><div class=\"sk-container\" hidden><div class=\"sk-item sk-dashed-wrapped\"><div class=\"sk-label-container\"><div class=\"sk-label sk-toggleable\"><input class=\"sk-toggleable__control sk-hidden--visually\" id=\"sk-estimator-id-34\" type=\"checkbox\" ><label for=\"sk-estimator-id-34\" class=\"sk-toggleable__label sk-toggleable__label-arrow\">GridSearchCV</label><div class=\"sk-toggleable__content\"><pre>GridSearchCV(estimator=LogisticRegression(),\n",
       "             param_grid={&#x27;l1_ratio&#x27;: [0, 0.1, 0.2, 0.3, 0.4, 0.5, 0.6, 0.7, 0.8,\n",
       "                                      0.9, 1],\n",
       "                         &#x27;max_iter&#x27;: [5000], &#x27;penalty&#x27;: [&#x27;elasticnet&#x27;],\n",
       "                         &#x27;solver&#x27;: [&#x27;saga&#x27;]})</pre></div></div></div><div class=\"sk-parallel\"><div class=\"sk-parallel-item\"><div class=\"sk-item\"><div class=\"sk-label-container\"><div class=\"sk-label sk-toggleable\"><input class=\"sk-toggleable__control sk-hidden--visually\" id=\"sk-estimator-id-35\" type=\"checkbox\" ><label for=\"sk-estimator-id-35\" class=\"sk-toggleable__label sk-toggleable__label-arrow\">estimator: LogisticRegression</label><div class=\"sk-toggleable__content\"><pre>LogisticRegression()</pre></div></div></div><div class=\"sk-serial\"><div class=\"sk-item\"><div class=\"sk-estimator sk-toggleable\"><input class=\"sk-toggleable__control sk-hidden--visually\" id=\"sk-estimator-id-36\" type=\"checkbox\" ><label for=\"sk-estimator-id-36\" class=\"sk-toggleable__label sk-toggleable__label-arrow\">LogisticRegression</label><div class=\"sk-toggleable__content\"><pre>LogisticRegression()</pre></div></div></div></div></div></div></div></div></div></div>"
      ],
      "text/plain": [
       "GridSearchCV(estimator=LogisticRegression(),\n",
       "             param_grid={'l1_ratio': [0, 0.1, 0.2, 0.3, 0.4, 0.5, 0.6, 0.7, 0.8,\n",
       "                                      0.9, 1],\n",
       "                         'max_iter': [5000], 'penalty': ['elasticnet'],\n",
       "                         'solver': ['saga']})"
      ]
     },
     "execution_count": 330,
     "metadata": {},
     "output_type": "execute_result"
    }
   ],
   "source": [
    "#initializing grid search and fitting with parameters\n",
    "parameters = { 'penalty':['elasticnet'],'solver':['saga']\n",
    "              ,'l1_ratio':[0,0.1,0.2,0.3,0.4,0.5,0.6,0.7,0.8,0.9,1],'max_iter':[5000]}\n",
    "logModel = LogisticRegression()\n",
    "\n",
    "#conducting grid search to find the best l1 ratio\n",
    "gridTrain = GridSearchCV (logModel , parameters)\n",
    "gridTrain.fit (x_train2,y_train2.values.ravel())"
   ]
  },
  {
   "cell_type": "code",
   "execution_count": 332,
   "id": "15ed765d-2854-4b92-9742-88b25768329e",
   "metadata": {},
   "outputs": [
    {
     "name": "stdout",
     "output_type": "stream",
     "text": [
      "{'l1_ratio': 0.2, 'max_iter': 5000, 'penalty': 'elasticnet', 'solver': 'saga'}\n"
     ]
    }
   ],
   "source": [
    "print(gridTrain.best_params_)"
   ]
  },
  {
   "cell_type": "code",
   "execution_count": 333,
   "id": "7021b1c1-3c44-4f59-a948-028987e39b1f",
   "metadata": {},
   "outputs": [],
   "source": [
    "mmModel = LogisticRegression(penalty=\"elasticnet\",solver=\"saga\",l1_ratio=0.2,class_weight='balanced',max_iter=5000)\n",
    "mmModel.fit(x_train2, y_train2.values.ravel())\n",
    "\n",
    "importance = mmModel.coef_[0]\n",
    "importance = abs(importance)"
   ]
  },
  {
   "cell_type": "code",
   "execution_count": 334,
   "id": "ed9156a2-68a7-43d5-b99e-ac626702e4fc",
   "metadata": {},
   "outputs": [
    {
     "data": {
      "image/png": "[encoded data removed]",
      "text/plain": [
       "<Figure size 1440x360 with 1 Axes>"
      ]
     },
     "metadata": {
      "needs_background": "light"
     },
     "output_type": "display_data"
    }
   ],
   "source": [
    "plt.figure(figsize=(20,5))\n",
    "plt.bar(columns,importance)\n",
    "plt.xticks(rotation=90)\n",
    "plt.show() "
   ]
  },
  {
   "cell_type": "code",
   "execution_count": 335,
   "id": "06527fe1-fd52-496b-8bc8-9b980329294d",
   "metadata": {},
   "outputs": [
    {
     "name": "stdout",
     "output_type": "stream",
     "text": [
      "[('fa4000', 1.0705260518702526), ('fa4117', 1.0350549726333378), ('fa4237', 0.7008597242822373), ('fa3174', 0.6621980069501705), ('fa4756', 0.6383310238601096), ('fa1834', 0.6088744002682446), ('fa1334', 0.5884166311010722), ('fa1296', 0.5834524931495775), ('fa1090', 0.5628186642315551), ('fa4896', 0.5589553705032835)]\n"
     ]
    },
    {
     "data": {
      "image/png": "[encoded data removed]",
      "text/plain": [
       "<Figure size 432x288 with 1 Axes>"
      ]
     },
     "metadata": {
      "needs_background": "light"
     },
     "output_type": "display_data"
    }
   ],
   "source": [
    "freqKeys=list(columns)\n",
    "\n",
    "d = {freqKeys[i]: importance[i] for i in range(len(freqKeys))}\n",
    "sorted_d = dict( sorted(d.items(), key=operator.itemgetter(1),reverse=True))\n",
    "\n",
    "dict_items = sorted_d.items()\n",
    "topmm_2 = list(dict_items)[:10]\n",
    "print(topmm_2)\n",
    "\n",
    "topmm_2=dict(topmm_2)\n",
    "plt.bar(*zip(*topmm_2.items()))\n",
    "plt.xticks(rotation=90)\n",
    "plt.show()"
   ]
  },
  {
   "cell_type": "code",
   "execution_count": 336,
   "id": "ab90157f-8d6b-49d8-97a3-a7ac2136e0b4",
   "metadata": {},
   "outputs": [
    {
     "data": {
      "text/plain": [
       "dict_keys(['fa4000', 'fa4117', 'fa4237', 'fa3174', 'fa4756', 'fa1834', 'fa1334', 'fa1296', 'fa1090', 'fa4896'])"
      ]
     },
     "execution_count": 336,
     "metadata": {},
     "output_type": "execute_result"
    }
   ],
   "source": [
    "topmm_2.keys()"
   ]
  },
  {
   "cell_type": "code",
   "execution_count": 337,
   "id": "fbf1b00c-7069-4a39-947b-8d538fe4ee4e",
   "metadata": {},
   "outputs": [
    {
     "name": "stdout",
     "output_type": "stream",
     "text": [
      "              precision    recall  f1-score   support\n",
      "\n",
      "           0       0.92      0.89      0.90       100\n",
      "           1       0.91      0.93      0.92       118\n",
      "\n",
      "    accuracy                           0.91       218\n",
      "   macro avg       0.91      0.91      0.91       218\n",
      "weighted avg       0.91      0.91      0.91       218\n",
      "\n"
     ]
    }
   ],
   "source": [
    "y_prtr2=mmModel.predict(x_train2)\n",
    "print(classification_report(y_prtr2, y_train2))"
   ]
  },
  {
   "cell_type": "code",
   "execution_count": 338,
   "id": "d837a653-39fc-4ac6-8cea-35341d36cd9c",
   "metadata": {},
   "outputs": [
    {
     "name": "stdout",
     "output_type": "stream",
     "text": [
      "              precision    recall  f1-score   support\n",
      "\n",
      "           0       0.87      0.96      0.91        27\n",
      "           1       0.89      0.67      0.76        12\n",
      "\n",
      "    accuracy                           0.87        39\n",
      "   macro avg       0.88      0.81      0.84        39\n",
      "weighted avg       0.87      0.87      0.87        39\n",
      "\n"
     ]
    }
   ],
   "source": [
    "y_pred2=mmModel.predict(x_val2)\n",
    "print(classification_report(y_pred2, y_val2))"
   ]
  },
  {
   "cell_type": "code",
   "execution_count": 339,
   "id": "36211343-2afb-4324-a27d-a63357e979dd",
   "metadata": {},
   "outputs": [
    {
     "name": "stderr",
     "output_type": "stream",
     "text": [
      "C:\\Users\\Dennis\\anaconda3\\lib\\site-packages\\sklearn\\utils\\deprecation.py:87: FutureWarning: Function plot_roc_curve is deprecated; Function :func:`plot_roc_curve` is deprecated in 1.0 and will be removed in 1.2. Use one of the class methods: :meth:`sklearn.metrics.RocCurveDisplay.from_predictions` or :meth:`sklearn.metrics.RocCurveDisplay.from_estimator`.\n",
      "  warnings.warn(msg, category=FutureWarning)\n"
     ]
    },
    {
     "data": {
      "text/plain": [
       "<sklearn.metrics._plot.roc_curve.RocCurveDisplay at 0x1ec9ce012b0>"
      ]
     },
     "execution_count": 339,
     "metadata": {},
     "output_type": "execute_result"
    },
    {
     "data": {
      "image/png": "[encoded data removed]",
      "text/plain": [
       "<Figure size 432x288 with 1 Axes>"
      ]
     },
     "metadata": {
      "needs_background": "light"
     },
     "output_type": "display_data"
    }
   ],
   "source": [
    "metrics.plot_roc_curve(mmModel, x_test2, y_test2) "
   ]
  },
  {
   "cell_type": "code",
   "execution_count": 342,
   "id": "94e18173-26d1-4724-badb-4f8aa2fde06c",
   "metadata": {},
   "outputs": [
    {
     "name": "stderr",
     "output_type": "stream",
     "text": [
      "C:\\Users\\Dennis\\anaconda3\\lib\\site-packages\\sklearn\\utils\\deprecation.py:87: FutureWarning: Function plot_confusion_matrix is deprecated; Function `plot_confusion_matrix` is deprecated in 1.0 and will be removed in 1.2. Use one of the class methods: ConfusionMatrixDisplay.from_predictions or ConfusionMatrixDisplay.from_estimator.\n",
      "  warnings.warn(msg, category=FutureWarning)\n"
     ]
    },
    {
     "data": {
      "text/plain": [
       "<sklearn.metrics._plot.confusion_matrix.ConfusionMatrixDisplay at 0x1ec9e646e20>"
      ]
     },
     "execution_count": 342,
     "metadata": {},
     "output_type": "execute_result"
    },
    {
     "data": {
      "image/png": "[encoded data removed]",
      "text/plain": [
       "<Figure size 432x288 with 2 Axes>"
      ]
     },
     "metadata": {
      "needs_background": "light"
     },
     "output_type": "display_data"
    }
   ],
   "source": [
    "plot_confusion_matrix(mmModel, x_test2, y_test2) "
   ]
  },
  {
   "cell_type": "markdown",
   "id": "786f82b9-2d75-4cfa-95a8-4f0bbd15e117",
   "metadata": {},
   "source": [
    "### Using SMOTETomek"
   ]
  },
  {
   "cell_type": "code",
   "execution_count": 341,
   "id": "4caa55f5-2d50-49dc-8660-ec0a50d7b85a",
   "metadata": {},
   "outputs": [
    {
     "data": {
      "text/html": [
       "<style>#sk-container-id-13 {color: black;background-color: white;}#sk-container-id-13 pre{padding: 0;}#sk-container-id-13 div.sk-toggleable {background-color: white;}#sk-container-id-13 label.sk-toggleable__label {cursor: pointer;display: block;width: 100%;margin-bottom: 0;padding: 0.3em;box-sizing: border-box;text-align: center;}#sk-container-id-13 label.sk-toggleable__label-arrow:before {content: \"▸\";float: left;margin-right: 0.25em;color: #696969;}#sk-container-id-13 label.sk-toggleable__label-arrow:hover:before {color: black;}#sk-container-id-13 div.sk-estimator:hover label.sk-toggleable__label-arrow:before {color: black;}#sk-container-id-13 div.sk-toggleable__content {max-height: 0;max-width: 0;overflow: hidden;text-align: left;background-color: #f0f8ff;}#sk-container-id-13 div.sk-toggleable__content pre {margin: 0.2em;color: black;border-radius: 0.25em;background-color: #f0f8ff;}#sk-container-id-13 input.sk-toggleable__control:checked~div.sk-toggleable__content {max-height: 200px;max-width: 100%;overflow: auto;}#sk-container-id-13 input.sk-toggleable__control:checked~label.sk-toggleable__label-arrow:before {content: \"▾\";}#sk-container-id-13 div.sk-estimator input.sk-toggleable__control:checked~label.sk-toggleable__label {background-color: #d4ebff;}#sk-container-id-13 div.sk-label input.sk-toggleable__control:checked~label.sk-toggleable__label {background-color: #d4ebff;}#sk-container-id-13 input.sk-hidden--visually {border: 0;clip: rect(1px 1px 1px 1px);clip: rect(1px, 1px, 1px, 1px);height: 1px;margin: -1px;overflow: hidden;padding: 0;position: absolute;width: 1px;}#sk-container-id-13 div.sk-estimator {font-family: monospace;background-color: #f0f8ff;border: 1px dotted black;border-radius: 0.25em;box-sizing: border-box;margin-bottom: 0.5em;}#sk-container-id-13 div.sk-estimator:hover {background-color: #d4ebff;}#sk-container-id-13 div.sk-parallel-item::after {content: \"\";width: 100%;border-bottom: 1px solid gray;flex-grow: 1;}#sk-container-id-13 div.sk-label:hover label.sk-toggleable__label {background-color: #d4ebff;}#sk-container-id-13 div.sk-serial::before {content: \"\";position: absolute;border-left: 1px solid gray;box-sizing: border-box;top: 0;bottom: 0;left: 50%;z-index: 0;}#sk-container-id-13 div.sk-serial {display: flex;flex-direction: column;align-items: center;background-color: white;padding-right: 0.2em;padding-left: 0.2em;position: relative;}#sk-container-id-13 div.sk-item {position: relative;z-index: 1;}#sk-container-id-13 div.sk-parallel {display: flex;align-items: stretch;justify-content: center;background-color: white;position: relative;}#sk-container-id-13 div.sk-item::before, #sk-container-id-13 div.sk-parallel-item::before {content: \"\";position: absolute;border-left: 1px solid gray;box-sizing: border-box;top: 0;bottom: 0;left: 50%;z-index: -1;}#sk-container-id-13 div.sk-parallel-item {display: flex;flex-direction: column;z-index: 1;position: relative;background-color: white;}#sk-container-id-13 div.sk-parallel-item:first-child::after {align-self: flex-end;width: 50%;}#sk-container-id-13 div.sk-parallel-item:last-child::after {align-self: flex-start;width: 50%;}#sk-container-id-13 div.sk-parallel-item:only-child::after {width: 0;}#sk-container-id-13 div.sk-dashed-wrapped {border: 1px dashed gray;margin: 0 0.4em 0.5em 0.4em;box-sizing: border-box;padding-bottom: 0.4em;background-color: white;}#sk-container-id-13 div.sk-label label {font-family: monospace;font-weight: bold;display: inline-block;line-height: 1.2em;}#sk-container-id-13 div.sk-label-container {text-align: center;}#sk-container-id-13 div.sk-container {/* jupyter's `normalize.less` sets `[hidden] { display: none; }` but bootstrap.min.css set `[hidden] { display: none !important; }` so we also need the `!important` here to be able to override the default hidden behavior on the sphinx rendered scikit-learn.org. See: https://github.com/scikit-learn/scikit-learn/issues/21755 */display: inline-block !important;position: relative;}#sk-container-id-13 div.sk-text-repr-fallback {display: none;}</style><div id=\"sk-container-id-13\" class=\"sk-top-container\"><div class=\"sk-text-repr-fallback\"><pre>GridSearchCV(estimator=LogisticRegression(),\n",
       "             param_grid={&#x27;l1_ratio&#x27;: [0, 0.1, 0.2, 0.3, 0.4, 0.5, 0.6, 0.7, 0.8,\n",
       "                                      0.9, 1],\n",
       "                         &#x27;max_iter&#x27;: [5000], &#x27;penalty&#x27;: [&#x27;elasticnet&#x27;],\n",
       "                         &#x27;solver&#x27;: [&#x27;saga&#x27;]})</pre><b>In a Jupyter environment, please rerun this cell to show the HTML representation or trust the notebook. <br />On GitHub, the HTML representation is unable to render, please try loading this page with nbviewer.org.</b></div><div class=\"sk-container\" hidden><div class=\"sk-item sk-dashed-wrapped\"><div class=\"sk-label-container\"><div class=\"sk-label sk-toggleable\"><input class=\"sk-toggleable__control sk-hidden--visually\" id=\"sk-estimator-id-37\" type=\"checkbox\" ><label for=\"sk-estimator-id-37\" class=\"sk-toggleable__label sk-toggleable__label-arrow\">GridSearchCV</label><div class=\"sk-toggleable__content\"><pre>GridSearchCV(estimator=LogisticRegression(),\n",
       "             param_grid={&#x27;l1_ratio&#x27;: [0, 0.1, 0.2, 0.3, 0.4, 0.5, 0.6, 0.7, 0.8,\n",
       "                                      0.9, 1],\n",
       "                         &#x27;max_iter&#x27;: [5000], &#x27;penalty&#x27;: [&#x27;elasticnet&#x27;],\n",
       "                         &#x27;solver&#x27;: [&#x27;saga&#x27;]})</pre></div></div></div><div class=\"sk-parallel\"><div class=\"sk-parallel-item\"><div class=\"sk-item\"><div class=\"sk-label-container\"><div class=\"sk-label sk-toggleable\"><input class=\"sk-toggleable__control sk-hidden--visually\" id=\"sk-estimator-id-38\" type=\"checkbox\" ><label for=\"sk-estimator-id-38\" class=\"sk-toggleable__label sk-toggleable__label-arrow\">estimator: LogisticRegression</label><div class=\"sk-toggleable__content\"><pre>LogisticRegression()</pre></div></div></div><div class=\"sk-serial\"><div class=\"sk-item\"><div class=\"sk-estimator sk-toggleable\"><input class=\"sk-toggleable__control sk-hidden--visually\" id=\"sk-estimator-id-39\" type=\"checkbox\" ><label for=\"sk-estimator-id-39\" class=\"sk-toggleable__label sk-toggleable__label-arrow\">LogisticRegression</label><div class=\"sk-toggleable__content\"><pre>LogisticRegression()</pre></div></div></div></div></div></div></div></div></div></div>"
      ],
      "text/plain": [
       "GridSearchCV(estimator=LogisticRegression(),\n",
       "             param_grid={'l1_ratio': [0, 0.1, 0.2, 0.3, 0.4, 0.5, 0.6, 0.7, 0.8,\n",
       "                                      0.9, 1],\n",
       "                         'max_iter': [5000], 'penalty': ['elasticnet'],\n",
       "                         'solver': ['saga']})"
      ]
     },
     "execution_count": 341,
     "metadata": {},
     "output_type": "execute_result"
    }
   ],
   "source": [
    "#initializing grid search and fitting with parameters\n",
    "parameters = { 'penalty':['elasticnet'],'solver':['saga']\n",
    "              ,'l1_ratio':[0,0.1,0.2,0.3,0.4,0.5,0.6,0.7,0.8,0.9,1],'max_iter':[5000]}\n",
    "logModel = LogisticRegression()\n",
    "\n",
    "#conducting grid search to find the best l1 ratio\n",
    "gridTrain = GridSearchCV (logModel , parameters)\n",
    "gridTrain.fit (x_train3,y_train3.values.ravel())"
   ]
  },
  {
   "cell_type": "code",
   "execution_count": 343,
   "id": "b7496404-8b41-4574-9050-1dc69da8eb14",
   "metadata": {},
   "outputs": [
    {
     "name": "stdout",
     "output_type": "stream",
     "text": [
      "{'l1_ratio': 0, 'max_iter': 5000, 'penalty': 'elasticnet', 'solver': 'saga'}\n"
     ]
    }
   ],
   "source": [
    "print(gridTrain.best_params_)"
   ]
  },
  {
   "cell_type": "code",
   "execution_count": 344,
   "id": "085ad878-b45f-4720-b014-c892da279665",
   "metadata": {},
   "outputs": [],
   "source": [
    "mmModel = LogisticRegression(penalty=\"elasticnet\",solver=\"saga\",l1_ratio=0,class_weight='balanced',max_iter=5000)\n",
    "mmModel.fit(x_train3, y_train3.values.ravel())\n",
    "\n",
    "importance = mmModel.coef_[0]\n",
    "importance = abs(importance)"
   ]
  },
  {
   "cell_type": "code",
   "execution_count": 345,
   "id": "d6757445-6b1d-4db9-8f3d-9c9a0bf10486",
   "metadata": {},
   "outputs": [
    {
     "data": {
      "image/png": "[encoded data removed]",
      "text/plain": [
       "<Figure size 1440x360 with 1 Axes>"
      ]
     },
     "metadata": {
      "needs_background": "light"
     },
     "output_type": "display_data"
    }
   ],
   "source": [
    "plt.figure(figsize=(20,5))\n",
    "plt.bar(columns,importance)\n",
    "plt.xticks(rotation=90)\n",
    "plt.show() "
   ]
  },
  {
   "cell_type": "code",
   "execution_count": 346,
   "id": "4b06cdb1-b190-4433-979d-95123f8cbf14",
   "metadata": {},
   "outputs": [
    {
     "name": "stdout",
     "output_type": "stream",
     "text": [
      "[('fa4117', 1.1797923597481212), ('fa4000', 1.1715492554513696), ('fa4237', 0.8918854561129708), ('fa1834', 0.7320956305079459), ('fa1887', 0.7236769473842554), ('fa4756', 0.7199646014473665), ('fa3174', 0.7001952749240951), ('fa1943', 0.6476679470008007), ('fa4896', 0.6472723860581988), ('fa5993', 0.6467040342598425)]\n"
     ]
    },
    {
     "data": {
      "image/png": "[encoded data removed]",
      "text/plain": [
       "<Figure size 432x288 with 1 Axes>"
      ]
     },
     "metadata": {
      "needs_background": "light"
     },
     "output_type": "display_data"
    }
   ],
   "source": [
    "freqKeys=list(columns)\n",
    "\n",
    "d = {freqKeys[i]: importance[i] for i in range(len(freqKeys))}\n",
    "sorted_d = dict( sorted(d.items(), key=operator.itemgetter(1),reverse=True))\n",
    "\n",
    "dict_items = sorted_d.items()\n",
    "topmm_3 = list(dict_items)[:10]\n",
    "print(topmm_3)\n",
    "\n",
    "topmm_3=dict(topmm_3)\n",
    "plt.bar(*zip(*topmm_3.items()))\n",
    "plt.xticks(rotation=90)\n",
    "plt.show()"
   ]
  },
  {
   "cell_type": "code",
   "execution_count": 347,
   "id": "fb9b47db-9af5-45a2-814f-9b2d968bbf3f",
   "metadata": {},
   "outputs": [
    {
     "data": {
      "text/plain": [
       "dict_keys(['fa4117', 'fa4000', 'fa4237', 'fa1834', 'fa1887', 'fa4756', 'fa3174', 'fa1943', 'fa4896', 'fa5993'])"
      ]
     },
     "execution_count": 347,
     "metadata": {},
     "output_type": "execute_result"
    }
   ],
   "source": [
    "topmm_3.keys()"
   ]
  },
  {
   "cell_type": "code",
   "execution_count": 348,
   "id": "6d980434-c954-48bb-ae88-38315b4be554",
   "metadata": {},
   "outputs": [
    {
     "name": "stdout",
     "output_type": "stream",
     "text": [
      "              precision    recall  f1-score   support\n",
      "\n",
      "           0       0.89      0.88      0.88       129\n",
      "           1       0.87      0.89      0.88       125\n",
      "\n",
      "    accuracy                           0.88       254\n",
      "   macro avg       0.88      0.88      0.88       254\n",
      "weighted avg       0.88      0.88      0.88       254\n",
      "\n"
     ]
    }
   ],
   "source": [
    "y_prtr3=mmModel.predict(x_train3)\n",
    "print(classification_report(y_prtr3, y_train3))"
   ]
  },
  {
   "cell_type": "code",
   "execution_count": 349,
   "id": "c1fe42dd-4c64-439c-a667-4200e76b2674",
   "metadata": {},
   "outputs": [
    {
     "name": "stdout",
     "output_type": "stream",
     "text": [
      "              precision    recall  f1-score   support\n",
      "\n",
      "           0       0.90      0.96      0.93        28\n",
      "           1       0.89      0.73      0.80        11\n",
      "\n",
      "    accuracy                           0.90        39\n",
      "   macro avg       0.89      0.85      0.87        39\n",
      "weighted avg       0.90      0.90      0.89        39\n",
      "\n"
     ]
    }
   ],
   "source": [
    "y_pred3=mmModel.predict(x_val3)\n",
    "print(classification_report(y_pred3, y_val3))"
   ]
  },
  {
   "cell_type": "code",
   "execution_count": 350,
   "id": "c3ca638d-3d61-433a-8d6f-84445745855d",
   "metadata": {},
   "outputs": [
    {
     "name": "stderr",
     "output_type": "stream",
     "text": [
      "C:\\Users\\Dennis\\anaconda3\\lib\\site-packages\\sklearn\\utils\\deprecation.py:87: FutureWarning: Function plot_roc_curve is deprecated; Function :func:`plot_roc_curve` is deprecated in 1.0 and will be removed in 1.2. Use one of the class methods: :meth:`sklearn.metrics.RocCurveDisplay.from_predictions` or :meth:`sklearn.metrics.RocCurveDisplay.from_estimator`.\n",
      "  warnings.warn(msg, category=FutureWarning)\n"
     ]
    },
    {
     "data": {
      "text/plain": [
       "<sklearn.metrics._plot.roc_curve.RocCurveDisplay at 0x1ec99735970>"
      ]
     },
     "execution_count": 350,
     "metadata": {},
     "output_type": "execute_result"
    },
    {
     "data": {
      "image/png": "[encoded data removed]",
      "text/plain": [
       "<Figure size 432x288 with 1 Axes>"
      ]
     },
     "metadata": {
      "needs_background": "light"
     },
     "output_type": "display_data"
    }
   ],
   "source": [
    "metrics.plot_roc_curve(mmModel, x_test2, y_test2) "
   ]
  },
  {
   "cell_type": "code",
   "execution_count": 351,
   "id": "17cf1e9f-47b9-47e2-8b54-5f5fe37cbe8d",
   "metadata": {},
   "outputs": [
    {
     "name": "stderr",
     "output_type": "stream",
     "text": [
      "C:\\Users\\Dennis\\anaconda3\\lib\\site-packages\\sklearn\\utils\\deprecation.py:87: FutureWarning: Function plot_confusion_matrix is deprecated; Function `plot_confusion_matrix` is deprecated in 1.0 and will be removed in 1.2. Use one of the class methods: ConfusionMatrixDisplay.from_predictions or ConfusionMatrixDisplay.from_estimator.\n",
      "  warnings.warn(msg, category=FutureWarning)\n"
     ]
    },
    {
     "data": {
      "text/plain": [
       "<sklearn.metrics._plot.confusion_matrix.ConfusionMatrixDisplay at 0x1ec9c893460>"
      ]
     },
     "execution_count": 351,
     "metadata": {},
     "output_type": "execute_result"
    },
    {
     "data": {
      "image/png": "[encoded data removed]",
      "text/plain": [
       "<Figure size 432x288 with 2 Axes>"
      ]
     },
     "metadata": {
      "needs_background": "light"
     },
     "output_type": "display_data"
    }
   ],
   "source": [
    "plot_confusion_matrix(mmModel, x_test3, y_test3) "
   ]
  },
  {
   "cell_type": "markdown",
   "id": "04b5445a-7678-47b8-afeb-5f47d9bc6b6e",
   "metadata": {},
   "source": [
    "## Applying Lasso Feature Selection Using MinMax Scaling"
   ]
  },
  {
   "cell_type": "markdown",
   "id": "556ef205-7855-41fe-8c6c-e4f93f05fbb6",
   "metadata": {},
   "source": [
    "### Using SMOTE"
   ]
  },
  {
   "cell_type": "code",
   "execution_count": 352,
   "id": "b163177d-b7e6-4014-a78b-e0e93337c005",
   "metadata": {},
   "outputs": [],
   "source": [
    "mmModel = LogisticRegression(penalty=\"l1\",solver=\"saga\",class_weight='balanced',max_iter=5000)\n",
    "mmModel.fit(x_train1, y_train1.values.ravel())\n",
    "\n",
    "importance = mmModel.coef_[0]\n",
    "importance = abs(importance)"
   ]
  },
  {
   "cell_type": "code",
   "execution_count": 353,
   "id": "044fa1c5-942f-48ac-b78b-82fd4c54961c",
   "metadata": {},
   "outputs": [
    {
     "data": {
      "image/png": "[encoded data removed]",
      "text/plain": [
       "<Figure size 1440x360 with 1 Axes>"
      ]
     },
     "metadata": {
      "needs_background": "light"
     },
     "output_type": "display_data"
    }
   ],
   "source": [
    "plt.figure(figsize=(20,5))\n",
    "plt.bar(columns,importance)\n",
    "plt.xticks(rotation=90)\n",
    "plt.show() "
   ]
  },
  {
   "cell_type": "code",
   "execution_count": 354,
   "id": "09e589a3-9fce-41e1-a455-5fa7629a269e",
   "metadata": {},
   "outputs": [
    {
     "name": "stdout",
     "output_type": "stream",
     "text": [
      "[('fa1090', 4.833866120310074), ('fa3174', 2.540996143603362), ('fa1887', 2.3877100199742753), ('fa1834', 2.1961362133059295), ('fa4000', 1.9745575331368461), ('fa4117', 1.664975994643223), ('fa4756', 0.6572022658219651), ('fa1334', 0.6442570274427959), ('fa1943', 0.5515731285531323), ('fa4896', 0.5143893997457628)]\n"
     ]
    },
    {
     "data": {
      "image/png": "[encoded data removed]",
      "text/plain": [
       "<Figure size 432x288 with 1 Axes>"
      ]
     },
     "metadata": {
      "needs_background": "light"
     },
     "output_type": "display_data"
    }
   ],
   "source": [
    "freqKeys=list(columns)\n",
    "\n",
    "d = {freqKeys[i]: importance[i] for i in range(len(freqKeys))}\n",
    "sorted_d = dict( sorted(d.items(), key=operator.itemgetter(1),reverse=True))\n",
    "\n",
    "dict_items = sorted_d.items()\n",
    "topmm_1 = list(dict_items)[:10]\n",
    "print(topmm_1)\n",
    "\n",
    "topmm_1=dict(topmm_1)\n",
    "plt.bar(*zip(*topmm_1.items()))\n",
    "plt.xticks(rotation=90)\n",
    "plt.show()"
   ]
  },
  {
   "cell_type": "code",
   "execution_count": 355,
   "id": "ca664b31-8c00-4834-8030-348f0659849f",
   "metadata": {},
   "outputs": [
    {
     "data": {
      "text/plain": [
       "dict_keys(['fa1090', 'fa3174', 'fa1887', 'fa1834', 'fa4000', 'fa4117', 'fa4756', 'fa1334', 'fa1943', 'fa4896'])"
      ]
     },
     "execution_count": 355,
     "metadata": {},
     "output_type": "execute_result"
    }
   ],
   "source": [
    "topmm_1.keys()"
   ]
  },
  {
   "cell_type": "code",
   "execution_count": 356,
   "id": "65d7ca5e-3c30-4ba5-9da4-d15f201c9ffa",
   "metadata": {},
   "outputs": [
    {
     "name": "stdout",
     "output_type": "stream",
     "text": [
      "              precision    recall  f1-score   support\n",
      "\n",
      "           0       0.90      0.88      0.89       133\n",
      "           1       0.88      0.90      0.89       127\n",
      "\n",
      "    accuracy                           0.89       260\n",
      "   macro avg       0.89      0.89      0.89       260\n",
      "weighted avg       0.89      0.89      0.89       260\n",
      "\n"
     ]
    }
   ],
   "source": [
    "y_prtr1=mmModel.predict(x_train1)\n",
    "print(classification_report(y_prtr1, y_train1))"
   ]
  },
  {
   "cell_type": "code",
   "execution_count": 357,
   "id": "788308aa-f48f-48dc-b123-3e5f53418f7e",
   "metadata": {},
   "outputs": [
    {
     "name": "stdout",
     "output_type": "stream",
     "text": [
      "              precision    recall  f1-score   support\n",
      "\n",
      "           0       0.90      0.96      0.93        28\n",
      "           1       0.89      0.73      0.80        11\n",
      "\n",
      "    accuracy                           0.90        39\n",
      "   macro avg       0.89      0.85      0.87        39\n",
      "weighted avg       0.90      0.90      0.89        39\n",
      "\n"
     ]
    }
   ],
   "source": [
    "y_pred1=mmModel.predict(x_val1)\n",
    "print(classification_report(y_pred1, y_val1))"
   ]
  },
  {
   "cell_type": "markdown",
   "id": "49e605a9-c954-4d17-9670-d6f800452d47",
   "metadata": {},
   "source": [
    "### Using SMOTEENN"
   ]
  },
  {
   "cell_type": "code",
   "execution_count": 358,
   "id": "b5e5ce5a-cd6d-4315-ae78-3b34057d9b5b",
   "metadata": {},
   "outputs": [],
   "source": [
    "mmModel = LogisticRegression(penalty=\"l1\",solver=\"saga\",class_weight='balanced',max_iter=5000)\n",
    "mmModel.fit(x_train2, y_train2.values.ravel())\n",
    "\n",
    "importance = mmModel.coef_[0]\n",
    "importance = abs(importance)"
   ]
  },
  {
   "cell_type": "code",
   "execution_count": 359,
   "id": "3bd19ed1-ee95-47c4-a3be-3c64bf702d8a",
   "metadata": {},
   "outputs": [
    {
     "data": {
      "image/png": "[encoded data removed]",
      "text/plain": [
       "<Figure size 1440x360 with 1 Axes>"
      ]
     },
     "metadata": {
      "needs_background": "light"
     },
     "output_type": "display_data"
    }
   ],
   "source": [
    "plt.figure(figsize=(20,5))\n",
    "plt.bar(columns,importance)\n",
    "plt.xticks(rotation=90)\n",
    "plt.show() "
   ]
  },
  {
   "cell_type": "code",
   "execution_count": 360,
   "id": "0370a3b6-9861-49f8-8fa8-b836645e874e",
   "metadata": {},
   "outputs": [
    {
     "name": "stdout",
     "output_type": "stream",
     "text": [
      "[('fa1834', 3.1807520279247), ('fa1334', 3.077163750335066), ('fa1090', 2.7105138271350384), ('fa4000', 2.674198115383577), ('fa3174', 1.7224092467920538), ('fa5993', 1.3105415887881455), ('fa2118', 0.6331954502181325), ('fa4756', 0.37899928254264814), ('fa1296', 0.3057685215869546), ('fa6535', 0.23307397734807295)]\n"
     ]
    },
    {
     "data": {
      "image/png": "[encoded data removed]",
      "text/plain": [
       "<Figure size 432x288 with 1 Axes>"
      ]
     },
     "metadata": {
      "needs_background": "light"
     },
     "output_type": "display_data"
    }
   ],
   "source": [
    "freqKeys=list(columns)\n",
    "\n",
    "d = {freqKeys[i]: importance[i] for i in range(len(freqKeys))}\n",
    "sorted_d = dict( sorted(d.items(), key=operator.itemgetter(1),reverse=True))\n",
    "\n",
    "dict_items = sorted_d.items()\n",
    "topmm_2 = list(dict_items)[:10]\n",
    "print(topmm_2)\n",
    "\n",
    "topmm_2=dict(topmm_2)\n",
    "plt.bar(*zip(*topmm_2.items()))\n",
    "plt.xticks(rotation=90)\n",
    "plt.show()"
   ]
  },
  {
   "cell_type": "code",
   "execution_count": 361,
   "id": "38ff7b88-172f-4e4c-976e-c78d3daf4917",
   "metadata": {},
   "outputs": [
    {
     "data": {
      "text/plain": [
       "dict_keys(['fa1834', 'fa1334', 'fa1090', 'fa4000', 'fa3174', 'fa5993', 'fa2118', 'fa4756', 'fa1296', 'fa6535'])"
      ]
     },
     "execution_count": 361,
     "metadata": {},
     "output_type": "execute_result"
    }
   ],
   "source": [
    "topmm_2.keys()"
   ]
  },
  {
   "cell_type": "code",
   "execution_count": 362,
   "id": "7db6d5d7-e81c-4f58-b106-3b2606893b3d",
   "metadata": {},
   "outputs": [
    {
     "name": "stdout",
     "output_type": "stream",
     "text": [
      "              precision    recall  f1-score   support\n",
      "\n",
      "           0       0.90      0.88      0.89        99\n",
      "           1       0.90      0.92      0.91       119\n",
      "\n",
      "    accuracy                           0.90       218\n",
      "   macro avg       0.90      0.90      0.90       218\n",
      "weighted avg       0.90      0.90      0.90       218\n",
      "\n"
     ]
    }
   ],
   "source": [
    "y_prtr2=mmModel.predict(x_train2)\n",
    "print(classification_report(y_prtr2, y_train2))"
   ]
  },
  {
   "cell_type": "code",
   "execution_count": 363,
   "id": "b2bbe228-eb88-49a8-9301-4ff21111185e",
   "metadata": {},
   "outputs": [
    {
     "name": "stdout",
     "output_type": "stream",
     "text": [
      "              precision    recall  f1-score   support\n",
      "\n",
      "           0       0.93      0.97      0.95        29\n",
      "           1       0.89      0.80      0.84        10\n",
      "\n",
      "    accuracy                           0.92        39\n",
      "   macro avg       0.91      0.88      0.90        39\n",
      "weighted avg       0.92      0.92      0.92        39\n",
      "\n"
     ]
    }
   ],
   "source": [
    "y_pred2=mmModel.predict(x_val2)\n",
    "print(classification_report(y_pred2, y_val2))"
   ]
  },
  {
   "cell_type": "markdown",
   "id": "d94381f8-7256-4b58-84aa-befc976e8590",
   "metadata": {},
   "source": [
    "#### Saving the Model"
   ]
  },
  {
   "cell_type": "code",
   "execution_count": 364,
   "id": "b36ebf3f-4dca-4913-9342-0cd8cd5b0f42",
   "metadata": {},
   "outputs": [],
   "source": [
    "import pickle"
   ]
  },
  {
   "cell_type": "code",
   "execution_count": 365,
   "id": "aa081d80-515f-46fd-b303-2780d96225dc",
   "metadata": {},
   "outputs": [],
   "source": [
    "filename = 'logistic_finalized_model.sav'\n",
    "pickle.dump(mmModel, open(filename, 'wb'))"
   ]
  },
  {
   "cell_type": "markdown",
   "id": "7d2ce661-1936-409d-a010-a6be218f4980",
   "metadata": {},
   "source": [
    "### Using SMOTETomek"
   ]
  },
  {
   "cell_type": "code",
   "execution_count": 366,
   "id": "401f7f61-7113-4824-99fe-0b9efcf61267",
   "metadata": {},
   "outputs": [],
   "source": [
    "mmModel = LogisticRegression(penalty=\"l1\",solver=\"saga\",class_weight='balanced',max_iter=5000)\n",
    "mmModel.fit(x_train3, y_train3.values.ravel())\n",
    "\n",
    "importance = mmModel.coef_[0]\n",
    "importance = abs(importance)"
   ]
  },
  {
   "cell_type": "code",
   "execution_count": 367,
   "id": "93f130b2-b937-4dec-a07d-fe971369819b",
   "metadata": {},
   "outputs": [
    {
     "data": {
      "image/png": "[encoded data removed]",
      "text/plain": [
       "<Figure size 1440x360 with 1 Axes>"
      ]
     },
     "metadata": {
      "needs_background": "light"
     },
     "output_type": "display_data"
    }
   ],
   "source": [
    "plt.figure(figsize=(20,5))\n",
    "plt.bar(columns,importance)\n",
    "plt.xticks(rotation=90)\n",
    "plt.show() "
   ]
  },
  {
   "cell_type": "code",
   "execution_count": 368,
   "id": "4e1662c0-9da4-4621-8a01-fcb6f075cbba",
   "metadata": {},
   "outputs": [
    {
     "name": "stdout",
     "output_type": "stream",
     "text": [
      "[('fa1090', 5.1792454450360985), ('fa4000', 2.617163795492024), ('fa1887', 2.145838588397674), ('fa1834', 2.0377610251389404), ('fa3174', 2.03059295960499), ('fa4756', 1.3662709318879118), ('fa4117', 1.2699930549537004), ('fa5993', 0.46384617350617047), ('fa1334', 0.4337025118354392), ('fa771', 0.2928246591745635)]\n"
     ]
    },
    {
     "data": {
      "image/png": "[encoded data removed]",
      "text/plain": [
       "<Figure size 432x288 with 1 Axes>"
      ]
     },
     "metadata": {
      "needs_background": "light"
     },
     "output_type": "display_data"
    }
   ],
   "source": [
    "freqKeys=list(columns)\n",
    "\n",
    "d = {freqKeys[i]: importance[i] for i in range(len(freqKeys))}\n",
    "sorted_d = dict( sorted(d.items(), key=operator.itemgetter(1),reverse=True))\n",
    "\n",
    "dict_items = sorted_d.items()\n",
    "topmm_3 = list(dict_items)[:10]\n",
    "print(topmm_3)\n",
    "\n",
    "topmm_3=dict(topmm_3)\n",
    "plt.bar(*zip(*topmm_3.items()))\n",
    "plt.xticks(rotation=90)\n",
    "plt.show()"
   ]
  },
  {
   "cell_type": "code",
   "execution_count": 369,
   "id": "69f4891a-9e25-4d5b-8f23-981dc900e6a8",
   "metadata": {},
   "outputs": [
    {
     "data": {
      "text/plain": [
       "dict_keys(['fa1090', 'fa4000', 'fa1887', 'fa1834', 'fa3174', 'fa4756', 'fa4117', 'fa5993', 'fa1334', 'fa771'])"
      ]
     },
     "execution_count": 369,
     "metadata": {},
     "output_type": "execute_result"
    }
   ],
   "source": [
    "topmm_3.keys()"
   ]
  },
  {
   "cell_type": "code",
   "execution_count": 370,
   "id": "e1b581a2-de13-477e-93dd-e47ba4755597",
   "metadata": {},
   "outputs": [
    {
     "name": "stdout",
     "output_type": "stream",
     "text": [
      "              precision    recall  f1-score   support\n",
      "\n",
      "           0       0.91      0.88      0.89       131\n",
      "           1       0.87      0.90      0.89       123\n",
      "\n",
      "    accuracy                           0.89       254\n",
      "   macro avg       0.89      0.89      0.89       254\n",
      "weighted avg       0.89      0.89      0.89       254\n",
      "\n"
     ]
    }
   ],
   "source": [
    "y_prtr3=mmModel.predict(x_train3)\n",
    "print(classification_report(y_prtr3, y_train3))"
   ]
  },
  {
   "cell_type": "code",
   "execution_count": 371,
   "id": "541d88dd-d1dc-4cfc-8947-f2854c0595f1",
   "metadata": {},
   "outputs": [
    {
     "name": "stdout",
     "output_type": "stream",
     "text": [
      "              precision    recall  f1-score   support\n",
      "\n",
      "           0       0.90      0.96      0.93        28\n",
      "           1       0.89      0.73      0.80        11\n",
      "\n",
      "    accuracy                           0.90        39\n",
      "   macro avg       0.89      0.85      0.87        39\n",
      "weighted avg       0.90      0.90      0.89        39\n",
      "\n"
     ]
    }
   ],
   "source": [
    "y_pred3=mmModel.predict(x_val3)\n",
    "print(classification_report(y_pred3, y_val3))"
   ]
  },
  {
   "cell_type": "markdown",
   "id": "72098d3d-5cc0-4f5b-8a02-e089649e1ef0",
   "metadata": {},
   "source": [
    "# Trial for removing frequencies above 5000"
   ]
  },
  {
   "cell_type": "code",
   "execution_count": 372,
   "id": "de32d6d7-7f77-4aa8-9c5f-822b677c636a",
   "metadata": {},
   "outputs": [
    {
     "name": "stderr",
     "output_type": "stream",
     "text": [
      "C:\\Users\\Dennis\\anaconda3\\lib\\site-packages\\seaborn\\_decorators.py:36: FutureWarning: Pass the following variable as a keyword arg: x. From version 0.12, the only valid positional argument will be `data`, and passing other arguments without an explicit keyword will result in an error or misinterpretation.\n",
      "  warnings.warn(\n"
     ]
    },
    {
     "data": {
      "image/png": "[encoded data removed]",
      "text/plain": [
       "<Figure size 432x288 with 1 Axes>"
      ]
     },
     "metadata": {
      "needs_background": "light"
     },
     "output_type": "display_data"
    }
   ],
   "source": [
    "# Remove 5000\n",
    "X_test1=pd.read_csv('C:\\\\Users\\\\Dennis\\\\Documents\\\\GitHub\\\\P1_Dennis\\\\With Updated Dataset\\\\02 - SMOTE\\\\X_test.csv')\n",
    "X_train1=pd.read_csv('C:\\\\Users\\\\Dennis\\\\Documents\\\\GitHub\\\\P1_Dennis\\\\With Updated Dataset\\\\02 - SMOTE\\\\X_train.csv')\n",
    "y_test1=pd.read_csv('C:\\\\Users\\\\Dennis\\\\Documents\\\\GitHub\\\\P1_Dennis\\\\With Updated Dataset\\\\02 - SMOTE\\\\y_test.csv')\n",
    "y_train1=pd.read_csv('C:\\\\Users\\\\Dennis\\\\Documents\\\\GitHub\\\\P1_Dennis\\\\With Updated Dataset\\\\02 - SMOTE\\\\y_train.csv')\n",
    "x_val1=pd.read_csv('C:\\\\Users\\\\Dennis\\\\Documents\\\\GitHub\\\\P1_Dennis\\\\With Updated Dataset\\\\02 - SMOTE\\\\X_val.csv')\n",
    "y_val1=pd.read_csv('C:\\\\Users\\\\Dennis\\\\Documents\\\\GitHub\\\\P1_Dennis\\\\With Updated Dataset\\\\02 - SMOTE\\\\y_val.csv')\n",
    "\n",
    "sns.countplot(y_train1['OverallPoF'],fill='OverallPoF')\n",
    "\n",
    "x_test1 = X_test1.drop(['Gender','AgeM','ECV','TPP','SC','OAE1','OAE1.4','OAE2','OAE2.8','OAE4','Ear coded'], axis = 1)\n",
    "x_train1 = X_train1.drop(['Gender','AgeM','ECV','TPP','SC','OAE1','OAE1.4','OAE2','OAE2.8','OAE4','Ear coded'], axis = 1)\n",
    "x_val1= x_val1.drop(['Gender','AgeM','ECV','TPP','SC','OAE1','OAE1.4','OAE2','OAE2.8','OAE4','Ear coded'], axis = 1)"
   ]
  },
  {
   "cell_type": "code",
   "execution_count": 4,
   "id": "9600a439-69c3-4e87-822a-9a28171be6bb",
   "metadata": {},
   "outputs": [],
   "source": [
    "\n",
    "x_train1=x_train1.iloc[:,:90]\n",
    "x_test1=x_test1.iloc[:,:90]\n",
    "x_val1=x_val1.iloc[:,:90]\n",
    "columns=x_train1.columns"
   ]
  },
  {
   "cell_type": "code",
   "execution_count": 6,
   "id": "e15a07d8-e17c-49c5-afa8-6bce4c1b36ce",
   "metadata": {},
   "outputs": [],
   "source": [
    "mmModel = LogisticRegression(penalty=\"l1\",solver=\"saga\",class_weight='balanced',max_iter=5000)\n",
    "mmModel.fit(x_train1, y_train1.values.ravel())\n",
    "\n",
    "importance = mmModel.coef_[0]\n",
    "importance = abs(importance)"
   ]
  },
  {
   "cell_type": "code",
   "execution_count": 7,
   "id": "8e8862d8-4bcd-4b66-81e7-cc81dd90baad",
   "metadata": {},
   "outputs": [
    {
     "data": {
      "image/png": "[encoded data removed]",
      "text/plain": [
       "<Figure size 1440x360 with 1 Axes>"
      ]
     },
     "metadata": {
      "needs_background": "light"
     },
     "output_type": "display_data"
    }
   ],
   "source": [
    "plt.figure(figsize=(20,5))\n",
    "plt.bar(columns,importance)\n",
    "plt.xticks(rotation=90)\n",
    "plt.show() "
   ]
  },
  {
   "cell_type": "code",
   "execution_count": 9,
   "id": "a41a347a-5fca-4b59-bf86-b88e282b7103",
   "metadata": {},
   "outputs": [
    {
     "name": "stdout",
     "output_type": "stream",
     "text": [
      "[('fa1090', 5.959148658804225), ('fa4000', 3.871898532582533), ('fa1834', 2.948817641960514), ('fa1943', 2.585461683871465), ('fa3174', 2.3816757756915816), ('fa4896', 1.278983407190085), ('fa1296', 1.0970724046443412), ('fa1334', 0.3477981714889854), ('fa226', 0.0), ('fa257', 0.0)]\n"
     ]
    },
    {
     "data": {
      "image/png": "[encoded data removed]",
      "text/plain": [
       "<Figure size 432x288 with 1 Axes>"
      ]
     },
     "metadata": {
      "needs_background": "light"
     },
     "output_type": "display_data"
    }
   ],
   "source": [
    "freqKeys=list(columns)\n",
    "\n",
    "d = {freqKeys[i]: importance[i] for i in range(len(freqKeys))}\n",
    "sorted_d = dict( sorted(d.items(), key=operator.itemgetter(1),reverse=True))\n",
    "\n",
    "dict_items = sorted_d.items()\n",
    "topmm_1 = list(dict_items)[:10]\n",
    "print(topmm_1)\n",
    "\n",
    "topmm_1=dict(topmm_1)\n",
    "plt.bar(*zip(*topmm_1.items()))\n",
    "plt.xticks(rotation=90)\n",
    "plt.show()"
   ]
  },
  {
   "cell_type": "code",
   "execution_count": 8,
   "id": "315439e5-a7a4-47f2-ba97-2e91e8e5e04e",
   "metadata": {},
   "outputs": [
    {
     "name": "stdout",
     "output_type": "stream",
     "text": [
      "              precision    recall  f1-score   support\n",
      "\n",
      "           0       0.83      1.00      0.91        34\n",
      "           1       1.00      0.50      0.67        14\n",
      "\n",
      "    accuracy                           0.85        48\n",
      "   macro avg       0.91      0.75      0.79        48\n",
      "weighted avg       0.88      0.85      0.84        48\n",
      "\n"
     ]
    }
   ],
   "source": [
    "y_pred1=mmModel.predict(x_test1)\n",
    "print(classification_report(y_pred1, y_test1))"
   ]
  },
  {
   "cell_type": "markdown",
   "id": "2576654f-5cac-42c9-bf5c-058088fda23d",
   "metadata": {},
   "source": [
    "# Testing with test set on final model"
   ]
  },
  {
   "cell_type": "code",
   "execution_count": 6,
   "id": "b4883945-624d-40d1-8c60-c03f86fbf8d5",
   "metadata": {},
   "outputs": [],
   "source": [
    "import pickle\n",
    "filename = 'logistic_finalized_model.sav'\n",
    "loaded_model = pickle.load(open(filename, 'rb'))"
   ]
  },
  {
   "cell_type": "code",
   "execution_count": 7,
   "id": "98ae4a71-f0df-495b-aec5-b633b35987f4",
   "metadata": {},
   "outputs": [
    {
     "name": "stdout",
     "output_type": "stream",
     "text": [
      "              precision    recall  f1-score   support\n",
      "\n",
      "           0       0.93      1.00      0.96        38\n",
      "           1       1.00      0.70      0.82        10\n",
      "\n",
      "    accuracy                           0.94        48\n",
      "   macro avg       0.96      0.85      0.89        48\n",
      "weighted avg       0.94      0.94      0.93        48\n",
      "\n"
     ]
    },
    {
     "name": "stderr",
     "output_type": "stream",
     "text": [
      "C:\\Users\\Dennis\\anaconda3\\lib\\site-packages\\sklearn\\base.py:443: UserWarning: X has feature names, but LogisticRegression was fitted without feature names\n",
      "  warnings.warn(\n"
     ]
    }
   ],
   "source": [
    "y_predFinal = loaded_model.predict(x_test2)\n",
    "print(classification_report(y_predFinal, y_test2))"
   ]
  },
  {
   "cell_type": "code",
   "execution_count": 8,
   "id": "8c0f2a09-61ed-4d8d-98c8-54ec8011c6a0",
   "metadata": {},
   "outputs": [
    {
     "name": "stderr",
     "output_type": "stream",
     "text": [
      "C:\\Users\\Dennis\\anaconda3\\lib\\site-packages\\sklearn\\utils\\deprecation.py:87: FutureWarning: Function plot_confusion_matrix is deprecated; Function `plot_confusion_matrix` is deprecated in 1.0 and will be removed in 1.2. Use one of the class methods: ConfusionMatrixDisplay.from_predictions or ConfusionMatrixDisplay.from_estimator.\n",
      "  warnings.warn(msg, category=FutureWarning)\n",
      "C:\\Users\\Dennis\\anaconda3\\lib\\site-packages\\sklearn\\base.py:443: UserWarning: X has feature names, but LogisticRegression was fitted without feature names\n",
      "  warnings.warn(\n"
     ]
    },
    {
     "data": {
      "text/plain": [
       "<sklearn.metrics._plot.confusion_matrix.ConfusionMatrixDisplay at 0x19f541edd90>"
      ]
     },
     "execution_count": 8,
     "metadata": {},
     "output_type": "execute_result"
    },
    {
     "data": {
      "image/png": "[encoded data removed]",
      "text/plain": [
       "<Figure size 432x288 with 2 Axes>"
      ]
     },
     "metadata": {
      "needs_background": "light"
     },
     "output_type": "display_data"
    }
   ],
   "source": [
    "plot_confusion_matrix(loaded_model, x_test2, y_test2) "
   ]
  },
  {
   "cell_type": "code",
   "execution_count": 380,
   "id": "1342ddfb-717a-430e-9338-2ed24d5492d6",
   "metadata": {},
   "outputs": [
    {
     "name": "stderr",
     "output_type": "stream",
     "text": [
      "C:\\Users\\Dennis\\anaconda3\\lib\\site-packages\\sklearn\\utils\\deprecation.py:87: FutureWarning: Function plot_roc_curve is deprecated; Function :func:`plot_roc_curve` is deprecated in 1.0 and will be removed in 1.2. Use one of the class methods: :meth:`sklearn.metrics.RocCurveDisplay.from_predictions` or :meth:`sklearn.metrics.RocCurveDisplay.from_estimator`.\n",
      "  warnings.warn(msg, category=FutureWarning)\n"
     ]
    },
    {
     "data": {
      "text/plain": [
       "<sklearn.metrics._plot.roc_curve.RocCurveDisplay at 0x1ec99990550>"
      ]
     },
     "execution_count": 380,
     "metadata": {},
     "output_type": "execute_result"
    },
    {
     "data": {
      "image/png": "[encoded data removed]",
      "text/plain": [
       "<Figure size 432x288 with 1 Axes>"
      ]
     },
     "metadata": {
      "needs_background": "light"
     },
     "output_type": "display_data"
    }
   ],
   "source": [
    "metrics.plot_roc_curve(loaded_model, x_test2, y_test2) "
   ]
  },
  {
   "cell_type": "code",
   "execution_count": null,
   "id": "21e6cbfa-c334-4dcb-b47d-cd18cbea6eff",
   "metadata": {},
   "outputs": [],
   "source": []
  }
 ],
 "metadata": {
  "kernelspec": {
   "display_name": "Python 3 (ipykernel)",
   "language": "python",
   "name": "python3"
  },
  "language_info": {
   "codemirror_mode": {
    "name": "ipython",
    "version": 3
   },
   "file_extension": ".py",
   "mimetype": "text/x-python",
   "name": "python",
   "nbconvert_exporter": "python",
   "pygments_lexer": "ipython3",
   "version": "3.9.7"
  },
  "toc-autonumbering": true
 },
 "nbformat": 4,
 "nbformat_minor": 5
}
